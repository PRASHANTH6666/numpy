{
  "cells": [
    {
      "cell_type": "markdown",
      "metadata": {
        "id": "view-in-github",
        "colab_type": "text"
      },
      "source": [
        "<a href=\"https://colab.research.google.com/github/PRSAHANTH666/numpy/blob/main/Numpy_tasks.ipynb\" target=\"_parent\"><img src=\"https://colab.research.google.com/assets/colab-badge.svg\" alt=\"Open In Colab\"/></a>"
      ]
    },
    {
      "cell_type": "markdown",
      "metadata": {
        "id": "LmcUhI7axOV3"
      },
      "source": [
        "# Numpy\n",
        "\n"
      ]
    },
    {
      "cell_type": "markdown",
      "metadata": {
        "id": "YL--6RYRxOWJ"
      },
      "source": [
        "#### 1. Import the numpy package under the name `np` (★☆☆) \n",
        "(**hint**: import … as …)"
      ]
    },
    {
      "cell_type": "code",
      "execution_count": 1,
      "metadata": {
        "collapsed": true,
        "id": "LmMT4NQLxOWO"
      },
      "outputs": [],
      "source": [
        "import numpy as np"
      ]
    },
    {
      "cell_type": "markdown",
      "metadata": {
        "id": "lkD2KOFTxOWU"
      },
      "source": [
        "#### 2. Print the numpy version and the configuration (★☆☆) \n",
        "(**hint**: np.\\_\\_version\\_\\_, np.show\\_config)"
      ]
    },
    {
      "cell_type": "code",
      "execution_count": 2,
      "metadata": {
        "colab": {
          "base_uri": "https://localhost:8080/"
        },
        "id": "1a1-hElWxOWX",
        "outputId": "140a769d-ee83-448a-f3db-7f2d53bc9703"
      },
      "outputs": [
        {
          "output_type": "stream",
          "name": "stdout",
          "text": [
            "blas_mkl_info:\n",
            "  NOT AVAILABLE\n",
            "blis_info:\n",
            "  NOT AVAILABLE\n",
            "openblas_info:\n",
            "    libraries = ['openblas', 'openblas']\n",
            "    library_dirs = ['/usr/local/lib']\n",
            "    language = c\n",
            "    define_macros = [('HAVE_CBLAS', None)]\n",
            "    runtime_library_dirs = ['/usr/local/lib']\n",
            "blas_opt_info:\n",
            "    libraries = ['openblas', 'openblas']\n",
            "    library_dirs = ['/usr/local/lib']\n",
            "    language = c\n",
            "    define_macros = [('HAVE_CBLAS', None)]\n",
            "    runtime_library_dirs = ['/usr/local/lib']\n",
            "lapack_mkl_info:\n",
            "  NOT AVAILABLE\n",
            "openblas_lapack_info:\n",
            "    libraries = ['openblas', 'openblas']\n",
            "    library_dirs = ['/usr/local/lib']\n",
            "    language = c\n",
            "    define_macros = [('HAVE_CBLAS', None)]\n",
            "    runtime_library_dirs = ['/usr/local/lib']\n",
            "lapack_opt_info:\n",
            "    libraries = ['openblas', 'openblas']\n",
            "    library_dirs = ['/usr/local/lib']\n",
            "    language = c\n",
            "    define_macros = [('HAVE_CBLAS', None)]\n",
            "    runtime_library_dirs = ['/usr/local/lib']\n",
            "Supported SIMD extensions in this NumPy install:\n",
            "    baseline = SSE,SSE2,SSE3\n",
            "    found = SSSE3,SSE41,POPCNT,SSE42,AVX,F16C,FMA3,AVX2\n",
            "    not found = AVX512F,AVX512CD,AVX512_KNL,AVX512_KNM,AVX512_SKX,AVX512_CLX,AVX512_CNL,AVX512_ICL\n"
          ]
        }
      ],
      "source": [
        "np.__version__\n",
        "np.__config__.show()"
      ]
    },
    {
      "cell_type": "markdown",
      "metadata": {
        "id": "7SlU0Ud2xOWY"
      },
      "source": [
        "#### 3. Create a null vector of size 10 (★☆☆) \n",
        "(**hint**: np.zeros)"
      ]
    },
    {
      "cell_type": "code",
      "execution_count": 3,
      "metadata": {
        "id": "WFGkbxKaxOWa",
        "colab": {
          "base_uri": "https://localhost:8080/"
        },
        "outputId": "48a97322-eb44-4e56-cdb4-6883ddc6e2bd"
      },
      "outputs": [
        {
          "output_type": "execute_result",
          "data": {
            "text/plain": [
              "array([0., 0., 0., 0., 0., 0., 0., 0., 0., 0.])"
            ]
          },
          "metadata": {},
          "execution_count": 3
        }
      ],
      "source": [
        "np.zeros(10)"
      ]
    },
    {
      "cell_type": "markdown",
      "metadata": {
        "id": "krwfa7KXxOWb"
      },
      "source": [
        "#### 4.  How to find the memory size of any array (★☆☆) \n",
        "(**hint**: size, itemsize)"
      ]
    },
    {
      "cell_type": "code",
      "execution_count": 4,
      "metadata": {
        "id": "kNwxBAFZxOWe",
        "colab": {
          "base_uri": "https://localhost:8080/"
        },
        "outputId": "890547c3-fa28-4b63-e1df-dc1c9dd53faa"
      },
      "outputs": [
        {
          "output_type": "execute_result",
          "data": {
            "text/plain": [
              "3"
            ]
          },
          "metadata": {},
          "execution_count": 4
        }
      ],
      "source": [
        "x = np.array([100,20,34])\n",
        "x.size"
      ]
    },
    {
      "cell_type": "code",
      "source": [
        "x.itemsize"
      ],
      "metadata": {
        "colab": {
          "base_uri": "https://localhost:8080/"
        },
        "id": "9sFgWxaIcjkX",
        "outputId": "e7df5264-a77c-4154-abf5-e64315cf6df8"
      },
      "execution_count": 5,
      "outputs": [
        {
          "output_type": "execute_result",
          "data": {
            "text/plain": [
              "8"
            ]
          },
          "metadata": {},
          "execution_count": 5
        }
      ]
    },
    {
      "cell_type": "markdown",
      "metadata": {
        "id": "shTpK7iaxOWf"
      },
      "source": [
        "#### 5.  How to get the documentation of the numpy add function from the command line? (★☆☆) \n",
        "(**hint**: np.info)"
      ]
    },
    {
      "cell_type": "code",
      "execution_count": 6,
      "metadata": {
        "collapsed": true,
        "id": "EW-ObGQFxOWi",
        "colab": {
          "base_uri": "https://localhost:8080/"
        },
        "outputId": "31651676-599a-4f63-8ae6-b9a9bedd5204"
      },
      "outputs": [
        {
          "output_type": "execute_result",
          "data": {
            "text/plain": [
              "<function numpy.info(object=None, maxwidth=76, output=<ipykernel.iostream.OutStream object at 0x7f3609732af0>, toplevel='numpy')>"
            ]
          },
          "metadata": {},
          "execution_count": 6
        }
      ],
      "source": [
        "np.info"
      ]
    },
    {
      "cell_type": "markdown",
      "metadata": {
        "id": "ifXnwYPUxOWk"
      },
      "source": [
        "#### 6.  Create a null vector of size 10 but the fifth value which is 1 (★☆☆) \n",
        "(**hint**: array\\[4\\])"
      ]
    },
    {
      "cell_type": "code",
      "execution_count": 7,
      "metadata": {
        "id": "hWQIChlBxOWm",
        "colab": {
          "base_uri": "https://localhost:8080/"
        },
        "outputId": "1dd46025-3e36-4023-e0bd-d8e445d8b8ae"
      },
      "outputs": [
        {
          "output_type": "execute_result",
          "data": {
            "text/plain": [
              "array([0., 0., 0., 0., 1., 0., 0., 0., 0., 0.])"
            ]
          },
          "metadata": {},
          "execution_count": 7
        }
      ],
      "source": [
        "a=np.zeros(10)\n",
        "a[4]=1\n",
        "a"
      ]
    },
    {
      "cell_type": "markdown",
      "metadata": {
        "id": "MdKL8f4_xOWn"
      },
      "source": [
        "#### 7.  Create a vector with values ranging from 10 to 49 (★☆☆) \n",
        "(**hint**: np.arange)"
      ]
    },
    {
      "cell_type": "code",
      "execution_count": 8,
      "metadata": {
        "id": "kjTAPY3HxOWp",
        "colab": {
          "base_uri": "https://localhost:8080/"
        },
        "outputId": "3a4f556e-8907-416f-e0dc-dbe298fac44f"
      },
      "outputs": [
        {
          "output_type": "execute_result",
          "data": {
            "text/plain": [
              "array([10, 11, 12, 13, 14, 15, 16, 17, 18, 19, 20, 21, 22, 23, 24, 25, 26,\n",
              "       27, 28, 29, 30, 31, 32, 33, 34, 35, 36, 37, 38, 39, 40, 41, 42, 43,\n",
              "       44, 45, 46, 47, 48, 49])"
            ]
          },
          "metadata": {},
          "execution_count": 8
        }
      ],
      "source": [
        "np.arange(10,50)"
      ]
    },
    {
      "cell_type": "markdown",
      "metadata": {
        "id": "8tPxyysGxOWq"
      },
      "source": [
        "#### 8.  Reverse a vector (first element becomes last) (★☆☆) \n",
        "(**hint**: array\\[::-1\\])"
      ]
    },
    {
      "cell_type": "code",
      "execution_count": 9,
      "metadata": {
        "id": "Mlz9TMqTxOWr",
        "colab": {
          "base_uri": "https://localhost:8080/"
        },
        "outputId": "1d07c275-2297-40ef-82be-59f4bd7fd5f4"
      },
      "outputs": [
        {
          "output_type": "execute_result",
          "data": {
            "text/plain": [
              "array([49, 48, 47, 46, 45, 44, 43, 42, 41, 40, 39, 38, 37, 36, 35, 34, 33,\n",
              "       32, 31, 30, 29, 28, 27, 26, 25, 24, 23, 22, 21, 20, 19, 18, 17, 16,\n",
              "       15, 14, 13, 12, 11, 10])"
            ]
          },
          "metadata": {},
          "execution_count": 9
        }
      ],
      "source": [
        "a=np.arange(10,50)\n",
        "z=a[:: -1]\n",
        "z"
      ]
    },
    {
      "cell_type": "markdown",
      "metadata": {
        "id": "UTSH4PAbxOWs"
      },
      "source": [
        "#### 9.  Create a 3x3 matrix with values ranging from 0 to 8 (★☆☆) \n",
        "(**hint**: reshape)"
      ]
    },
    {
      "cell_type": "code",
      "execution_count": 10,
      "metadata": {
        "id": "xOYAtdV0xOWt",
        "colab": {
          "base_uri": "https://localhost:8080/"
        },
        "outputId": "fd688563-8db7-4417-cbc2-415710605ff3"
      },
      "outputs": [
        {
          "output_type": "execute_result",
          "data": {
            "text/plain": [
              "array([[0, 1, 2],\n",
              "       [3, 4, 5],\n",
              "       [6, 7, 8]])"
            ]
          },
          "metadata": {},
          "execution_count": 10
        }
      ],
      "source": [
        "np.arange(9).reshape(3,3)"
      ]
    },
    {
      "cell_type": "markdown",
      "metadata": {
        "id": "_puWYGg6xOWu"
      },
      "source": [
        "#### 10. Find indices of non-zero elements from \\[1,2,0,0,4,0\\] (★☆☆) \n",
        "(**hint**: np.nonzero)"
      ]
    },
    {
      "cell_type": "code",
      "execution_count": 11,
      "metadata": {
        "id": "AF5ferJzxOWv",
        "colab": {
          "base_uri": "https://localhost:8080/"
        },
        "outputId": "1d82d365-b9b7-4c71-a77f-d1d25be61281"
      },
      "outputs": [
        {
          "output_type": "execute_result",
          "data": {
            "text/plain": [
              "(array([0, 1, 4]),)"
            ]
          },
          "metadata": {},
          "execution_count": 11
        }
      ],
      "source": [
        "n=np.nonzero([1,2,0,0,4,0])\n",
        "n"
      ]
    },
    {
      "cell_type": "markdown",
      "metadata": {
        "id": "YTGHqBeCxOWw"
      },
      "source": [
        "#### 11. Create a 3x3 identity matrix (★☆☆) \n",
        "(**hint**: np.eye)"
      ]
    },
    {
      "cell_type": "code",
      "execution_count": 12,
      "metadata": {
        "id": "4a6AD8rQxOWx",
        "colab": {
          "base_uri": "https://localhost:8080/"
        },
        "outputId": "b0780473-a8bb-4ace-94d0-dacbc60675a2"
      },
      "outputs": [
        {
          "output_type": "execute_result",
          "data": {
            "text/plain": [
              "array([[1., 0., 0.],\n",
              "       [0., 1., 0.],\n",
              "       [0., 0., 1.]])"
            ]
          },
          "metadata": {},
          "execution_count": 12
        }
      ],
      "source": [
        "np.eye(3)"
      ]
    },
    {
      "cell_type": "markdown",
      "metadata": {
        "id": "Lq5FTqLexOWy"
      },
      "source": [
        "#### 12. Create a 3x3x3 array with random values (★☆☆) \n",
        "(**hint**: np.random.random)"
      ]
    },
    {
      "cell_type": "code",
      "execution_count": 13,
      "metadata": {
        "collapsed": true,
        "id": "rjCtVcufxOWz",
        "colab": {
          "base_uri": "https://localhost:8080/"
        },
        "outputId": "fe88f35e-2800-44ea-8670-ef4e5900713d"
      },
      "outputs": [
        {
          "output_type": "execute_result",
          "data": {
            "text/plain": [
              "array([1.72296434, 2.81001767, 1.25661406])"
            ]
          },
          "metadata": {},
          "execution_count": 13
        }
      ],
      "source": [
        "a=np.random.uniform((3,3,3))\n",
        "a"
      ]
    },
    {
      "cell_type": "markdown",
      "metadata": {
        "id": "4rELFFB9xOW0"
      },
      "source": [
        "#### 13. Create a 10x10 array with random values and find the minimum and maximum values (★☆☆) \n",
        "(**hint**: min, max)"
      ]
    },
    {
      "cell_type": "code",
      "execution_count": 14,
      "metadata": {
        "id": "1JU4sopXxOW1",
        "colab": {
          "base_uri": "https://localhost:8080/"
        },
        "outputId": "a39b5679-d67c-42a6-c9ad-6596390b2705"
      },
      "outputs": [
        {
          "output_type": "stream",
          "name": "stdout",
          "text": [
            "0.9966645436565005 0.0009844957062408177\n"
          ]
        }
      ],
      "source": [
        "s=np.random.random((10,10))\n",
        "smin=s.min()\n",
        "smax=s.max()\n",
        "print(smax,smin)"
      ]
    },
    {
      "cell_type": "markdown",
      "metadata": {
        "id": "xtEe_CQMxOW2"
      },
      "source": [
        "#### 14. Create a random vector of size 30 and find the mean value (★☆☆) \n",
        "(**hint**: mean)"
      ]
    },
    {
      "cell_type": "code",
      "execution_count": 15,
      "metadata": {
        "id": "BG0rtBFsxOW4",
        "colab": {
          "base_uri": "https://localhost:8080/"
        },
        "outputId": "e3a6b8ce-c2f9-449c-ab26-2c4e3b4cc519"
      },
      "outputs": [
        {
          "output_type": "execute_result",
          "data": {
            "text/plain": [
              "0.5302718332818889"
            ]
          },
          "metadata": {},
          "execution_count": 15
        }
      ],
      "source": [
        "c=np.random.random((10,10))\n",
        "c.mean()"
      ]
    },
    {
      "cell_type": "markdown",
      "metadata": {
        "id": "LFproU0axOW5"
      },
      "source": [
        "#### 15. Create a 2d array with 1 on the border and 0 inside (★☆☆) \n",
        "(**hint**: array\\[1:-1, 1:-1\\])"
      ]
    },
    {
      "cell_type": "code",
      "execution_count": 16,
      "metadata": {
        "id": "6CwdSsrjxOW6",
        "colab": {
          "base_uri": "https://localhost:8080/"
        },
        "outputId": "9da55300-8a9b-4e4b-a544-43ab79733a93"
      },
      "outputs": [
        {
          "output_type": "execute_result",
          "data": {
            "text/plain": [
              "array([[1., 1., 1., 1., 1., 1., 1., 1., 1., 1.],\n",
              "       [1., 0., 0., 0., 0., 0., 0., 0., 0., 1.],\n",
              "       [1., 0., 0., 0., 0., 0., 0., 0., 0., 1.],\n",
              "       [1., 0., 0., 0., 0., 0., 0., 0., 0., 1.],\n",
              "       [1., 0., 0., 0., 0., 0., 0., 0., 0., 1.],\n",
              "       [1., 0., 0., 0., 0., 0., 0., 0., 0., 1.],\n",
              "       [1., 0., 0., 0., 0., 0., 0., 0., 0., 1.],\n",
              "       [1., 0., 0., 0., 0., 0., 0., 0., 0., 1.],\n",
              "       [1., 0., 0., 0., 0., 0., 0., 0., 0., 1.],\n",
              "       [1., 1., 1., 1., 1., 1., 1., 1., 1., 1.]])"
            ]
          },
          "metadata": {},
          "execution_count": 16
        }
      ],
      "source": [
        "z = np.ones((10,10))\n",
        "z[1:-1,1:-1]=0\n",
        "z"
      ]
    },
    {
      "cell_type": "markdown",
      "metadata": {
        "id": "m-leVarGxOW6"
      },
      "source": [
        "#### 16. How to add a border (filled with 0's) around an existing array? (★☆☆) \n",
        "(**hint**: np.pad)"
      ]
    },
    {
      "cell_type": "code",
      "execution_count": 17,
      "metadata": {
        "id": "ZX8e_5fvxOW7",
        "colab": {
          "base_uri": "https://localhost:8080/"
        },
        "outputId": "cbfb8791-81ba-4a9e-cd29-9a330e188f58"
      },
      "outputs": [
        {
          "output_type": "execute_result",
          "data": {
            "text/plain": [
              "array([[0., 0., 0., 0., 0., 0., 0., 0., 0., 0., 0., 0.],\n",
              "       [0., 1., 1., 1., 1., 1., 1., 1., 1., 1., 1., 0.],\n",
              "       [0., 1., 0., 0., 0., 0., 0., 0., 0., 0., 1., 0.],\n",
              "       [0., 1., 0., 0., 0., 0., 0., 0., 0., 0., 1., 0.],\n",
              "       [0., 1., 0., 0., 0., 0., 0., 0., 0., 0., 1., 0.],\n",
              "       [0., 1., 0., 0., 0., 0., 0., 0., 0., 0., 1., 0.],\n",
              "       [0., 1., 0., 0., 0., 0., 0., 0., 0., 0., 1., 0.],\n",
              "       [0., 1., 0., 0., 0., 0., 0., 0., 0., 0., 1., 0.],\n",
              "       [0., 1., 0., 0., 0., 0., 0., 0., 0., 0., 1., 0.],\n",
              "       [0., 1., 0., 0., 0., 0., 0., 0., 0., 0., 1., 0.],\n",
              "       [0., 1., 1., 1., 1., 1., 1., 1., 1., 1., 1., 0.],\n",
              "       [0., 0., 0., 0., 0., 0., 0., 0., 0., 0., 0., 0.]])"
            ]
          },
          "metadata": {},
          "execution_count": 17
        }
      ],
      "source": [
        "x = np.pad(z, pad_width=1, mode='constant', constant_values=0)\n",
        "x"
      ]
    },
    {
      "cell_type": "markdown",
      "metadata": {
        "id": "_ccnnOz2xOW8"
      },
      "source": [
        "#### 17. What is the result of the following expression? (★☆☆) \n",
        "(**hint**: NaN = not a number, inf = infinity)"
      ]
    },
    {
      "cell_type": "markdown",
      "metadata": {
        "id": "O1QWsD9HxOW9"
      },
      "source": [
        "```python\n",
        "0 * np.nan\n",
        "np.nan == np.nan\n",
        "np.inf > np.nan\n",
        "np.nan - np.nan\n",
        "0.3 == 3 * 0.1\n",
        "```"
      ]
    },
    {
      "cell_type": "code",
      "execution_count": 18,
      "metadata": {
        "id": "FmUXmOClxOW-",
        "colab": {
          "base_uri": "https://localhost:8080/"
        },
        "outputId": "115d4f62-2e79-42ca-edf2-459da29b5bd9"
      },
      "outputs": [
        {
          "output_type": "execute_result",
          "data": {
            "text/plain": [
              "False"
            ]
          },
          "metadata": {},
          "execution_count": 18
        }
      ],
      "source": [
        "0 * np.nan\n",
        "np.nan == np.nan\n",
        "np.inf > np.nan\n",
        "np.nan - np.nan\n",
        "0.3 == 3 * 0.1"
      ]
    },
    {
      "cell_type": "markdown",
      "metadata": {
        "id": "nibx0Z5rxOW_"
      },
      "source": [
        "#### 18. Create a 5x5 matrix with values 1,2,3,4 just below the diagonal (★☆☆) \n",
        "(**hint**: np.diag)"
      ]
    },
    {
      "cell_type": "code",
      "execution_count": 19,
      "metadata": {
        "id": "1S53LM8UxOXB",
        "colab": {
          "base_uri": "https://localhost:8080/"
        },
        "outputId": "cc34fcb0-bdf3-4b56-b315-f50116242c57"
      },
      "outputs": [
        {
          "output_type": "stream",
          "name": "stdout",
          "text": [
            "[[0 0 0 0 0]\n",
            " [1 0 0 0 0]\n",
            " [0 2 0 0 0]\n",
            " [0 0 3 0 0]\n",
            " [0 0 0 4 0]]\n"
          ]
        }
      ],
      "source": [
        "Z = np.diag(1+np.arange(4), k = -1)\n",
        "print (Z)"
      ]
    },
    {
      "cell_type": "markdown",
      "metadata": {
        "id": "cmXT2wZaxOXC"
      },
      "source": [
        "#### 19. Create a 8x8 matrix and fill it with a checkerboard pattern (★☆☆) \n",
        "(**hint**: array\\[::2\\])"
      ]
    },
    {
      "cell_type": "code",
      "execution_count": 20,
      "metadata": {
        "id": "FH0JL_VAxOXD",
        "colab": {
          "base_uri": "https://localhost:8080/"
        },
        "outputId": "b3e540e7-123c-441f-ebf8-b28a0ad95b56"
      },
      "outputs": [
        {
          "output_type": "stream",
          "name": "stdout",
          "text": [
            "[[0 1 0 1 0 1 0 1]\n",
            " [1 0 1 0 1 0 1 0]\n",
            " [0 1 0 1 0 1 0 1]\n",
            " [1 0 1 0 1 0 1 0]\n",
            " [0 1 0 1 0 1 0 1]\n",
            " [1 0 1 0 1 0 1 0]\n",
            " [0 1 0 1 0 1 0 1]\n",
            " [1 0 1 0 1 0 1 0]]\n"
          ]
        }
      ],
      "source": [
        "Z = np.zeros ((8,8), dtype=int)\n",
        "Z[1::2, ::2]= 1\n",
        "Z[::2, 1::2] = 1\n",
        "print (Z)"
      ]
    },
    {
      "cell_type": "markdown",
      "metadata": {
        "id": "Y7aJedi4xOXF"
      },
      "source": [
        "#### 20. Consider a (6,7,8) shape array, what is the index (x,y,z) of the 100th element? \n",
        "(**hint**: np.unravel_index)"
      ]
    },
    {
      "cell_type": "code",
      "execution_count": 21,
      "metadata": {
        "id": "ErXIuhvwxOXJ",
        "colab": {
          "base_uri": "https://localhost:8080/"
        },
        "outputId": "ce45ade6-774e-44f7-a5d1-5678933386b6"
      },
      "outputs": [
        {
          "output_type": "execute_result",
          "data": {
            "text/plain": [
              "(1, 5, 4)"
            ]
          },
          "metadata": {},
          "execution_count": 21
        }
      ],
      "source": [
        "np.unravel_index(100, (6,7,8))"
      ]
    },
    {
      "cell_type": "markdown",
      "metadata": {
        "id": "I0uUXrXlxOXK"
      },
      "source": [
        "#### 21. Create a checkerboard 8x8 matrix using the tile function (★☆☆) \n",
        "(**hint**: np.tile)"
      ]
    },
    {
      "cell_type": "code",
      "execution_count": 22,
      "metadata": {
        "id": "-H6rJJSHxOXK",
        "colab": {
          "base_uri": "https://localhost:8080/"
        },
        "outputId": "3c963f28-c627-4690-fa4a-c73cd6ebef8a"
      },
      "outputs": [
        {
          "output_type": "stream",
          "name": "stdout",
          "text": [
            "[[0 1 0 1 0 1 0 1]\n",
            " [1 0 1 0 1 0 1 0]\n",
            " [0 1 0 1 0 1 0 1]\n",
            " [1 0 1 0 1 0 1 0]\n",
            " [0 1 0 1 0 1 0 1]\n",
            " [1 0 1 0 1 0 1 0]\n",
            " [0 1 0 1 0 1 0 1]\n",
            " [1 0 1 0 1 0 1 0]]\n"
          ]
        }
      ],
      "source": [
        "array= np.array([[0,1], [1,0]])\n",
        "Z = np.tile(array,(4,4))\n",
        "print (Z)"
      ]
    },
    {
      "cell_type": "markdown",
      "metadata": {
        "id": "XSRTVhPdxOXL"
      },
      "source": [
        "#### 22. Normalize a 5x5 random matrix (★☆☆) \n",
        "(**hint**: (x - min) / (max - min))"
      ]
    },
    {
      "cell_type": "code",
      "execution_count": 23,
      "metadata": {
        "id": "qdXCOagSxOXM",
        "colab": {
          "base_uri": "https://localhost:8080/"
        },
        "outputId": "cebb4307-6447-4a40-bf00-eadbcd29ba7b"
      },
      "outputs": [
        {
          "output_type": "stream",
          "name": "stdout",
          "text": [
            "[[0.12548478 0.44768362 0.49999588 0.70047267 0.12760426]\n",
            " [0.22132652 1.         0.74676476 0.43139416 0.06248777]\n",
            " [0.13494792 0.77294998 0.08505703 0.68861725 0.53030625]\n",
            " [0.09953761 0.18048021 0.39803698 0.52609231 0.04102787]\n",
            " [0.1116249  0.83192494 0.83094363 0.         0.65545882]]\n"
          ]
        }
      ],
      "source": [
        "Z = np.random.random((5,5))\n",
        "Zmax, Zmin = Z.max(), Z.min()\n",
        "Z= (Z-Zmin)/(Zmax-Zmin)\n",
        "print (Z)"
      ]
    },
    {
      "cell_type": "markdown",
      "metadata": {
        "id": "1aQZ7FB9xOXN"
      },
      "source": [
        "#### 23. Create a custom dtype that describes a color as four unsigned bytes (RGBA) (★☆☆) \n",
        "(**hint**: np.dtype)"
      ]
    },
    {
      "cell_type": "code",
      "execution_count": 23,
      "metadata": {
        "collapsed": true,
        "id": "cY9Z0mo9xOXN"
      },
      "outputs": [],
      "source": []
    },
    {
      "cell_type": "markdown",
      "metadata": {
        "id": "aZIflJDmxOXO"
      },
      "source": [
        "#### 24. Multiply a 5x3 matrix by a 3x2 matrix (real matrix product) (★☆☆) \n",
        "(**hint**: np.dot | @)"
      ]
    },
    {
      "cell_type": "code",
      "execution_count": 32,
      "metadata": {
        "id": "E47M6GAhxOXP",
        "colab": {
          "base_uri": "https://localhost:8080/"
        },
        "outputId": "e6b88fc3-e9e0-4046-cd5f-9bb3cdcf64bc"
      },
      "outputs": [
        {
          "output_type": "execute_result",
          "data": {
            "text/plain": [
              "5"
            ]
          },
          "metadata": {},
          "execution_count": 32
        }
      ],
      "source": [
        "a=np.random.randint((5,3))\n",
        "b=np.random.randint((3,2))\n",
        "c=a@b\n",
        "c"
      ]
    },
    {
      "cell_type": "markdown",
      "metadata": {
        "id": "GF0nfqX3xOXP"
      },
      "source": [
        "#### 25. Given a 1D array, negate all elements which are between 3 and 8, in place. (★☆☆) \n",
        "(**hint**: >, <=)"
      ]
    },
    {
      "cell_type": "code",
      "execution_count": 23,
      "metadata": {
        "id": "jElU6FhuxOXQ"
      },
      "outputs": [],
      "source": []
    },
    {
      "cell_type": "markdown",
      "metadata": {
        "id": "7PxsOqvPxOXQ"
      },
      "source": [
        "#### 26. What is the output of the following script? (★☆☆) \n",
        "(**hint**: np.sum)"
      ]
    },
    {
      "cell_type": "markdown",
      "metadata": {
        "id": "JvUka6rkxOXR"
      },
      "source": [
        "```python\n",
        "# Author: Jake VanderPlas\n",
        "\n",
        "print(sum(range(5),-1))\n",
        "from numpy import *\n",
        "print(sum(range(5),-1))\n",
        "```"
      ]
    },
    {
      "cell_type": "code",
      "execution_count": 24,
      "metadata": {
        "id": "25_s5cm0xOXT",
        "colab": {
          "base_uri": "https://localhost:8080/"
        },
        "outputId": "ba6f8a4b-3aab-44a3-dfa1-802ca0a365b8"
      },
      "outputs": [
        {
          "output_type": "stream",
          "name": "stdout",
          "text": [
            "9\n",
            "10\n"
          ]
        }
      ],
      "source": [
        "print(sum(range(5),-1))\n",
        "from numpy import *\n",
        "print(sum(range(5),-1))"
      ]
    },
    {
      "cell_type": "markdown",
      "metadata": {
        "id": "WiT8uNV_xOXU"
      },
      "source": [
        "#### 27. Consider an integer vector Z, which of these expressions are legal? (★☆☆)"
      ]
    },
    {
      "cell_type": "markdown",
      "metadata": {
        "id": "Bcd6FDYyxOXV"
      },
      "source": [
        "```python\n",
        "Z**Z\n",
        "2 << Z >> 2\n",
        "Z <- Z\n",
        "1j*Z\n",
        "Z/1/1\n",
        "Z<Z>Z\n",
        "```"
      ]
    },
    {
      "cell_type": "code",
      "execution_count": 25,
      "metadata": {
        "id": "4WaHmhB3xOXW",
        "colab": {
          "base_uri": "https://localhost:8080/"
        },
        "outputId": "d6da0a5c-4e4a-4447-dedb-d8a44cf01e2a"
      },
      "outputs": [
        {
          "output_type": "execute_result",
          "data": {
            "text/plain": [
              "array([[1., 1., 1., 1., 1., 1., 1., 1., 1., 1.],\n",
              "       [1., 1., 1., 1., 1., 1., 1., 1., 1., 1.],\n",
              "       [1., 1., 1., 1., 1., 1., 1., 1., 1., 1.],\n",
              "       [1., 1., 1., 1., 1., 1., 1., 1., 1., 1.],\n",
              "       [1., 1., 1., 1., 1., 1., 1., 1., 1., 1.],\n",
              "       [1., 1., 1., 1., 1., 1., 1., 1., 1., 1.],\n",
              "       [1., 1., 1., 1., 1., 1., 1., 1., 1., 1.],\n",
              "       [1., 1., 1., 1., 1., 1., 1., 1., 1., 1.],\n",
              "       [1., 1., 1., 1., 1., 1., 1., 1., 1., 1.],\n",
              "       [1., 1., 1., 1., 1., 1., 1., 1., 1., 1.]])"
            ]
          },
          "metadata": {},
          "execution_count": 25
        }
      ],
      "source": [
        "z**z"
      ]
    },
    {
      "cell_type": "markdown",
      "metadata": {
        "id": "hOSXSUeFxOXX"
      },
      "source": [
        "#### 28. What are the result of the following expressions?"
      ]
    },
    {
      "cell_type": "markdown",
      "metadata": {
        "id": "4JjH1ZI_xOXY"
      },
      "source": [
        "```python\n",
        "np.array(0) / np.array(0)\n",
        "np.array(0) // np.array(0)\n",
        "np.array([np.nan]).astype(int).astype(float)\n",
        "```"
      ]
    },
    {
      "cell_type": "code",
      "execution_count": 34,
      "metadata": {
        "id": "BAwBDZY-xOXZ",
        "colab": {
          "base_uri": "https://localhost:8080/"
        },
        "outputId": "701b1856-d807-4f47-dc47-34f999f24f09"
      },
      "outputs": [
        {
          "output_type": "execute_result",
          "data": {
            "text/plain": [
              "<ufunc 'negative'>"
            ]
          },
          "metadata": {},
          "execution_count": 34
        }
      ],
      "source": [
        "negative "
      ]
    },
    {
      "cell_type": "markdown",
      "metadata": {
        "id": "PG4Mvrc_xOXZ"
      },
      "source": [
        "#### 29. How to round away from zero a float array ? (★☆☆) \n",
        "(**hint**: np.uniform, np.copysign, np.ceil, np.abs)"
      ]
    },
    {
      "cell_type": "code",
      "execution_count": 35,
      "metadata": {
        "id": "tmJZcwkQxOXa",
        "colab": {
          "base_uri": "https://localhost:8080/"
        },
        "outputId": "a58f6f5d-8535-4e3c-c93e-e8e5e2bf928f"
      },
      "outputs": [
        {
          "output_type": "execute_result",
          "data": {
            "text/plain": [
              "25.67"
            ]
          },
          "metadata": {},
          "execution_count": 35
        }
      ],
      "source": [
        "np.abs(25.67)"
      ]
    },
    {
      "cell_type": "markdown",
      "metadata": {
        "id": "FvWN-q0axOXa"
      },
      "source": [
        "#### 30. How to find common values between two arrays? (★☆☆) \n",
        "(**hint**: np.intersect1d)"
      ]
    },
    {
      "cell_type": "code",
      "execution_count": 39,
      "metadata": {
        "id": "wy_MK42YxOXb",
        "colab": {
          "base_uri": "https://localhost:8080/"
        },
        "outputId": "34ba1b36-0b14-4511-e55c-9f08ffcdcb2c"
      },
      "outputs": [
        {
          "output_type": "execute_result",
          "data": {
            "text/plain": [
              "array([1])"
            ]
          },
          "metadata": {},
          "execution_count": 39
        }
      ],
      "source": [
        "np.intersect1d(a,b)"
      ]
    },
    {
      "cell_type": "markdown",
      "metadata": {
        "id": "EEyycAtkxOXc"
      },
      "source": [
        "#### 31. How to ignore all numpy warnings (not recommended)? (★☆☆) \n",
        "(**hint**: np.seterr, np.errstate)"
      ]
    },
    {
      "cell_type": "code",
      "execution_count": 40,
      "metadata": {
        "id": "p8QgUQwRxOXc",
        "colab": {
          "base_uri": "https://localhost:8080/"
        },
        "outputId": "bad087d7-dff4-4222-afe0-28547926458e"
      },
      "outputs": [
        {
          "output_type": "execute_result",
          "data": {
            "text/plain": [
              "numpy.errstate"
            ]
          },
          "metadata": {},
          "execution_count": 40
        }
      ],
      "source": [
        "np.errstate"
      ]
    },
    {
      "cell_type": "markdown",
      "metadata": {
        "id": "n_MCWsfyxOXd"
      },
      "source": [
        "#### 32. Is the following expressions true? (★☆☆) \n",
        "(**hint**: imaginary number)"
      ]
    },
    {
      "cell_type": "markdown",
      "metadata": {
        "id": "n4tUqU98xOXe"
      },
      "source": [
        "```python\n",
        "np.sqrt(-1) == np.emath.sqrt(-1)\n",
        "```"
      ]
    },
    {
      "cell_type": "code",
      "execution_count": 44,
      "metadata": {
        "id": "sUk2fAQnxOXe",
        "colab": {
          "base_uri": "https://localhost:8080/"
        },
        "outputId": "31ee0234-dde3-4ab5-fe28-87f882158fdf"
      },
      "outputs": [
        {
          "output_type": "execute_result",
          "data": {
            "text/plain": [
              "False"
            ]
          },
          "metadata": {},
          "execution_count": 44
        }
      ],
      "source": [
        "False"
      ]
    },
    {
      "cell_type": "markdown",
      "metadata": {
        "id": "pYHPM5RwxOXf"
      },
      "source": [
        "#### 33. How to get the dates of yesterday, today and tomorrow? (★☆☆) \n",
        "(**hint**: np.datetime64, np.timedelta64)"
      ]
    },
    {
      "cell_type": "code",
      "execution_count": 52,
      "metadata": {
        "collapsed": true,
        "id": "0XNgnMi8xOXg",
        "colab": {
          "base_uri": "https://localhost:8080/"
        },
        "outputId": "2c69972e-c3e8-4916-c5c3-a314c0eacab6"
      },
      "outputs": [
        {
          "output_type": "stream",
          "name": "stdout",
          "text": [
            "2022-12-05\n",
            "2022-12-04\n",
            "2022-12-06\n"
          ]
        }
      ],
      "source": [
        "import datetime\n",
        "\n",
        "today=datetime.date.today()\n",
        "print(today)\n",
        "yesterday=today-datetime.timedelta(days=1)\n",
        "print(yesterday)\n",
        "tomorrow=today+datetime.timedelta(days=1)\n",
        "print(tomorrow)"
      ]
    },
    {
      "cell_type": "markdown",
      "metadata": {
        "id": "DrL06YU_xOXg"
      },
      "source": [
        "#### 34. How to get all the dates corresponding to the month of July 2016? (★★☆) \n",
        "(**hint**: np.arange(dtype=datetime64\\['D'\\]))"
      ]
    },
    {
      "cell_type": "code",
      "execution_count": 60,
      "metadata": {
        "id": "O6Ys9TsAxOXh",
        "colab": {
          "base_uri": "https://localhost:8080/"
        },
        "outputId": "a6002b44-997b-476c-ab94-f759468d7963"
      },
      "outputs": [
        {
          "output_type": "execute_result",
          "data": {
            "text/plain": [
              "array(['2016-06-01', '2016-06-02', '2016-06-03', '2016-06-04',\n",
              "       '2016-06-05', '2016-06-06', '2016-06-07', '2016-06-08',\n",
              "       '2016-06-09', '2016-06-10', '2016-06-11', '2016-06-12',\n",
              "       '2016-06-13', '2016-06-14', '2016-06-15', '2016-06-16',\n",
              "       '2016-06-17', '2016-06-18', '2016-06-19', '2016-06-20',\n",
              "       '2016-06-21', '2016-06-22', '2016-06-23', '2016-06-24',\n",
              "       '2016-06-25', '2016-06-26', '2016-06-27', '2016-06-28',\n",
              "       '2016-06-29', '2016-06-30'], dtype='datetime64[D]')"
            ]
          },
          "metadata": {},
          "execution_count": 60
        }
      ],
      "source": [
        "np.arange('2016-06','2016-07',dtype='datetime64[D]')"
      ]
    },
    {
      "cell_type": "markdown",
      "metadata": {
        "id": "VsvvXggjxOXi"
      },
      "source": [
        "#### 35. How to compute ((A+B)\\*(-A/2)) in place (without copy)? (★★☆) \n",
        "(**hint**: np.add(out=), np.negative(out=), np.multiply(out=), np.divide(out=))"
      ]
    },
    {
      "cell_type": "code",
      "execution_count": 26,
      "metadata": {
        "id": "dHpmDcHzxOXi"
      },
      "outputs": [],
      "source": []
    },
    {
      "cell_type": "markdown",
      "metadata": {
        "id": "NAQop2ovxOXj"
      },
      "source": [
        "#### 36. Extract the integer part of a random array using 5 different methods (★★☆) \n",
        "(**hint**: %, np.floor, np.ceil, astype, np.trunc)"
      ]
    },
    {
      "cell_type": "code",
      "execution_count": 63,
      "metadata": {
        "id": "AJ-L3tQsxOXk",
        "colab": {
          "base_uri": "https://localhost:8080/"
        },
        "outputId": "2e8dce08-6902-4c7e-804b-c94325f94a4f"
      },
      "outputs": [
        {
          "output_type": "stream",
          "name": "stdout",
          "text": [
            "[2. 2. 7. 8. 7. 3. 7. 4. 6. 4.]\n",
            "[2. 2. 7. 8. 7. 3. 7. 4. 6. 4.]\n",
            "[3. 3. 8. 9. 8. 4. 8. 5. 7. 5.]\n"
          ]
        }
      ],
      "source": [
        "z=random.uniform(0,10,10)\n",
        "print(z-z%1)\n",
        "print(np.floor(z))\n",
        "print(np.ceil(z))"
      ]
    },
    {
      "cell_type": "markdown",
      "metadata": {
        "id": "H7QuWB8dxOXl"
      },
      "source": [
        "#### 37. Create a 5x5 matrix with row values ranging from 0 to 4 (★★☆) \n",
        "(**hint**: np.arange)"
      ]
    },
    {
      "cell_type": "code",
      "execution_count": 70,
      "metadata": {
        "id": "GXdhHDgixOXn",
        "colab": {
          "base_uri": "https://localhost:8080/"
        },
        "outputId": "8bb1938a-d805-43e1-aa9f-2ac5958e7586"
      },
      "outputs": [
        {
          "output_type": "execute_result",
          "data": {
            "text/plain": [
              "array([[0., 1., 2., 3., 4.],\n",
              "       [0., 1., 2., 3., 4.],\n",
              "       [0., 1., 2., 3., 4.],\n",
              "       [0., 1., 2., 3., 4.],\n",
              "       [0., 1., 2., 3., 4.]])"
            ]
          },
          "metadata": {},
          "execution_count": 70
        }
      ],
      "source": [
        "a=np.zeros((5,5))\n",
        "a+=arange(5)\n",
        "a"
      ]
    },
    {
      "cell_type": "markdown",
      "metadata": {
        "id": "x9rW8AclxOXn"
      },
      "source": [
        "#### 38. Consider a generator function that generates 10 integers and use it to build an array (★☆☆) \n",
        "(**hint**: np.fromiter)"
      ]
    },
    {
      "cell_type": "code",
      "execution_count": 72,
      "metadata": {
        "id": "CclPYGTnxOXp",
        "colab": {
          "base_uri": "https://localhost:8080/"
        },
        "outputId": "26d05c09-b430-4e88-d300-145f0d3bccae"
      },
      "outputs": [
        {
          "output_type": "execute_result",
          "data": {
            "text/plain": [
              "array([0, 1, 2, 3, 4, 5, 6, 7, 8, 9])"
            ]
          },
          "metadata": {},
          "execution_count": 72
        }
      ],
      "source": [
        "np.arange(10)"
      ]
    },
    {
      "cell_type": "markdown",
      "metadata": {
        "id": "xWZiqKAFxOXq"
      },
      "source": [
        "#### 39. Create a vector of size 10 with values ranging from 0 to 1, both excluded (★★☆) \n",
        "(**hint**: np.linspace)"
      ]
    },
    {
      "cell_type": "code",
      "execution_count": 79,
      "metadata": {
        "id": "zCkZ13BrxOXr",
        "colab": {
          "base_uri": "https://localhost:8080/"
        },
        "outputId": "3ea69778-7632-4b5e-df2d-d6c3bf71155d"
      },
      "outputs": [
        {
          "output_type": "execute_result",
          "data": {
            "text/plain": [
              "array([0, 1, 2, 3])"
            ]
          },
          "metadata": {},
          "execution_count": 79
        }
      ],
      "source": [
        "a=np.arange(0,4)\n",
        "a"
      ]
    },
    {
      "cell_type": "markdown",
      "metadata": {
        "id": "sgJFevBvxOXs"
      },
      "source": [
        "#### 40. Create a random vector of size 10 and sort it (★★☆) \n",
        "(**hint**: sort)"
      ]
    },
    {
      "cell_type": "code",
      "execution_count": 83,
      "metadata": {
        "id": "CfqqbG-1xOXs",
        "colab": {
          "base_uri": "https://localhost:8080/"
        },
        "outputId": "6c2d331e-87ca-4e2f-e777-e238a745a27a"
      },
      "outputs": [
        {
          "output_type": "execute_result",
          "data": {
            "text/plain": [
              "array([0, 1, 2, 3, 4, 5, 6, 7, 8, 9])"
            ]
          },
          "metadata": {},
          "execution_count": 83
        }
      ],
      "source": [
        "b=np.arange(10)\n",
        "b"
      ]
    },
    {
      "cell_type": "markdown",
      "metadata": {
        "id": "1agOJJycxOXt"
      },
      "source": [
        "#### 41. How to sum a small array faster than np.sum? (★★☆) \n",
        "(**hint**: np.add.reduce)"
      ]
    },
    {
      "cell_type": "code",
      "execution_count": 26,
      "metadata": {
        "id": "4IAuYAlHxOXu"
      },
      "outputs": [],
      "source": []
    },
    {
      "cell_type": "markdown",
      "metadata": {
        "id": "aydgrjsCxOXu"
      },
      "source": [
        "#### 42. Consider two random array A and B, check if they are equal (★★☆) \n",
        "(**hint**: np.allclose, np.array\\_equal)"
      ]
    },
    {
      "cell_type": "code",
      "execution_count": 84,
      "metadata": {
        "id": "-93JgZ42xOXv",
        "colab": {
          "base_uri": "https://localhost:8080/"
        },
        "outputId": "443eb6cd-f121-42f6-bd7a-b50c45b6b588"
      },
      "outputs": [
        {
          "output_type": "execute_result",
          "data": {
            "text/plain": [
              "array([ True,  True,  True,  True,  True,  True,  True,  True,  True,\n",
              "        True])"
            ]
          },
          "metadata": {},
          "execution_count": 84
        }
      ],
      "source": [
        "a=np.arange(10)\n",
        "b=np.arange(10)\n",
        "a==b"
      ]
    },
    {
      "cell_type": "markdown",
      "metadata": {
        "id": "KiIEHh_fxOXv"
      },
      "source": [
        "#### 43. Make an array immutable (read-only) (★★☆) \n",
        "(**hint**: flags.writeable)"
      ]
    },
    {
      "cell_type": "code",
      "execution_count": 26,
      "metadata": {
        "id": "IOwpTUYBxOXw"
      },
      "outputs": [],
      "source": []
    },
    {
      "cell_type": "markdown",
      "metadata": {
        "id": "30rgeVFfxOXx"
      },
      "source": [
        "#### 44. Consider a random 10x2 matrix representing cartesian coordinates, convert them to polar coordinates (★★☆) \n",
        "(**hint**: np.sqrt, np.arctan2)"
      ]
    },
    {
      "cell_type": "code",
      "execution_count": 88,
      "metadata": {
        "id": "qWaHkfsuxOXy",
        "colab": {
          "base_uri": "https://localhost:8080/"
        },
        "outputId": "aac55a9c-5fa8-47e5-d3ab-292fe74890a9"
      },
      "outputs": [
        {
          "output_type": "execute_result",
          "data": {
            "text/plain": [
              "array([[84, 52],\n",
              "       [ 7,  8],\n",
              "       [61, 67],\n",
              "       [92, 91],\n",
              "       [95, 40],\n",
              "       [88, 41],\n",
              "       [22,  1],\n",
              "       [ 0, 36],\n",
              "       [11, 15],\n",
              "       [51, 59]])"
            ]
          },
          "metadata": {},
          "execution_count": 88
        }
      ],
      "source": [
        "np.random.randint(0,100,(10,2))"
      ]
    },
    {
      "cell_type": "markdown",
      "metadata": {
        "id": "yfcRKIW5xOXy"
      },
      "source": [
        "#### 45. Create random vector of size 10 and replace the maximum value by 0 (★★☆) \n",
        "(**hint**: argmax)"
      ]
    },
    {
      "cell_type": "code",
      "execution_count": 89,
      "metadata": {
        "id": "-cxUwkLxxOXz",
        "colab": {
          "base_uri": "https://localhost:8080/"
        },
        "outputId": "2ae99711-28b1-4eb3-98b2-cb26b8925292"
      },
      "outputs": [
        {
          "output_type": "stream",
          "name": "stdout",
          "text": [
            "[0.07043853 0.21599152 0.1666286  0.49688083 0.22754302 0.6437741\n",
            " 0.51819347 0.59084942 0.         0.75941684]\n"
          ]
        }
      ],
      "source": [
        "Z = np.random.random(10)\n",
        "Z[Z.argmax()] = 0\n",
        "print(Z)"
      ]
    },
    {
      "cell_type": "markdown",
      "metadata": {
        "id": "VdVwS61lxOXz"
      },
      "source": [
        "#### 46. Create a structured array with `x` and `y` coordinates covering the \\[0,1\\]x\\[0,1\\] area (★★☆) \n",
        "(**hint**: np.meshgrid)"
      ]
    },
    {
      "cell_type": "code",
      "execution_count": 90,
      "metadata": {
        "id": "6qK03grlxOX0",
        "colab": {
          "base_uri": "https://localhost:8080/"
        },
        "outputId": "01ad0900-f99b-4ce4-d0d7-6ec5d4349b63"
      },
      "outputs": [
        {
          "output_type": "stream",
          "name": "stdout",
          "text": [
            "[[(0.  , 0.  ) (0.25, 0.  ) (0.5 , 0.  ) (0.75, 0.  ) (1.  , 0.  )]\n",
            " [(0.  , 0.25) (0.25, 0.25) (0.5 , 0.25) (0.75, 0.25) (1.  , 0.25)]\n",
            " [(0.  , 0.5 ) (0.25, 0.5 ) (0.5 , 0.5 ) (0.75, 0.5 ) (1.  , 0.5 )]\n",
            " [(0.  , 0.75) (0.25, 0.75) (0.5 , 0.75) (0.75, 0.75) (1.  , 0.75)]\n",
            " [(0.  , 1.  ) (0.25, 1.  ) (0.5 , 1.  ) (0.75, 1.  ) (1.  , 1.  )]]\n"
          ]
        }
      ],
      "source": [
        "Z = np.zeros((5,5), [('x',float),('y',float)])\n",
        "Z['x'], Z['y'] = np.meshgrid(np.linspace(0,1,5),\n",
        "                             np.linspace(0,1,5))\n",
        "print(Z)"
      ]
    },
    {
      "cell_type": "markdown",
      "metadata": {
        "id": "2Apb42uhxOX1"
      },
      "source": [
        "####  47. Given two arrays, X and Y, construct the Cauchy matrix C (Cij =1/(xi - yj)) \n",
        "(**hint**: np.subtract.outer)"
      ]
    },
    {
      "cell_type": "code",
      "execution_count": 91,
      "metadata": {
        "id": "rAU_-GcxxOX1",
        "colab": {
          "base_uri": "https://localhost:8080/"
        },
        "outputId": "d70c2051-5ade-4066-ffdd-2bcb77f78aa3"
      },
      "outputs": [
        {
          "output_type": "stream",
          "name": "stdout",
          "text": [
            "3638.163637117973\n"
          ]
        }
      ],
      "source": [
        "X = np.arange(8)\n",
        "Y = X + 0.5\n",
        "C = 1.0 / np.subtract.outer(X, Y)\n",
        "print(np.linalg.det(C))"
      ]
    },
    {
      "cell_type": "markdown",
      "metadata": {
        "id": "gP73kC4exOX2"
      },
      "source": [
        "#### 48. Print the minimum and maximum representable value for each numpy scalar type (★★☆) \n",
        "(**hint**: np.iinfo, np.finfo, eps)"
      ]
    },
    {
      "cell_type": "code",
      "execution_count": 92,
      "metadata": {
        "id": "376auEtFxOX3",
        "colab": {
          "base_uri": "https://localhost:8080/"
        },
        "outputId": "1bb8bfa1-4ab5-443c-e6db-871d9292e2dd"
      },
      "outputs": [
        {
          "output_type": "stream",
          "name": "stdout",
          "text": [
            "-128\n",
            "127\n",
            "-2147483648\n",
            "2147483647\n",
            "-9223372036854775808\n",
            "9223372036854775807\n",
            "-3.4028235e+38\n",
            "3.4028235e+38\n",
            "1.1920929e-07\n",
            "-1.7976931348623157e+308\n",
            "1.7976931348623157e+308\n",
            "2.220446049250313e-16\n"
          ]
        }
      ],
      "source": [
        "for dtype in [np.int8, np.int32, np.int64]:\n",
        "   print(np.iinfo(dtype).min)\n",
        "   print(np.iinfo(dtype).max)\n",
        "for dtype in [np.float32, np.float64]:\n",
        "   print(np.finfo(dtype).min)\n",
        "   print(np.finfo(dtype).max)\n",
        "   print(np.finfo(dtype).eps)"
      ]
    },
    {
      "cell_type": "markdown",
      "metadata": {
        "id": "MyFzndhkxOX4"
      },
      "source": [
        "#### 49. How to print all the values of an array? (★★☆) \n",
        "(**hint**: np.set\\_printoptions)"
      ]
    },
    {
      "cell_type": "code",
      "execution_count": 93,
      "metadata": {
        "id": "ZKKK1rHpxOX6",
        "colab": {
          "base_uri": "https://localhost:8080/"
        },
        "outputId": "ca924c60-2283-4e9b-ab10-eac39f1cfb9e"
      },
      "outputs": [
        {
          "output_type": "stream",
          "name": "stdout",
          "text": [
            "[[0. 0. 0. 0. 0. 0. 0. 0. 0. 0. 0. 0. 0. 0. 0. 0. 0. 0. 0. 0. 0. 0. 0. 0.\n",
            "  0. 0. 0. 0. 0. 0. 0. 0. 0. 0. 0. 0. 0. 0. 0. 0.]\n",
            " [0. 0. 0. 0. 0. 0. 0. 0. 0. 0. 0. 0. 0. 0. 0. 0. 0. 0. 0. 0. 0. 0. 0. 0.\n",
            "  0. 0. 0. 0. 0. 0. 0. 0. 0. 0. 0. 0. 0. 0. 0. 0.]\n",
            " [0. 0. 0. 0. 0. 0. 0. 0. 0. 0. 0. 0. 0. 0. 0. 0. 0. 0. 0. 0. 0. 0. 0. 0.\n",
            "  0. 0. 0. 0. 0. 0. 0. 0. 0. 0. 0. 0. 0. 0. 0. 0.]\n",
            " [0. 0. 0. 0. 0. 0. 0. 0. 0. 0. 0. 0. 0. 0. 0. 0. 0. 0. 0. 0. 0. 0. 0. 0.\n",
            "  0. 0. 0. 0. 0. 0. 0. 0. 0. 0. 0. 0. 0. 0. 0. 0.]\n",
            " [0. 0. 0. 0. 0. 0. 0. 0. 0. 0. 0. 0. 0. 0. 0. 0. 0. 0. 0. 0. 0. 0. 0. 0.\n",
            "  0. 0. 0. 0. 0. 0. 0. 0. 0. 0. 0. 0. 0. 0. 0. 0.]\n",
            " [0. 0. 0. 0. 0. 0. 0. 0. 0. 0. 0. 0. 0. 0. 0. 0. 0. 0. 0. 0. 0. 0. 0. 0.\n",
            "  0. 0. 0. 0. 0. 0. 0. 0. 0. 0. 0. 0. 0. 0. 0. 0.]\n",
            " [0. 0. 0. 0. 0. 0. 0. 0. 0. 0. 0. 0. 0. 0. 0. 0. 0. 0. 0. 0. 0. 0. 0. 0.\n",
            "  0. 0. 0. 0. 0. 0. 0. 0. 0. 0. 0. 0. 0. 0. 0. 0.]\n",
            " [0. 0. 0. 0. 0. 0. 0. 0. 0. 0. 0. 0. 0. 0. 0. 0. 0. 0. 0. 0. 0. 0. 0. 0.\n",
            "  0. 0. 0. 0. 0. 0. 0. 0. 0. 0. 0. 0. 0. 0. 0. 0.]\n",
            " [0. 0. 0. 0. 0. 0. 0. 0. 0. 0. 0. 0. 0. 0. 0. 0. 0. 0. 0. 0. 0. 0. 0. 0.\n",
            "  0. 0. 0. 0. 0. 0. 0. 0. 0. 0. 0. 0. 0. 0. 0. 0.]\n",
            " [0. 0. 0. 0. 0. 0. 0. 0. 0. 0. 0. 0. 0. 0. 0. 0. 0. 0. 0. 0. 0. 0. 0. 0.\n",
            "  0. 0. 0. 0. 0. 0. 0. 0. 0. 0. 0. 0. 0. 0. 0. 0.]\n",
            " [0. 0. 0. 0. 0. 0. 0. 0. 0. 0. 0. 0. 0. 0. 0. 0. 0. 0. 0. 0. 0. 0. 0. 0.\n",
            "  0. 0. 0. 0. 0. 0. 0. 0. 0. 0. 0. 0. 0. 0. 0. 0.]\n",
            " [0. 0. 0. 0. 0. 0. 0. 0. 0. 0. 0. 0. 0. 0. 0. 0. 0. 0. 0. 0. 0. 0. 0. 0.\n",
            "  0. 0. 0. 0. 0. 0. 0. 0. 0. 0. 0. 0. 0. 0. 0. 0.]\n",
            " [0. 0. 0. 0. 0. 0. 0. 0. 0. 0. 0. 0. 0. 0. 0. 0. 0. 0. 0. 0. 0. 0. 0. 0.\n",
            "  0. 0. 0. 0. 0. 0. 0. 0. 0. 0. 0. 0. 0. 0. 0. 0.]\n",
            " [0. 0. 0. 0. 0. 0. 0. 0. 0. 0. 0. 0. 0. 0. 0. 0. 0. 0. 0. 0. 0. 0. 0. 0.\n",
            "  0. 0. 0. 0. 0. 0. 0. 0. 0. 0. 0. 0. 0. 0. 0. 0.]\n",
            " [0. 0. 0. 0. 0. 0. 0. 0. 0. 0. 0. 0. 0. 0. 0. 0. 0. 0. 0. 0. 0. 0. 0. 0.\n",
            "  0. 0. 0. 0. 0. 0. 0. 0. 0. 0. 0. 0. 0. 0. 0. 0.]\n",
            " [0. 0. 0. 0. 0. 0. 0. 0. 0. 0. 0. 0. 0. 0. 0. 0. 0. 0. 0. 0. 0. 0. 0. 0.\n",
            "  0. 0. 0. 0. 0. 0. 0. 0. 0. 0. 0. 0. 0. 0. 0. 0.]\n",
            " [0. 0. 0. 0. 0. 0. 0. 0. 0. 0. 0. 0. 0. 0. 0. 0. 0. 0. 0. 0. 0. 0. 0. 0.\n",
            "  0. 0. 0. 0. 0. 0. 0. 0. 0. 0. 0. 0. 0. 0. 0. 0.]\n",
            " [0. 0. 0. 0. 0. 0. 0. 0. 0. 0. 0. 0. 0. 0. 0. 0. 0. 0. 0. 0. 0. 0. 0. 0.\n",
            "  0. 0. 0. 0. 0. 0. 0. 0. 0. 0. 0. 0. 0. 0. 0. 0.]\n",
            " [0. 0. 0. 0. 0. 0. 0. 0. 0. 0. 0. 0. 0. 0. 0. 0. 0. 0. 0. 0. 0. 0. 0. 0.\n",
            "  0. 0. 0. 0. 0. 0. 0. 0. 0. 0. 0. 0. 0. 0. 0. 0.]\n",
            " [0. 0. 0. 0. 0. 0. 0. 0. 0. 0. 0. 0. 0. 0. 0. 0. 0. 0. 0. 0. 0. 0. 0. 0.\n",
            "  0. 0. 0. 0. 0. 0. 0. 0. 0. 0. 0. 0. 0. 0. 0. 0.]\n",
            " [0. 0. 0. 0. 0. 0. 0. 0. 0. 0. 0. 0. 0. 0. 0. 0. 0. 0. 0. 0. 0. 0. 0. 0.\n",
            "  0. 0. 0. 0. 0. 0. 0. 0. 0. 0. 0. 0. 0. 0. 0. 0.]\n",
            " [0. 0. 0. 0. 0. 0. 0. 0. 0. 0. 0. 0. 0. 0. 0. 0. 0. 0. 0. 0. 0. 0. 0. 0.\n",
            "  0. 0. 0. 0. 0. 0. 0. 0. 0. 0. 0. 0. 0. 0. 0. 0.]\n",
            " [0. 0. 0. 0. 0. 0. 0. 0. 0. 0. 0. 0. 0. 0. 0. 0. 0. 0. 0. 0. 0. 0. 0. 0.\n",
            "  0. 0. 0. 0. 0. 0. 0. 0. 0. 0. 0. 0. 0. 0. 0. 0.]\n",
            " [0. 0. 0. 0. 0. 0. 0. 0. 0. 0. 0. 0. 0. 0. 0. 0. 0. 0. 0. 0. 0. 0. 0. 0.\n",
            "  0. 0. 0. 0. 0. 0. 0. 0. 0. 0. 0. 0. 0. 0. 0. 0.]\n",
            " [0. 0. 0. 0. 0. 0. 0. 0. 0. 0. 0. 0. 0. 0. 0. 0. 0. 0. 0. 0. 0. 0. 0. 0.\n",
            "  0. 0. 0. 0. 0. 0. 0. 0. 0. 0. 0. 0. 0. 0. 0. 0.]\n",
            " [0. 0. 0. 0. 0. 0. 0. 0. 0. 0. 0. 0. 0. 0. 0. 0. 0. 0. 0. 0. 0. 0. 0. 0.\n",
            "  0. 0. 0. 0. 0. 0. 0. 0. 0. 0. 0. 0. 0. 0. 0. 0.]\n",
            " [0. 0. 0. 0. 0. 0. 0. 0. 0. 0. 0. 0. 0. 0. 0. 0. 0. 0. 0. 0. 0. 0. 0. 0.\n",
            "  0. 0. 0. 0. 0. 0. 0. 0. 0. 0. 0. 0. 0. 0. 0. 0.]\n",
            " [0. 0. 0. 0. 0. 0. 0. 0. 0. 0. 0. 0. 0. 0. 0. 0. 0. 0. 0. 0. 0. 0. 0. 0.\n",
            "  0. 0. 0. 0. 0. 0. 0. 0. 0. 0. 0. 0. 0. 0. 0. 0.]\n",
            " [0. 0. 0. 0. 0. 0. 0. 0. 0. 0. 0. 0. 0. 0. 0. 0. 0. 0. 0. 0. 0. 0. 0. 0.\n",
            "  0. 0. 0. 0. 0. 0. 0. 0. 0. 0. 0. 0. 0. 0. 0. 0.]\n",
            " [0. 0. 0. 0. 0. 0. 0. 0. 0. 0. 0. 0. 0. 0. 0. 0. 0. 0. 0. 0. 0. 0. 0. 0.\n",
            "  0. 0. 0. 0. 0. 0. 0. 0. 0. 0. 0. 0. 0. 0. 0. 0.]\n",
            " [0. 0. 0. 0. 0. 0. 0. 0. 0. 0. 0. 0. 0. 0. 0. 0. 0. 0. 0. 0. 0. 0. 0. 0.\n",
            "  0. 0. 0. 0. 0. 0. 0. 0. 0. 0. 0. 0. 0. 0. 0. 0.]\n",
            " [0. 0. 0. 0. 0. 0. 0. 0. 0. 0. 0. 0. 0. 0. 0. 0. 0. 0. 0. 0. 0. 0. 0. 0.\n",
            "  0. 0. 0. 0. 0. 0. 0. 0. 0. 0. 0. 0. 0. 0. 0. 0.]\n",
            " [0. 0. 0. 0. 0. 0. 0. 0. 0. 0. 0. 0. 0. 0. 0. 0. 0. 0. 0. 0. 0. 0. 0. 0.\n",
            "  0. 0. 0. 0. 0. 0. 0. 0. 0. 0. 0. 0. 0. 0. 0. 0.]\n",
            " [0. 0. 0. 0. 0. 0. 0. 0. 0. 0. 0. 0. 0. 0. 0. 0. 0. 0. 0. 0. 0. 0. 0. 0.\n",
            "  0. 0. 0. 0. 0. 0. 0. 0. 0. 0. 0. 0. 0. 0. 0. 0.]\n",
            " [0. 0. 0. 0. 0. 0. 0. 0. 0. 0. 0. 0. 0. 0. 0. 0. 0. 0. 0. 0. 0. 0. 0. 0.\n",
            "  0. 0. 0. 0. 0. 0. 0. 0. 0. 0. 0. 0. 0. 0. 0. 0.]\n",
            " [0. 0. 0. 0. 0. 0. 0. 0. 0. 0. 0. 0. 0. 0. 0. 0. 0. 0. 0. 0. 0. 0. 0. 0.\n",
            "  0. 0. 0. 0. 0. 0. 0. 0. 0. 0. 0. 0. 0. 0. 0. 0.]\n",
            " [0. 0. 0. 0. 0. 0. 0. 0. 0. 0. 0. 0. 0. 0. 0. 0. 0. 0. 0. 0. 0. 0. 0. 0.\n",
            "  0. 0. 0. 0. 0. 0. 0. 0. 0. 0. 0. 0. 0. 0. 0. 0.]\n",
            " [0. 0. 0. 0. 0. 0. 0. 0. 0. 0. 0. 0. 0. 0. 0. 0. 0. 0. 0. 0. 0. 0. 0. 0.\n",
            "  0. 0. 0. 0. 0. 0. 0. 0. 0. 0. 0. 0. 0. 0. 0. 0.]\n",
            " [0. 0. 0. 0. 0. 0. 0. 0. 0. 0. 0. 0. 0. 0. 0. 0. 0. 0. 0. 0. 0. 0. 0. 0.\n",
            "  0. 0. 0. 0. 0. 0. 0. 0. 0. 0. 0. 0. 0. 0. 0. 0.]\n",
            " [0. 0. 0. 0. 0. 0. 0. 0. 0. 0. 0. 0. 0. 0. 0. 0. 0. 0. 0. 0. 0. 0. 0. 0.\n",
            "  0. 0. 0. 0. 0. 0. 0. 0. 0. 0. 0. 0. 0. 0. 0. 0.]]\n"
          ]
        }
      ],
      "source": [
        "np.set_printoptions(threshold=float(\"inf\"))\n",
        "Z = np.zeros((40,40))\n",
        "print(Z)"
      ]
    },
    {
      "cell_type": "markdown",
      "metadata": {
        "id": "7OHCKF3-xOX7"
      },
      "source": [
        "#### 50. How to find the closest value (to a given scalar) in a vector? (★★☆) \n",
        "(**hint**: argmin)"
      ]
    },
    {
      "cell_type": "code",
      "execution_count": 94,
      "metadata": {
        "id": "d0EZBKCsxOX8",
        "colab": {
          "base_uri": "https://localhost:8080/"
        },
        "outputId": "dd2dfd76-9512-43dc-b005-a4e5baf61b20"
      },
      "outputs": [
        {
          "output_type": "stream",
          "name": "stdout",
          "text": [
            "97\n"
          ]
        }
      ],
      "source": [
        "Z = np.arange(100)\n",
        "v = np.random.uniform(0,100)\n",
        "index = (np.abs(Z-v)).argmin()\n",
        "print(Z[index])"
      ]
    },
    {
      "cell_type": "markdown",
      "metadata": {
        "id": "9uR5kMPwxOX9"
      },
      "source": [
        "#### 51. Create a structured array representing a position (x,y) and a color (r,g,b) (★★☆) \n",
        "(**hint**: dtype)"
      ]
    },
    {
      "cell_type": "code",
      "execution_count": 95,
      "metadata": {
        "id": "LCvjMny_xOX9",
        "colab": {
          "base_uri": "https://localhost:8080/"
        },
        "outputId": "87292739-f060-4420-af43-ca0067caaa2e"
      },
      "outputs": [
        {
          "output_type": "stream",
          "name": "stdout",
          "text": [
            "[((0., 0.), (0., 0., 0.)) ((0., 0.), (0., 0., 0.))\n",
            " ((0., 0.), (0., 0., 0.)) ((0., 0.), (0., 0., 0.))\n",
            " ((0., 0.), (0., 0., 0.)) ((0., 0.), (0., 0., 0.))\n",
            " ((0., 0.), (0., 0., 0.)) ((0., 0.), (0., 0., 0.))\n",
            " ((0., 0.), (0., 0., 0.)) ((0., 0.), (0., 0., 0.))]\n"
          ]
        },
        {
          "output_type": "stream",
          "name": "stderr",
          "text": [
            "<ipython-input-95-6f1aa4d7a2ff>:1: FutureWarning: Passing (type, 1) or '1type' as a synonym of type is deprecated; in a future version of numpy, it will be understood as (type, (1,)) / '(1,)type'.\n",
            "  Z = np.zeros(10, [ ('position', [ ('x', float, 1),\n"
          ]
        }
      ],
      "source": [
        "Z = np.zeros(10, [ ('position', [ ('x', float, 1),\n",
        "                                  ('y', float, 1)]),\n",
        "                   ('color',    [ ('r', float, 1),\n",
        "                                  ('g', float, 1),\n",
        "                                  ('b', float, 1)])])\n",
        "print(Z)"
      ]
    },
    {
      "cell_type": "markdown",
      "metadata": {
        "id": "HU3AV63WxOX-"
      },
      "source": [
        "#### 52. Consider a random vector with shape (100,2) representing coordinates, find point by point distances (★★☆) \n",
        "(**hint**: np.atleast\\_2d, T, np.sqrt)"
      ]
    },
    {
      "cell_type": "code",
      "execution_count": 98,
      "metadata": {
        "id": "JrXZKlJRxOX_",
        "colab": {
          "base_uri": "https://localhost:8080/"
        },
        "outputId": "4b27fbdd-870b-43ab-ab37-7c03bb83cfaa"
      },
      "outputs": [
        {
          "output_type": "stream",
          "name": "stdout",
          "text": [
            "[[0.         0.47220775 0.0683704  0.61294155 0.17065365 0.64876751\n",
            "  0.56241585 0.45108452 0.53911608 0.78986975 0.65971809 1.0793789\n",
            "  0.9429989  0.29163233 0.09191943 0.32886818 0.7601226  0.60176624\n",
            "  0.62457787 0.20107916 0.93892166 0.16206016 0.26332751 0.73738901\n",
            "  0.43939362 0.26377758 0.08811984 0.51983702 0.93879332 0.45999781\n",
            "  0.21173744 0.51635888 0.43058972 1.04931748 0.27525505 0.42970513\n",
            "  0.92868353 0.93737441 0.1952037  0.06467065 0.83248045 0.56510877\n",
            "  0.85419279 0.92526051 0.70689883 0.11194725 0.56275799 0.89391519\n",
            "  0.48371464 0.91328035 0.81265349 0.68464882 0.01448646 0.26152236\n",
            "  0.38714188 0.98424083 0.67452038 1.01170853 0.40258167 0.8669631\n",
            "  0.7631455  0.9066615  0.93138875 0.87630665 0.42558447 0.46314011\n",
            "  0.32391493 1.0292286  0.30554628 0.11267578 0.47907021 0.95722173\n",
            "  0.52838556 0.74464149 0.58161747 0.41444498 0.91812047 0.7904846\n",
            "  0.19893806 1.07167802 0.27804665 0.74911336 0.55730769 0.82860327\n",
            "  0.47784599 0.94879487 0.07617522 0.36332974 0.93096887 0.14079409\n",
            "  0.70697391 0.09465735 1.00173418 0.10236649 0.16417728 0.78116819\n",
            "  0.6375284  1.09580832 0.37232986 0.36734357]\n",
            " [0.47220775 0.         0.46997392 0.33848154 0.38283998 0.21519305\n",
            "  0.71001337 0.64871448 0.2514113  0.63465183 0.23484332 0.66936261\n",
            "  0.69379502 0.22969639 0.52730399 0.14420449 0.31418336 0.50501821\n",
            "  0.39011673 0.27485429 0.47864964 0.37982905 0.22229673 0.35201163\n",
            "  0.2418579  0.2282142  0.48033996 0.44608443 0.53583381 0.51247806\n",
            "  0.30595478 0.04449008 0.53902904 0.6839987  0.45216149 0.23558012\n",
            "  0.4602709  0.51542404 0.43886802 0.51171749 0.41991311 0.5847278\n",
            "  0.38685269 0.67768101 0.36175114 0.37969203 0.6335796  0.43827509\n",
            "  0.2079643  0.47850586 0.40199664 0.25636411 0.45811387 0.23858567\n",
            "  0.25263104 0.54965467 0.56679831 0.58583196 0.17595895 0.40400125\n",
            "  0.58198657 0.45378623 0.46316435 0.63452014 0.23381331 0.43703065\n",
            "  0.53439823 0.64557448 0.48806383 0.47454223 0.1365418  0.59238336\n",
            "  0.23372377 0.37962437 0.13481829 0.10749291 0.48024781 0.42899369\n",
            "  0.52466426 0.70054178 0.40994819 0.36683924 0.17848321 0.44529349\n",
            "  0.03216943 0.48756411 0.4024257  0.36216716 0.60531765 0.55698052\n",
            "  0.4306511  0.4002179  0.61575092 0.38130764 0.45196901 0.3409993\n",
            "  0.49678992 0.6884982  0.2818196  0.32147497]\n",
            " [0.0683704  0.46997392 0.         0.64707983 0.12105341 0.66028592\n",
            "  0.62989183 0.51903915 0.56802805 0.84149909 0.67325941 1.10101487\n",
            "  0.9873409  0.31738669 0.15613005 0.32607039 0.77030305 0.65451981\n",
            "  0.66390696 0.19560164 0.94511598 0.21302517 0.25028952 0.70715706\n",
            "  0.4024679  0.24745391 0.1562764  0.57185829 0.96078273 0.52067596\n",
            "  0.18089168 0.51445881 0.49429994 1.07915536 0.33747248 0.46153566\n",
            "  0.91793823 0.91032981 0.13073833 0.12892621 0.80503857 0.62625684\n",
            "  0.85632315 0.96956057 0.73475708 0.15324102 0.62702597 0.90187622\n",
            "  0.51015842 0.92784851 0.78520373 0.66377247 0.06506319 0.24149321\n",
            "  0.42188768 0.99934703 0.72816681 1.0292337  0.3760653  0.87164454\n",
            "  0.81182326 0.91570855 0.93295658 0.92057692 0.45725399 0.51715986\n",
            "  0.39060997 1.05571047 0.36992297 0.04430904 0.457277   0.98624202\n",
            "  0.49525793 0.77042043 0.58868736 0.4267346  0.8952209  0.81770121\n",
            "  0.13211203 1.10072159 0.21750403 0.77222423 0.53360544 0.79590456\n",
            "  0.48010051 0.95456657 0.07502511 0.41319468 0.96558973 0.09497623\n",
            "  0.74389758 0.06977433 1.02755054 0.13985113 0.09797389 0.7608807\n",
            "  0.6871959  1.11813486 0.41136783 0.41192496]\n",
            " [0.61294155 0.33848154 0.64707983 0.         0.61395836 0.22713202\n",
            "  0.52596877 0.51952607 0.09190137 0.3015774  0.21180431 0.48955708\n",
            "  0.36433691 0.33172571 0.61857764 0.39472732 0.2910703  0.22420151\n",
            "  0.05909205 0.48158111 0.45451335 0.45688124 0.46830251 0.64210809\n",
            "  0.57490524 0.48011665 0.56939833 0.21642533 0.35380796 0.34163443\n",
            "  0.54890779 0.33035201 0.39521641 0.43841133 0.42035189 0.18580983\n",
            "  0.58769253 0.74441065 0.67917486 0.61787193 0.67483837 0.35419701\n",
            "  0.4224317  0.3472644  0.11440386 0.50118421 0.42082267 0.40483113\n",
            "  0.15065384 0.37304833 0.66199599 0.52924238 0.60304514 0.49484483\n",
            "  0.22594285 0.4323236  0.2604612  0.44394808 0.50193624 0.41041447\n",
            "  0.24620472 0.40673432 0.48492637 0.30122465 0.19014072 0.2558778\n",
            "  0.46803897 0.424996   0.43190954 0.67258775 0.47499164 0.34829549\n",
            "  0.5710943  0.1585205  0.25659867 0.27333398 0.69100796 0.1919985\n",
            "  0.74998816 0.46175705 0.68623724 0.17955808 0.50484378 0.72275406\n",
            "  0.3063216  0.46579966 0.57261564 0.28220232 0.31856407 0.74180531\n",
            "  0.10080511 0.58710148 0.39986508 0.51204603 0.67715766 0.57579327\n",
            "  0.1895767  0.50292942 0.24225717 0.25797732]\n",
            " [0.17065365 0.38283998 0.12105341 0.61395836 0.         0.58785492\n",
            "  0.69416838 0.5895908  0.52727464 0.84358349 0.6036555  1.03896983\n",
            "  0.96993076 0.2863731  0.26192773 0.24584748 0.69404607 0.66295059\n",
            "  0.64085969 0.13238195 0.86141558 0.24691321 0.1625263  0.58955184\n",
            "  0.28293    0.15501412 0.24416022 0.58057935 0.90055521 0.55587654\n",
            "  0.07689244 0.42641629 0.54125003 1.03143889 0.38566861 0.43074136\n",
            "  0.81457096 0.79398094 0.06535053 0.23504145 0.68871073 0.66041186\n",
            "  0.76807866 0.95225083 0.68786414 0.18594938 0.67325313 0.82096149\n",
            "  0.46702796 0.85622799 0.66892707 0.55272855 0.15915058 0.14427649\n",
            "  0.3990434  0.92787761 0.73746112 0.96121442 0.26377414 0.78657627\n",
            "  0.8069061  0.83617591 0.84335749 0.90377792 0.4263764  0.53290205\n",
            "  0.45473119 1.00221463 0.42410376 0.10204573 0.34770098 0.93791709\n",
            "  0.37698035 0.71917589 0.51124279 0.36331519 0.7815669  0.7682446\n",
            "  0.14320977 1.0513847  0.11477821 0.71633062 0.42134868 0.67695046\n",
            "  0.39889121 0.87022556 0.10880585 0.42332256 0.9280116  0.183299\n",
            "  0.7141596  0.08087109 0.97315128 0.17221087 0.06927768 0.6497295\n",
            "  0.68701791 1.05709298 0.39784059 0.41011398]\n",
            " [0.64876751 0.21519305 0.66028592 0.22713202 0.58785492 0.\n",
            "  0.72748785 0.69825576 0.18961777 0.51752064 0.02320759 0.45464948\n",
            "  0.52347583 0.36402169 0.6852693  0.34202439 0.11169642 0.44760205\n",
            "  0.28583888 0.46691343 0.29429311 0.52220687 0.4253697  0.42965163\n",
            "  0.44584289 0.43357071 0.63512432 0.42144232 0.32070191 0.53011559\n",
            "  0.5119579  0.1802201  0.57471168 0.47250468 0.54478748 0.26922812\n",
            "  0.36941161 0.51745836 0.64744767 0.67550954 0.45127278 0.567077\n",
            "  0.22591391 0.50943195 0.18391812 0.54302472 0.62976162 0.24691685\n",
            "  0.20426597 0.26861242 0.43967033 0.31614845 0.63577049 0.44577185\n",
            "  0.31206264 0.3403004  0.48758312 0.37354806 0.38797768 0.22802039\n",
            "  0.45966464 0.25845133 0.30046052 0.47316187 0.27114631 0.44210959\n",
            "  0.61413985 0.43149353 0.57031636 0.67207284 0.32868246 0.38282092\n",
            "  0.40912447 0.18426987 0.08049286 0.23449708 0.46389585 0.22937838\n",
            "  0.73102823 0.48776771 0.62439762 0.16306649 0.32784989 0.50340615\n",
            "  0.19169572 0.30485359 0.58755512 0.41720595 0.40832361 0.75222944\n",
            "  0.28360201 0.59150008 0.40162331 0.54888103 0.65699452 0.35112727\n",
            "  0.41660273 0.47361265 0.34312731 0.37840679]\n",
            " [0.56241585 0.71001337 0.62989183 0.52596877 0.69416838 0.72748785\n",
            "  0.         0.11449333 0.53787398 0.43917458 0.71966396 0.96877075\n",
            "  0.63934685 0.5082574  0.49133516 0.6440169  0.81279205 0.3202799\n",
            "  0.48225106 0.61226743 0.98043876 0.44936573 0.65564518 1.06194748\n",
            "  0.85526188 0.66649178 0.47452375 0.31027811 0.85116867 0.20055938\n",
            "  0.68124024 0.73351613 0.17286277 0.86996143 0.31103869 0.48316089\n",
            "  1.09663756 1.21456846 0.74325541 0.51331509 1.12590513 0.17893404\n",
            "  0.94360333 0.6257279  0.63418367 0.50830915 0.11058923 0.93079942\n",
            "  0.53611457 0.89352644 1.10897308 0.96335975 0.56495457 0.6771521\n",
            "  0.45783599 0.9457985  0.34045638 0.94797235 0.78423375 0.93463667\n",
            "  0.45734071 0.93241337 1.00958755 0.58825268 0.48358188 0.28627623\n",
            "  0.24050005 0.88410538 0.270895   0.67381605 0.81496883 0.80285833\n",
            "  0.90692958 0.67646872 0.71687631 0.60252378 1.17042186 0.69488536\n",
            "  0.76135375 0.89592021 0.80796436 0.70223997 0.88112443 1.15523233\n",
            "  0.68803791 0.99171621 0.59031682 0.34867904 0.7292958  0.6911239\n",
            "  0.55023017 0.6188366  0.86766165 0.52195751 0.7181649  1.03770499\n",
            "  0.37430252 0.97655057 0.42819654 0.38868931]\n",
            " [0.45108452 0.64871448 0.51903915 0.51952607 0.5895908  0.69825576\n",
            "  0.11449333 0.         0.51155106 0.49925705 0.6939391  0.98992336\n",
            "  0.69594451 0.43188416 0.3775805  0.56531911 0.79326036 0.34571537\n",
            "  0.48592991 0.51770473 0.96918255 0.34932486 0.56629616 0.99749777\n",
            "  0.77019793 0.57631659 0.36297392 0.30756446 0.86371646 0.17841524\n",
            "  0.58300542 0.67733336 0.12502755 0.90394005 0.21600834 0.43702459\n",
            "  1.06275762 1.16180802 0.63577488 0.40010447 1.06849669 0.21869747\n",
            "  0.92133282 0.68075444 0.63294586 0.404983   0.16807077 0.91900157\n",
            "  0.49717278 0.89257133 1.05069535 0.9049562  0.45441743 0.58576009\n",
            "  0.40351633 0.95053034 0.38705313 0.9582663  0.70238888 0.91654732\n",
            "  0.50531992 0.9230102  0.99156315 0.63870964 0.43645055 0.2640569\n",
            "  0.13591611 0.9106739  0.17468701 0.5631961  0.74171398 0.8289595\n",
            "  0.82937093 0.67677579 0.67547076 0.54239906 1.12166191 0.70262541\n",
            "  0.64981738 0.92978716 0.70414409 0.69908367 0.81220916 1.09213055\n",
            "  0.63040301 0.98048843 0.48359055 0.29022899 0.76390627 0.57759901\n",
            "  0.56387408 0.51229546 0.8912297  0.41802316 0.60941875 0.98534313\n",
            "  0.4013041  0.99981057 0.37168126 0.33178618]\n",
            " [0.53911608 0.2514113  0.56802805 0.09190137 0.52727464 0.18961777\n",
            "  0.53787398 0.51155106 0.         0.38334032 0.18288646 0.54439439\n",
            "  0.45617343 0.25064602 0.5542561  0.3032713  0.28210803 0.27042617\n",
            "  0.13887252 0.39508124 0.46147233 0.38935399 0.37820751 0.5725038\n",
            "  0.48445827 0.38982377 0.50407484 0.23346561 0.4044075  0.34089417\n",
            "  0.46021531 0.24877478 0.38711168 0.51120763 0.37711819 0.11071417\n",
            "  0.55886159 0.69282742 0.59219966 0.55055393 0.61517514 0.37981994\n",
            "  0.40985016 0.43913718 0.16780047 0.42729686 0.44105476 0.41138527\n",
            "  0.06039474 0.39992375 0.60076781 0.46184584 0.52826106 0.40447237\n",
            "  0.15617134 0.46626429 0.32311195 0.485918   0.41085375 0.40541756\n",
            "  0.33065429 0.41757918 0.48028996 0.3931062  0.11454685 0.25268861\n",
            "  0.43766096 0.49020196 0.39651057 0.59086526 0.38770218 0.41853518\n",
            "  0.48509427 0.20674799 0.19127208 0.18143324 0.64327972 0.25144992\n",
            "  0.66546921 0.53305566 0.59596    0.21572019 0.42330285 0.6576709\n",
            "  0.21952473 0.4726921  0.49306449 0.24113142 0.40091604 0.66300427\n",
            "  0.19179666 0.50546781 0.46295635 0.43697496 0.59191495 0.5190645\n",
            "  0.25134476 0.55979218 0.18051285 0.2073778 ]\n",
            " [0.78986975 0.63465183 0.84149909 0.3015774  0.84358349 0.51752064\n",
            "  0.43917458 0.49925705 0.38334032 0.         0.49817071 0.56817304\n",
            "  0.20018366 0.56191814 0.76180542 0.66310725 0.5487765  0.18851242\n",
            "  0.24549726 0.7172888  0.6664613  0.62922888 0.72320137 0.9421131\n",
            "  0.86253676 0.73580509 0.72096486 0.27005136 0.47879679 0.35787407\n",
            "  0.79196685 0.63060414 0.41092832 0.44911345 0.52931515 0.43215796\n",
            "  0.8493027  1.03030158 0.90766163 0.77140469 0.96874269 0.2808361\n",
            "  0.67053625 0.18691297 0.34502241 0.68841841 0.3364527  0.62361836\n",
            "  0.43071008 0.555993   0.95716192 0.82874868 0.78423585 0.75048411\n",
            "  0.45103171 0.5869234  0.11961098 0.57401721 0.78706401 0.64812301\n",
            "  0.05820804 0.61727898 0.71495933 0.15376327 0.43603385 0.32758101\n",
            "  0.52866028 0.4761996  0.51585437 0.876625   0.77066294 0.40058586\n",
            "  0.86837419 0.3699854  0.55741397 0.55393328 0.9735303  0.35864756\n",
            "  0.96336177 0.4744505  0.93511305 0.40185676 0.80539992 1.02015223\n",
            "  0.60284209 0.67660538 0.77389447 0.42832498 0.3138153  0.92999433\n",
            "  0.23659015 0.79563157 0.46692705 0.70218746 0.89695664 0.86839933\n",
            "  0.15657559 0.57132731 0.44670413 0.43423844]\n",
            " [0.65971809 0.23484332 0.67325941 0.21180431 0.6036555  0.02320759\n",
            "  0.71966396 0.6939391  0.18288646 0.49817071 0.         0.436699\n",
            "  0.50068488 0.37253157 0.69355003 0.35788751 0.10506518 0.43428362\n",
            "  0.26990167 0.48098345 0.28889338 0.5295637  0.44138167 0.45140891\n",
            "  0.4676838  0.44994316 0.64323511 0.41185275 0.30126867 0.52369163\n",
            "  0.52816541 0.20137661 0.56978338 0.45090397 0.54629229 0.26996721\n",
            "  0.37915963 0.53447888 0.66394223 0.68459967 0.47069802 0.55668986\n",
            "  0.2275874  0.48674151 0.16178624 0.55276401 0.62032993 0.24028892\n",
            "  0.2043182  0.25459169 0.45953666 0.33805515 0.64692904 0.46244336\n",
            "  0.31402782 0.32613617 0.47176731 0.35769075 0.40876527 0.22609935\n",
            "  0.4401653  0.2503719  0.30001595 0.45086216 0.27221477 0.43539006\n",
            "  0.61364464 0.41087742 0.57044775 0.68623639 0.35090355 0.36073599\n",
            "  0.43209895 0.16109019 0.10104546 0.24659247 0.47992193 0.20621389\n",
            "  0.7468646  0.46656548 0.64293826 0.13997211 0.3510161  0.52394973\n",
            "  0.21001547 0.29973201 0.59999505 0.41624613 0.38519291 0.76580703\n",
            "  0.26323305 0.60485919 0.38103005 0.55912236 0.67265113 0.37024648\n",
            "  0.40132259 0.45540611 0.34439965 0.37838394]\n",
            " [1.0793789  0.66936261 1.10101487 0.48955708 1.03896983 0.45464948\n",
            "  0.96877075 0.98992336 0.54439439 0.56817304 0.436699   0.\n",
            "  0.41063962 0.78777706 1.09864017 0.79377036 0.36127897 0.64986188\n",
            "  0.50806654 0.91324717 0.27687431 0.93357176 0.87724984 0.76864567\n",
            "  0.88923708 0.88615827 1.04841967 0.68378251 0.14058969 0.8132668\n",
            "  0.96412487 0.63172768 0.87056356 0.14191136 0.90984895 0.65504308\n",
            "  0.50517076 0.73431332 1.10008972 1.09449087 0.73119729 0.79025856\n",
            "  0.36546575 0.41224678 0.37960606 0.96849086 0.8581919  0.2795094\n",
            "  0.59638942 0.2008512  0.73130547 0.67637516 1.067682   0.89887748\n",
            "  0.7005376  0.14256225 0.63357063 0.09616405 0.83859775 0.33076654\n",
            "  0.52732497 0.25992231 0.33942171 0.4221314  0.65879062 0.73516111\n",
            "  0.95542448 0.09379013 0.92090236 1.11772333 0.77048759 0.16845227\n",
            "  0.83434198 0.33801064 0.53461749 0.67718214 0.67317212 0.29773517\n",
            "  1.18203911 0.12703009 1.0790223  0.33039025 0.74754307 0.8006124\n",
            "  0.64629548 0.27827538 1.02641274 0.77154174 0.25522131 1.19513781\n",
            "  0.42636458 1.03435613 0.10205601 0.97705687 1.10761931 0.64659112\n",
            "  0.5948743  0.02046785 0.72342835 0.74496201]\n",
            " [0.9429989  0.69379502 0.9873409  0.36433691 0.96993076 0.52347583\n",
            "  0.63934685 0.69594451 0.45617343 0.20018366 0.50068488 0.41063962\n",
            "  0.         0.68367522 0.92759234 0.75887878 0.51248604 0.36377291\n",
            "  0.3293352  0.83844299 0.57759295 0.78103528 0.83074062 0.94934379\n",
            "  0.93454195 0.84279489 0.88299576 0.43508168 0.36026632 0.54338388\n",
            "  0.9088648  0.67707003 0.59946278 0.27522942 0.70011276 0.53982346\n",
            "  0.79113458 0.99790688 1.03524744 0.93362426 0.95471122 0.47735068\n",
            "  0.61120584 0.01778264 0.34098602 0.83517974 0.53574062 0.54452394\n",
            "  0.51467558 0.46025771 0.94673024 0.83701455 0.93541603 0.85759745\n",
            "  0.57143912 0.46858866 0.30931265 0.44283029 0.86347619 0.5817108\n",
            "  0.19311328 0.53269366 0.63590876 0.06676655 0.54415827 0.49572906\n",
            "  0.71221865 0.31720162 0.69320284 1.01802348 0.82823755 0.2581541\n",
            "  0.92002355 0.34196474 0.58583704 0.63755203 0.93729022 0.30588888\n",
            "  1.10046737 0.29816115 1.04846192 0.36933185 0.8451684  1.01466103\n",
            "  0.66197158 0.58590224 0.91543219 0.58139994 0.1677505  1.07981115\n",
            "  0.26514617 0.93371158 0.3176721  0.84789255 1.02979164 0.85475288\n",
            "  0.31487816 0.40870574 0.57702553 0.57606036]\n",
            " [0.29163233 0.22969639 0.31738669 0.33172571 0.2863731  0.36402169\n",
            "  0.5082574  0.43188416 0.25064602 0.56191814 0.37253157 0.78777706\n",
            "  0.68367522 0.         0.32125141 0.13581636 0.47563129 0.38853311\n",
            "  0.35491682 0.15612272 0.65788602 0.15936462 0.16648496 0.56830443\n",
            "  0.34970328 0.17905104 0.27111795 0.30940189 0.64719908 0.32513079\n",
            "  0.23007676 0.26702277 0.33578478 0.76178295 0.22508402 0.14613556\n",
            "  0.68231827 0.7434631  0.35163627 0.31214277 0.64534528 0.41829563\n",
            "  0.58057997 0.66597746 0.4175549  0.18152283 0.4512255  0.61092969\n",
            "  0.19311253 0.62384693 0.62673726 0.48270794 0.27992219 0.19302162\n",
            "  0.11280497 0.69430997 0.46201494 0.72065222 0.2766777  0.5888878\n",
            "  0.52244875 0.62226817 0.65766042 0.61744833 0.14177283 0.27325531\n",
            "  0.309013   0.73915378 0.26318755 0.34102766 0.30983027 0.66893369\n",
            "  0.39906192 0.45401109 0.3055701  0.13774155 0.70980888 0.50073308\n",
            "  0.41877598 0.78343551 0.37320069 0.45760131 0.38124305 0.6634455\n",
            "  0.22061189 0.66825976 0.24241882 0.16919758 0.64947819 0.41236257\n",
            "  0.43056532 0.25552182 0.71129026 0.18939446 0.34674231 0.57031967\n",
            "  0.40579956 0.80428643 0.11619664 0.14005719]\n",
            " [0.09191943 0.52730399 0.15613005 0.61857764 0.26192773 0.6852693\n",
            "  0.49133516 0.3775805  0.5542561  0.76180542 0.69355003 1.09864017\n",
            "  0.92759234 0.32125141 0.         0.38869852 0.79688123 0.57367733\n",
            "  0.62151266 0.27032103 0.97897226 0.16552094 0.33457487 0.81448209\n",
            "  0.52295088 0.33741062 0.05050461 0.49487559 0.95850885 0.41534489\n",
            "  0.29599903 0.57023045 0.37717965 1.05692162 0.23300878 0.44360035\n",
            "  0.98744161 1.01110754 0.28603926 0.02739912 0.90694654 0.51722979\n",
            "  0.89960611 0.91006135 0.72062019 0.14761332 0.50530301 0.93216812\n",
            "  0.50384988 0.9431253  0.88721301 0.75446405 0.10277797 0.33779942\n",
            "  0.39818387 1.01287372 0.64346552 1.03697525 0.47987059 0.90932862\n",
            "  0.74123867 0.94349591 0.9768913  0.86155379 0.43987385 0.43518012\n",
            "  0.26085378 1.04192243 0.25369619 0.19907229 0.55171746 0.96668488\n",
            "  0.60882754 0.7608948  0.62448518 0.45516008 0.98839271 0.80412508\n",
            "  0.27834615 1.08033395 0.36991301 0.76909035 0.63056386 0.9071752\n",
            "  0.52812863 0.98928235 0.16002925 0.34806374 0.93202723 0.20010678\n",
            "  0.70665096 0.18347839 1.01557572 0.14691514 0.25398418 0.84982274\n",
            "  0.6152675  1.11401368 0.37699795 0.36235644]\n",
            " [0.32886818 0.14420449 0.32607039 0.39472732 0.24584748 0.34202439\n",
            "  0.6440169  0.56531911 0.3032713  0.66310725 0.35788751 0.79377036\n",
            "  0.75887878 0.13581636 0.38869852 0.         0.44895763 0.50347158\n",
            "  0.43333968 0.13068682 0.62003322 0.25391204 0.08351002 0.4439663\n",
            "  0.21572093 0.09260149 0.34383908 0.42964147 0.65604263 0.45958109\n",
            "  0.17036378 0.18867026 0.47160017 0.79202878 0.35362503 0.23103922\n",
            "  0.60042816 0.63004171 0.30632503 0.37132105 0.5282225  0.54937599\n",
            "  0.53026684 0.74167851 0.45235557 0.24208005 0.58561199 0.57789931\n",
            "  0.24420341 0.61048772 0.50892792 0.36980941 0.31465357 0.10597813\n",
            "  0.22005019 0.68215721 0.57412269 0.71537465 0.1412777  0.54607648\n",
            "  0.61733628 0.59247521 0.60689061 0.69491825 0.22725098 0.40149279\n",
            "  0.43825529 0.75992219 0.39355019 0.33256946 0.17937877 0.6986858\n",
            "  0.2641078  0.48001622 0.26608475 0.12443425 0.6027832  0.5297164\n",
            "  0.38904536 0.81096448 0.29516622 0.47444617 0.25529259 0.53914246\n",
            "  0.15486146 0.62928532 0.25827211 0.30274316 0.69675539 0.41437127\n",
            "  0.49506138 0.25629638 0.73056318 0.24178944 0.31497026 0.4632797\n",
            "  0.51116293 0.81208747 0.23718873 0.26927042]\n",
            " [0.7601226  0.31418336 0.77030305 0.2910703  0.69404607 0.11169642\n",
            "  0.81279205 0.79326036 0.28210803 0.5487765  0.10506518 0.36127897\n",
            "  0.51248604 0.47563129 0.79688123 0.44895763 0.         0.51462923\n",
            "  0.34442011 0.57600532 0.18383741 0.63353517 0.5316505  0.44677208\n",
            "  0.52796671 0.53911645 0.74669689 0.50276567 0.23891471 0.62019079\n",
            "  0.61755167 0.2737591  0.66850731 0.40411047 0.6509235  0.37457072\n",
            "  0.30202812 0.48812746 0.75206638 0.78720507 0.44261748 0.64451805\n",
            "  0.13141377 0.50113318 0.20493237 0.65469721 0.7102031  0.13554029\n",
            "  0.30883027 0.16484011 0.43541169 0.33976637 0.74704183 0.55063526\n",
            "  0.41893327 0.23557177 0.54209866 0.27321801 0.47849983 0.12332202\n",
            "  0.49088005 0.14675971 0.19830351 0.47327681 0.37692579 0.53182332\n",
            "  0.7171307  0.35480768 0.67438771 0.7807431  0.40921071 0.32300993\n",
            "  0.47602592 0.18028561 0.18288512 0.34568911 0.42890774 0.20701857\n",
            "  0.8368818  0.41500144 0.72330115 0.14887108 0.38987757 0.50426412\n",
            "  0.29522672 0.19466686 0.69807988 0.51965476 0.37132849 0.86154749\n",
            "  0.31388444 0.70119952 0.32553612 0.66047442 0.7633188  0.34333046\n",
            "  0.47504303 0.38117817 0.44908749 0.48245356]\n",
            " [0.60176624 0.50501821 0.65451981 0.22420151 0.66295059 0.44760205\n",
            "  0.3202799  0.34571537 0.27042617 0.18851242 0.43428362 0.64986188\n",
            "  0.36377291 0.38853311 0.57367733 0.50347158 0.51462923 0.\n",
            "  0.17089921 0.54062082 0.67043401 0.44175308 0.55408532 0.84145125\n",
            "  0.7134811  0.5667359  0.53248238 0.08292872 0.53091005 0.1804959\n",
            "  0.61634653 0.51208968 0.23778964 0.5584276  0.34173499 0.27726255\n",
            "  0.8117835  0.96136415 0.72602579 0.58295227 0.88551438 0.14138414\n",
            "  0.64572592 0.3471179  0.32142235 0.50182178 0.21002411 0.62185538\n",
            "  0.29819716 0.57711195 0.87118806 0.73177399 0.59641041 0.58102314\n",
            "  0.28386668 0.62674985 0.07452583 0.62781216 0.63701323 0.63198292\n",
            "  0.17125826 0.62139153 0.70568827 0.30125574 0.28034101 0.13906977\n",
            "  0.34844631 0.56738791 0.33086997 0.69059099 0.63539344 0.48571922\n",
            "  0.73421342 0.36162444 0.46156962 0.40928327 0.91007758 0.37592291\n",
            "  0.77818695 0.58431361 0.75955517 0.38954767 0.68294765 0.92778252\n",
            "  0.4753984  0.68156862 0.58827817 0.24219553 0.41822193 0.74211983\n",
            "  0.23043691 0.6109556  0.54947328 0.51579324 0.71344709 0.78886273\n",
            "  0.05570677 0.65842633 0.27248657 0.25326425]\n",
            " [0.62457787 0.39011673 0.66390696 0.05909205 0.64085969 0.28583888\n",
            "  0.48225106 0.48592991 0.13887252 0.24549726 0.26990167 0.50806654\n",
            "  0.3293352  0.35491682 0.62151266 0.43333968 0.34442011 0.17089921\n",
            "  0.         0.5091731  0.50052101 0.46468528 0.50241793 0.70047054\n",
            "  0.62249487 0.5146204  0.57371213 0.17843259 0.37815038 0.30768412\n",
            "  0.57960617 0.38510697 0.36392695 0.44091329 0.41041398 0.21048829\n",
            "  0.64354559 0.80325553 0.70620212 0.6234096  0.73392299 0.30660374\n",
            "  0.47521293 0.31173406 0.15214937 0.51408644 0.37455934 0.45158665\n",
            "  0.19129201 0.4113794  0.72104642 0.58780442 0.61572058 0.5294518\n",
            "  0.24353275 0.46578044 0.20187619 0.4723366  0.54821073 0.4610895\n",
            "  0.19187464 0.45178405 0.53481329 0.26368319 0.21482381 0.22713643\n",
            "  0.44854058 0.435605   0.4164189  0.69236586 0.52651343 0.35554184\n",
            "  0.62367422 0.19423486 0.31488492 0.31620452 0.74957429 0.2166965\n",
            "  0.77301398 0.46554243 0.71973807 0.22038453 0.55990461 0.78162566\n",
            "  0.35813023 0.51171369 0.59059099 0.27585707 0.31089968 0.75776368\n",
            "  0.08627175 0.60736376 0.41294587 0.52596357 0.70155646 0.63488059\n",
            "  0.13176745 0.51962704 0.25280098 0.25959353]\n",
            " [0.20107916 0.27485429 0.19560164 0.48158111 0.13238195 0.46691343\n",
            "  0.61226743 0.51770473 0.39508124 0.7172888  0.48098345 0.91324717\n",
            "  0.83844299 0.15612272 0.27032103 0.13068682 0.57600532 0.54062082\n",
            "  0.5091731  0.         0.74964978 0.17145808 0.06427558 0.54472773\n",
            "  0.26416564 0.06829375 0.23100451 0.45950877 0.77387726 0.45210106\n",
            "  0.07599962 0.31933495 0.44765332 0.90101734 0.30254406 0.29879584\n",
            "  0.72802689 0.74082749 0.19760999 0.24970863 0.63662582 0.55325985\n",
            "  0.66078606 0.82079889 0.55680134 0.13338942 0.57514093 0.70673556\n",
            "  0.33492238 0.73529671 0.61689452 0.48518146 0.18664677 0.07233012\n",
            "  0.26883128 0.80694737 0.61477948 0.83832767 0.21149649 0.67606777\n",
            "  0.67850992 0.72082735 0.73749864 0.77246893 0.29444084 0.41660175\n",
            "  0.38256822 0.87328409 0.34372058 0.20525344 0.281419   0.80753344\n",
            "  0.34259045 0.58916139 0.3937599  0.23607594 0.71905268 0.63788021\n",
            "  0.27150355 0.92136332 0.21894184 0.58769092 0.3602508  0.63804157\n",
            "  0.28451749 0.75905192 0.12816051 0.30711372 0.7959391  0.2855441\n",
            "  0.58182483 0.12588469 0.84446599 0.12764417 0.19733731 0.58122468\n",
            "  0.56087997 0.93095971 0.27060592 0.28771584]\n",
            " [0.93892166 0.47864964 0.94511598 0.45451335 0.86141558 0.29429311\n",
            "  0.98043876 0.96918255 0.46147233 0.6664613  0.28889338 0.27687431\n",
            "  0.57759295 0.65788602 0.97897226 0.62003322 0.18383741 0.67043401\n",
            "  0.50052101 0.74964978 0.         0.8164251  0.70066946 0.49814283\n",
            "  0.66282559 0.70685497 0.92897143 0.67079419 0.22351681 0.79340254\n",
            "  0.78452339 0.43502331 0.844155   0.37960472 0.83404632 0.55783803\n",
            "  0.23195435 0.45960479 0.91617101 0.96848619 0.45477175 0.80689596\n",
            "  0.10195818 0.57109318 0.34901276 0.83543764 0.87441719 0.05020362\n",
            "  0.49209135 0.11737605 0.45558524 0.41547749 0.92553637 0.71713916\n",
            "  0.6025063  0.13693236 0.68516065 0.18272604 0.62636107 0.07548837\n",
            "  0.61172509 0.04965007 0.06427263 0.55731719 0.56030247 0.70566222\n",
            "  0.89867787 0.31926595 0.85657466 0.95245418 0.54773232 0.33225222\n",
            "  0.59329488 0.31000217 0.35736946 0.52524676 0.39795135 0.30875173\n",
            "  1.00268787 0.37878817 0.87808705 0.28098057 0.50750755 0.52444657\n",
            "  0.46526287 0.01131342 0.87440739 0.70140232 0.41276814 1.03440438\n",
            "  0.44861596 0.87550405 0.2977815  0.84057461 0.93045703 0.37344815\n",
            "  0.62442911 0.29660174 0.63238718 0.66501496]\n",
            " [0.16206016 0.37982905 0.21302517 0.45688124 0.24691321 0.52220687\n",
            "  0.44936573 0.34932486 0.38935399 0.62922888 0.5295637  0.93357176\n",
            "  0.78103528 0.15936462 0.16552094 0.25391204 0.63353517 0.44175308\n",
            "  0.46468528 0.17145808 0.8164251  0.         0.22747877 0.69685365\n",
            "  0.43332181 0.23554016 0.11506209 0.3592801  0.79331408 0.31264683\n",
            "  0.23369274 0.4204243  0.29449591 0.89507951 0.13903291 0.27864005\n",
            "  0.83819887 0.88368184 0.30165746 0.16142407 0.78212873 0.41820796\n",
            "  0.73994244 0.76330573 0.55632978 0.06323931 0.42690563 0.76903009\n",
            "  0.33834006 0.77792784 0.76283992 0.62296385 0.15529254 0.24263603\n",
            "  0.23366683 0.84750972 0.51522788 0.8714544  0.37359256 0.74799339\n",
            "  0.60135818 0.77985416 0.81700918 0.7143674  0.27483053 0.30413642\n",
            "  0.21343717 0.87827028 0.17847489 0.25087589 0.43094526 0.80403163\n",
            "  0.50520837 0.59609837 0.46491337 0.29648463 0.8548113  0.63997065\n",
            "  0.34007224 0.91809302 0.35931658 0.60376026 0.50841611 0.79177773\n",
            "  0.37563118 0.82689267 0.15159533 0.20156805 0.77321656 0.30096588\n",
            "  0.54828176 0.17788622 0.85157937 0.07778712 0.28191814 0.71498313\n",
            "  0.47595778 0.94912027 0.21464137 0.20595471]\n",
            " [0.26332751 0.22229673 0.25028952 0.46830251 0.1625263  0.4253697\n",
            "  0.65564518 0.56629616 0.37820751 0.72320137 0.44138167 0.87724984\n",
            "  0.83074062 0.16648496 0.33457487 0.08351002 0.5316505  0.55408532\n",
            "  0.50241793 0.06427558 0.70066946 0.22747877 0.         0.4805442\n",
            "  0.20608779 0.01265915 0.2950387  0.47572325 0.7393837  0.48475887\n",
            "  0.08687725 0.2664851  0.48693693 0.87391465 0.3503054  0.29379113\n",
            "  0.66831004 0.67663735 0.22288771 0.31373669 0.57237656 0.58195513\n",
            "  0.60902039 0.81332032 0.53257529 0.1961744  0.60999967 0.65940967\n",
            "  0.31803819 0.69370269 0.55263915 0.42161305 0.24884248 0.02729897\n",
            "  0.27250407 0.76535134 0.62701411 0.79880731 0.14828558 0.62621082\n",
            "  0.68060925 0.67434569 0.6850699  0.76579323 0.28962495 0.43908271\n",
            "  0.43294385 0.84268397 0.39161188 0.25231541 0.21723551 0.78046976\n",
            "  0.27994592 0.56160926 0.34879652 0.20476998 0.6553623  0.61113864\n",
            "  0.3056614  0.89317512 0.21794092 0.55697078 0.29603499 0.57401152\n",
            "  0.23667386 0.70969941 0.18856531 0.33247304 0.77580272 0.33493952\n",
            "  0.56909642 0.1812125  0.81340408 0.19137332 0.23174886 0.51793723\n",
            "  0.56830196 0.89553749 0.28170368 0.30627409]\n",
            " [0.73738901 0.35201163 0.70715706 0.64210809 0.58955184 0.42965163\n",
            "  1.06194748 0.99749777 0.5725038  0.9421131  0.45140891 0.76864567\n",
            "  0.94934379 0.56830443 0.81448209 0.4439663  0.44677208 0.84145125\n",
            "  0.70047054 0.54472773 0.49814283 0.69685365 0.4805442  0.\n",
            "  0.3080789  0.47710422 0.77554745 0.79118598 0.67361446 0.86438378\n",
            "  0.52772561 0.33279314 0.8905663  0.8428795  0.79316767 0.58481861\n",
            "  0.31642159 0.20603723 0.61669974 0.79254456 0.1025788  0.93345631\n",
            "  0.40324383 0.93617532 0.61317183 0.67571057 0.98460091 0.48915067\n",
            "  0.54569228 0.57369049 0.08395207 0.11366317 0.72310349 0.47700195\n",
            "  0.60460561 0.62621028 0.89534049 0.6724838  0.33502354 0.43788099\n",
            "  0.88511471 0.50872401 0.44371228 0.90188289 0.58351804 0.78741368\n",
            "  0.87730513 0.78817469 0.8314756  0.6911662  0.26604844 0.76778841\n",
            "  0.21270617 0.60738753 0.38558622 0.45945997 0.20719095 0.64574815\n",
            "  0.69931586 0.84991206 0.54237143 0.58050348 0.18867424 0.09527788\n",
            "  0.37563889 0.50011372 0.66122453 0.71370101 0.8174463  0.76935347\n",
            "  0.7121218  0.6459396  0.76072788 0.6717503  0.6448808  0.12662556\n",
            "  0.82336831 0.78899925 0.63376493 0.67329032]\n",
            " [0.43939362 0.2418579  0.4024679  0.57490524 0.28293    0.44584289\n",
            "  0.85526188 0.77019793 0.48445827 0.86253676 0.4676838  0.88923708\n",
            "  0.93454195 0.34970328 0.52295088 0.21572093 0.52796671 0.7134811\n",
            "  0.62249487 0.26416564 0.66282559 0.43332181 0.20608779 0.3080789\n",
            "  0.         0.19780842 0.49001984 0.6426592  0.76264161 0.67469885\n",
            "  0.2277306  0.26700424 0.68396522 0.91833204 0.55464946 0.43664872\n",
            "  0.56414617 0.51374163 0.30892271 0.49880146 0.40891397 0.76506471\n",
            "  0.56176511 0.91820656 0.60347081 0.39686351 0.80079603 0.63217828\n",
            "  0.43225816 0.69075773 0.38932538 0.2888956  0.42558707 0.19183582\n",
            "  0.43295285 0.75885666 0.78186954 0.7996167  0.07647005 0.58819561\n",
            "  0.812833   0.65033277 0.62943323 0.87420376 0.43338285 0.6169205\n",
            "  0.63807444 0.8759859  0.59579305 0.38385581 0.11877275 0.82839881\n",
            "  0.0958897  0.61976381 0.36716209 0.30868466 0.50639229 0.66861107\n",
            "  0.39282653 0.93325319 0.23920061 0.60481911 0.16210992 0.394063\n",
            "  0.27310982 0.6694717  0.36429809 0.51812345 0.84614872 0.46132771\n",
            "  0.6702505  0.34541945 0.84613795 0.3895875  0.33680194 0.3824875\n",
            "  0.71574149 0.90914314 0.45225272 0.48498155]\n",
            " [0.26377758 0.2282142  0.24745391 0.48011665 0.15501412 0.43357071\n",
            "  0.66649178 0.57631659 0.38982377 0.73580509 0.44994316 0.88615827\n",
            "  0.84279489 0.17905104 0.33741062 0.09260149 0.53911645 0.5667359\n",
            "  0.5146204  0.06829375 0.70685497 0.23554016 0.01265915 0.47710422\n",
            "  0.19780842 0.         0.29911485 0.48833237 0.74860082 0.49662571\n",
            "  0.07846224 0.27211983 0.49819981 0.88415224 0.36031037 0.30620818\n",
            "  0.67051055 0.67452418 0.21400039 0.31590898 0.56998768 0.5941249\n",
            "  0.61445368 0.82539134 0.54332882 0.20153507 0.62173987 0.66605741\n",
            "  0.32973337 0.70164287 0.5502092  0.42089753 0.24930017 0.01483632\n",
            "  0.28514472 0.773253   0.63967248 0.80710691 0.14324561 0.63219943\n",
            "  0.69312699 0.68119581 0.69024375 0.77792041 0.302053   0.45150636\n",
            "  0.4425617  0.85245466 0.40163948 0.2473413  0.21545584 0.79074508\n",
            "  0.27431784 0.57193926 0.35639166 0.21528848 0.65435343 0.62153791\n",
            "  0.29778588 0.9032641  0.20615639 0.56687639 0.29399086 0.57011855\n",
            "  0.24391253 0.71577725 0.18830676 0.34470504 0.78687242 0.33022143\n",
            "  0.58089356 0.17907217 0.8231186  0.19592765 0.22428523 0.51752476\n",
            "  0.58093972 0.90453734 0.29434358 0.31876966]\n",
            " [0.08811984 0.48033996 0.1562764  0.56939833 0.24416022 0.63512432\n",
            "  0.47452375 0.36297392 0.50407484 0.72096486 0.64323511 1.04841967\n",
            "  0.88299576 0.27111795 0.05050461 0.34383908 0.74669689 0.53248238\n",
            "  0.57371213 0.23100451 0.92897143 0.11506209 0.2950387  0.77554745\n",
            "  0.49001984 0.29911485 0.         0.4523739  0.90823264 0.38066548\n",
            "  0.26629455 0.52283926 0.34718356 1.00780811 0.195754   0.39338435\n",
            "  0.940609   0.96992354 0.27894054 0.05068054 0.86630374 0.4845611\n",
            "  0.85023092 0.86539226 0.67066676 0.10178324 0.47821542 0.88203897\n",
            "  0.45340206 0.89263279 0.84665411 0.71182242 0.09249785 0.3010745\n",
            "  0.34809353 0.96236961 0.60351813 0.98650226 0.4423384  0.85958146\n",
            "  0.69831236 0.89326608 0.92748371 0.81671629 0.38962924 0.393477\n",
            "  0.23695241 0.99221425 0.22199656 0.20055372 0.51108975 0.91729872\n",
            "  0.57282448 0.71076818 0.57502763 0.40573952 0.94556553 0.75422634\n",
            "  0.28691876 1.03109521 0.35693945 0.71875023 0.58993309 0.86902678\n",
            "  0.48007401 0.93931638 0.1361317  0.30204159 0.8838264  0.22130929\n",
            "  0.65848076 0.1633072  0.965748   0.10390597 0.24973778 0.80649724\n",
            "  0.57222272 1.06386375 0.32746162 0.31418715]\n",
            " [0.51983702 0.44608443 0.57185829 0.21642533 0.58057935 0.42144232\n",
            "  0.31027811 0.30756446 0.23346561 0.27005136 0.41185275 0.68378251\n",
            "  0.43508168 0.30940189 0.49487559 0.42964147 0.50276567 0.08292872\n",
            "  0.17843259 0.45950877 0.67079419 0.3592801  0.47572325 0.79118598\n",
            "  0.6426592  0.48833237 0.4523739  0.         0.55619199 0.1296243\n",
            "  0.53540595 0.45866943 0.18680869 0.60553887 0.26513515 0.2116182\n",
            "  0.79064536 0.92413993 0.64342629 0.50299343 0.84266268 0.14643326\n",
            "  0.63381472 0.41784297 0.32745119 0.41903019 0.20847783 0.62099218\n",
            "  0.2460293  0.58769574 0.82725273 0.68456756 0.51419585 0.5024015\n",
            "  0.20984375 0.64382262 0.15730547 0.65074202 0.5663281  0.62438106\n",
            "  0.24638802 0.62314772 0.69931445 0.37018551 0.2139944  0.06066358\n",
            "  0.28325423 0.60718365 0.25930381 0.60772596 0.57153478 0.52581102\n",
            "  0.66983409 0.3708209  0.42149285 0.34478232 0.87586868 0.39511292\n",
            "  0.69526278 0.63101776 0.67840488 0.39475068 0.62450502 0.88039797\n",
            "  0.41832372 0.68209031 0.50536556 0.15927055 0.46819356 0.65995093\n",
            "  0.25744493 0.52803287 0.58637529 0.43296269 0.63059178 0.7488998\n",
            "  0.12063592 0.69437249 0.19441204 0.171793  ]\n",
            " [0.93879332 0.53583381 0.96078273 0.35380796 0.90055521 0.32070191\n",
            "  0.85116867 0.86371646 0.4044075  0.47879679 0.30126867 0.14058969\n",
            "  0.36026632 0.64719908 0.95850885 0.65604263 0.23891471 0.53091005\n",
            "  0.37815038 0.77387726 0.22351681 0.79331408 0.7393837  0.67361446\n",
            "  0.76264161 0.74860082 0.90823264 0.55619199 0.         0.68570948\n",
            "  0.82623322 0.50023755 0.7420734  0.16933143 0.77297779 0.51493555\n",
            "  0.45075531 0.67283342 0.96226106 0.95410872 0.65147943 0.67229375\n",
            "  0.28236505 0.3558671  0.24149229 0.8279063  0.74090843 0.20106538\n",
            "  0.45586131 0.10932143 0.64829703 0.57253847 0.92711074 0.76158766\n",
            "  0.56057668 0.10988126 0.52504153 0.09752123 0.70805441 0.24804194\n",
            "  0.43015895 0.18493964 0.28595604 0.34981137 0.51863845 0.60458356\n",
            "  0.82162586 0.11613815 0.78568678 0.97799591 0.64408815 0.10873642\n",
            "  0.71459135 0.19882884 0.4011901  0.5379568  0.61081062 0.16243074\n",
            "  1.04343837 0.17717252 0.94407903 0.18983096 0.62867504 0.71844402\n",
            "  0.51123833 0.23038935 0.88610785 0.63453286 0.19280832 1.05502876\n",
            "  0.30148664 0.89436682 0.08746552 0.83646862 0.96896253 0.5586188\n",
            "  0.47764688 0.15735259 0.58402136 0.60665368]\n",
            " [0.45999781 0.51247806 0.52067596 0.34163443 0.55587654 0.53011559\n",
            "  0.20055938 0.17841524 0.34089417 0.35787407 0.52369163 0.8132668\n",
            "  0.54338388 0.32513079 0.41534489 0.45958109 0.62019079 0.1804959\n",
            "  0.30768412 0.45210106 0.79340254 0.31264683 0.48475887 0.86438378\n",
            "  0.67469885 0.49662571 0.38066548 0.1296243  0.68570948 0.\n",
            "  0.52640181 0.53420257 0.05821531 0.732224   0.18517964 0.28286121\n",
            "  0.89835932 1.01414797 0.61353139 0.42917154 0.92617732 0.10570553\n",
            "  0.74981064 0.52697659 0.45469157 0.37588609 0.12610126 0.74330893\n",
            "  0.33578252 0.71455575 0.90944543 0.76406534 0.45766683 0.50901092\n",
            "  0.25986909 0.77213687 0.23850066 0.77997788 0.60085385 0.74311971\n",
            "  0.35029925 0.74664137 0.81823456 0.48160869 0.28341586 0.08840827\n",
            "  0.17078661 0.73583947 0.16226009 0.56123423 0.6234442  0.65429319\n",
            "  0.71811889 0.49845775 0.51655727 0.40527021 0.96986326 0.52434475\n",
            "  0.65097479 0.75788226 0.66398691 0.52111998 0.68633457 0.95699261\n",
            "  0.48930722 0.80471594 0.46415707 0.15696774 0.59348418 0.59995225\n",
            "  0.38690283 0.49048262 0.7154818  0.39043358 0.5945637  0.83732034\n",
            "  0.23374521 0.82368045 0.23181887 0.19375551]\n",
            " [0.21173744 0.30595478 0.18089168 0.54890779 0.07689244 0.5119579\n",
            "  0.68124024 0.58300542 0.46021531 0.79196685 0.52816541 0.96412487\n",
            "  0.9088648  0.23007676 0.29599903 0.17036378 0.61755167 0.61634653\n",
            "  0.57960617 0.07599962 0.78452339 0.23369274 0.08687725 0.52772561\n",
            "  0.2277306  0.07846224 0.26629455 0.53540595 0.82623322 0.52640181\n",
            "  0.         0.34952848 0.51951857 0.95984747 0.37026734 0.36924448\n",
            "  0.74084902 0.72994551 0.13602804 0.27135512 0.62470299 0.62832351\n",
            "  0.69130549 0.89130327 0.61755444 0.18276219 0.64846471 0.74411513\n",
            "  0.39982439 0.78009532 0.60485873 0.48311865 0.19787063 0.06738425\n",
            "  0.34206765 0.85171001 0.69041699 0.88547038 0.1951927  0.70969266\n",
            "  0.75223378 0.75938095 0.76670147 0.84327103 0.36493965 0.49254469\n",
            "  0.4471294  0.92921374 0.41088687 0.17354694 0.27677482 0.8663562\n",
            "  0.31718279 0.6474638  0.43485027 0.29065179 0.71432924 0.69685133\n",
            "  0.21933329 0.97933161 0.14332234 0.64340499 0.35272977 0.61784747\n",
            "  0.32233144 0.79333786 0.13662871 0.3829756  0.85968894 0.25644026\n",
            "  0.6496168  0.1184211  0.89998575 0.17231855 0.14604319 0.58024807\n",
            "  0.63573693 0.98241441 0.34557546 0.36361953]\n",
            " [0.51635888 0.04449008 0.51445881 0.33035201 0.42641629 0.1802201\n",
            "  0.73351613 0.67733336 0.24877478 0.63060414 0.20137661 0.63172768\n",
            "  0.67707003 0.26702277 0.57023045 0.18867026 0.2737591  0.51208968\n",
            "  0.38510697 0.31933495 0.43502331 0.4204243  0.2664851  0.33279314\n",
            "  0.26700424 0.27211983 0.52283926 0.45866943 0.50023755 0.53420257\n",
            "  0.34952848 0.         0.56432679 0.65226357 0.48615392 0.25257786\n",
            "  0.41811751 0.48449503 0.48159206 0.5550967  0.39255346 0.60068555\n",
            "  0.34254354 0.66144459 0.33980153 0.42264828 0.65262777 0.39536062\n",
            "  0.2142195  0.43853798 0.3754683  0.22988089 0.50230249 0.28214743\n",
            "  0.2760855  0.50929214 0.57023954 0.54650363 0.20785893 0.36016923\n",
            "  0.57626951 0.41121653 0.41874993 0.61986484 0.25150752 0.45522164\n",
            "  0.5670946  0.6116988  0.52075019 0.51878931 0.15268708 0.56172762\n",
            "  0.24318178 0.35337682 0.1004071  0.13575853 0.44616804 0.40188856\n",
            "  0.56778721 0.66788077 0.44955853 0.33782169 0.17480608 0.42360018\n",
            "  0.04738589 0.44380945 0.44684583 0.38825523 0.58000939 0.60130219\n",
            "  0.41724345 0.44470495 0.58182665 0.42465246 0.49543413 0.30831134\n",
            "  0.49905363 0.65111402 0.30684956 0.34690946]\n",
            " [0.43058972 0.53902904 0.49429994 0.39521641 0.54125003 0.57471168\n",
            "  0.17286277 0.12502755 0.38711168 0.41092832 0.56978338 0.87056356\n",
            "  0.59946278 0.33578478 0.37717965 0.47160017 0.66850731 0.23778964\n",
            "  0.36392695 0.44765332 0.844155   0.29449591 0.48693693 0.8905663\n",
            "  0.68396522 0.49819981 0.34718356 0.18680869 0.7420734  0.05821531\n",
            "  0.51951857 0.56432679 0.         0.79040995 0.15759206 0.31772968\n",
            "  0.94082249 1.04755596 0.59565011 0.3935566  0.95683741 0.14180455\n",
            "  0.79696111 0.58324771 0.50902952 0.35685596 0.13303642 0.7939742\n",
            "  0.37548477 0.76820851 0.93956132 0.79373924 0.42990314 0.50955914\n",
            "  0.28828215 0.82694013 0.2924094  0.83581112 0.61218583 0.79175806\n",
            "  0.40637565 0.79800969 0.86680547 0.53837925 0.31760175 0.13938055\n",
            "  0.12137641 0.79369422 0.12524944 0.53642501 0.64212619 0.71219861\n",
            "  0.73415432 0.55298666 0.55527741 0.43161304 1.00533926 0.58030333\n",
            "  0.62605033 0.8160578  0.65251437 0.57473001 0.70870499 0.98428414\n",
            "  0.51819066 0.85546089 0.44359789 0.1768846  0.65169926 0.56839017\n",
            "  0.44425019 0.47108966 0.7731257  0.37122011 0.57412335 0.87068782\n",
            "  0.29159605 0.88117852 0.25762754 0.21768908]\n",
            " [1.04931748 0.6839987  1.07915536 0.43841133 1.03143889 0.47250468\n",
            "  0.86996143 0.90394005 0.51120763 0.44911345 0.45090397 0.14191136\n",
            "  0.27522942 0.76178295 1.05692162 0.79202878 0.40411047 0.5584276\n",
            "  0.44091329 0.90101734 0.37960472 0.89507951 0.87391465 0.8428795\n",
            "  0.91833204 0.88415224 1.00780811 0.60553887 0.16933143 0.732224\n",
            "  0.95984747 0.65226357 0.79040995 0.         0.85131426 0.61963246\n",
            "  0.61128015 0.83703189 1.0950879  1.05622457 0.81984351 0.69438306\n",
            "  0.44972732 0.27922653 0.34476004 0.93737023 0.76034287 0.36588291\n",
            "  0.56920078 0.27454709 0.81708641 0.74100522 1.03883937 0.89792198\n",
            "  0.66257545 0.2455057  0.52977231 0.2049054  0.85922543 0.41490638\n",
            "  0.41587424 0.34817085 0.44382028 0.29701947 0.62377521 0.66184635\n",
            "  0.88641937 0.0607725  0.85650506 1.10096336 0.80080748 0.09352249\n",
            "  0.87635642 0.31238844 0.55187309 0.66923527 0.77504569 0.26319921\n",
            "  1.17251824 0.02596717 1.08552002 0.3185717  0.79146328 0.88722559\n",
            "  0.65670755 0.38422434 1.00415785 0.71578208 0.14074576 1.17412624\n",
            "  0.35470193 1.01581888 0.08330405 0.94754464 1.09825372 0.72775288\n",
            "  0.50274265 0.13592781 0.68057044 0.69536781]\n",
            " [0.27525505 0.45216149 0.33747248 0.42035189 0.38566861 0.54478748\n",
            "  0.31103869 0.21600834 0.37711819 0.52931515 0.54629229 0.90984895\n",
            "  0.70011276 0.22508402 0.23300878 0.35362503 0.6509235  0.34173499\n",
            "  0.41041398 0.30254406 0.83404632 0.13903291 0.3503054  0.79316767\n",
            "  0.55464946 0.36031037 0.195754   0.26513515 0.77297779 0.18517964\n",
            "  0.37026734 0.48615392 0.15759206 0.85131426 0.         0.27635882\n",
            "  0.89213151 0.96740981 0.4385973  0.24490385 0.87013336 0.28990458\n",
            "  0.77036761 0.68280813 0.53152095 0.20016792 0.29062778 0.7845117\n",
            "  0.34209323 0.77698694 0.85162483 0.70716255 0.27358902 0.36984384\n",
            "  0.23273108 0.84259844 0.41062952 0.85977197 0.48804491 0.77215602\n",
            "  0.51100603 0.79227199 0.84522862 0.63489025 0.27407935 0.20461411\n",
            "  0.08463094 0.84366429 0.04133456 0.37916641 0.53223875 0.76485427\n",
            "  0.61662549 0.57472202 0.50446878 0.35095068 0.93192419 0.61214016\n",
            "  0.46888669 0.87586324 0.49834944 0.58934474 0.60554371 0.88836667\n",
            "  0.43881345 0.84507974 0.28617123 0.13844563 0.71971055 0.41484906\n",
            "  0.49666771 0.31385673 0.81944041 0.21437233 0.4166009  0.79305967\n",
            "  0.38571592 0.92327364 0.2018954  0.16985545]\n",
            " [0.42970513 0.23558012 0.46153566 0.18580983 0.43074136 0.26922812\n",
            "  0.48316089 0.43702459 0.11071417 0.43215796 0.26996721 0.65504308\n",
            "  0.53982346 0.14613556 0.44360035 0.23103922 0.37457072 0.27726255\n",
            "  0.21048829 0.29879584 0.55783803 0.27864005 0.29379113 0.58481861\n",
            "  0.43664872 0.30620818 0.39338435 0.2116182  0.51493555 0.28286121\n",
            "  0.36924448 0.25257786 0.31772968 0.61963246 0.27635882 0.\n",
            "  0.62659717 0.7314173  0.49609041 0.43986771 0.6435505  0.34927491\n",
            "  0.49513612 0.52221772 0.27803178 0.31776201 0.40005035 0.50844624\n",
            "  0.06575351 0.5057111  0.62701013 0.48200381 0.41922194 0.32102808\n",
            "  0.04612003 0.57360753 0.34529196 0.59506993 0.36023476 0.49595258\n",
            "  0.38743926 0.51667636 0.56935062 0.47406871 0.00437284 0.20266495\n",
            "  0.34511359 0.60036416 0.30109133 0.48679016 0.36009202 0.52754681\n",
            "  0.45858948 0.31745921 0.23846491 0.13324528 0.6879683  0.36173097\n",
            "  0.56485089 0.64198191 0.51006868 0.32575904 0.41357335 0.67616868\n",
            "  0.20937738 0.56883929 0.38693051 0.14924741 0.50410509 0.55637177\n",
            "  0.28444412 0.40131354 0.57334886 0.32794316 0.49252106 0.55454503\n",
            "  0.28050262 0.67049818 0.07454916 0.10937352]\n",
            " [0.92868353 0.4602709  0.91793823 0.58769253 0.81457096 0.36941161\n",
            "  1.09663756 1.06275762 0.55886159 0.8493027  0.37915963 0.50517076\n",
            "  0.79113458 0.68231827 0.98744161 0.60042816 0.30202812 0.8117835\n",
            "  0.64354559 0.72802689 0.23195435 0.83819887 0.66831004 0.31642159\n",
            "  0.56414617 0.67051055 0.940609   0.79064536 0.45075531 0.89835932\n",
            "  0.74084902 0.41811751 0.94082249 0.61128015 0.89213151 0.62659717\n",
            "  0.         0.22923852 0.8581728  0.9712828  0.24475712 0.93582082\n",
            "  0.18098676 0.78240987 0.5068666  0.83985957 0.99906666 0.2504665\n",
            "  0.5656204  0.34148687 0.25162242 0.27677533 0.9143424  0.67674987\n",
            "  0.66419777 0.36844716 0.84324811 0.41347221 0.55377787 0.20944095\n",
            "  0.79172296 0.26582368 0.16769408 0.76149103 0.62755979 0.81077375\n",
            "  0.96824315 0.55110502 0.92269815 0.91437247 0.46866129 0.55848057\n",
            "  0.475741   0.479335   0.38897852 0.5454869  0.16867366 0.49676097\n",
            "  0.94558706 0.61073974 0.80064527 0.44746515 0.40299439 0.31404995\n",
            "  0.46260437 0.2283785  0.85596337 0.77558528 0.63232249 0.99714389\n",
            "  0.61567114 0.84941397 0.52896485 0.84107462 0.87979363 0.19455021\n",
            "  0.77507283 0.52416508 0.69643819 0.73481747]\n",
            " [0.93737441 0.51542404 0.91032981 0.74441065 0.79398094 0.51745836\n",
            "  1.21456846 1.16180802 0.69282742 1.03030158 0.53447888 0.73431332\n",
            "  0.99790688 0.7434631  1.01110754 0.63004171 0.48812746 0.96136415\n",
            "  0.80325553 0.74082749 0.45960479 0.88368184 0.67663735 0.20603723\n",
            "  0.51374163 0.67452418 0.96992354 0.92413993 0.67283342 1.01414797\n",
            "  0.72994551 0.48449503 1.04755596 0.83703189 0.96740981 0.7314173\n",
            "  0.22923852 0.         0.82256953 0.99031057 0.10530519 1.07021126\n",
            "  0.39213769 0.9874757  0.68609251 0.86875284 1.12754201 0.47197279\n",
            "  0.68091425 0.56389037 0.12512995 0.26115787 0.92296973 0.67589441\n",
            "  0.75950026 0.59651903 1.00483221 0.64199879 0.53528979 0.42537168\n",
            "  0.97209581 0.48906978 0.39569931 0.96123625 0.73106452 0.93118148\n",
            "  1.04982148 0.777424   1.00348421 0.89585258 0.45940964 0.77853018\n",
            "  0.41803045 0.66745708 0.50265956 0.61985603 0.06203339 0.69444962\n",
            "  0.90535283 0.83778841 0.74828857 0.63655985 0.38061307 0.1371637\n",
            "  0.53156085 0.45680197 0.86127848 0.87233113 0.84617953 0.97469907\n",
            "  0.79375045 0.84751871 0.75408321 0.86609386 0.8504484  0.17690683\n",
            "  0.93352241 0.75337148 0.79078176 0.83085133]\n",
            " [0.1952037  0.43886802 0.13073833 0.67917486 0.06535053 0.64744767\n",
            "  0.74325541 0.63577488 0.59219966 0.90766163 0.66394223 1.10008972\n",
            "  1.03524744 0.35163627 0.28603926 0.30632503 0.75206638 0.72602579\n",
            "  0.70620212 0.19760999 0.91617101 0.30165746 0.22288771 0.61669974\n",
            "  0.30892271 0.21400039 0.27894054 0.64342629 0.96226106 0.61353139\n",
            "  0.13602804 0.48159206 0.59565011 1.0950879  0.4385973  0.49609041\n",
            "  0.8581728  0.82256953 0.         0.25866309 0.71782874 0.71869424\n",
            "  0.82112049 1.0175634  0.75200193 0.23883159 0.72837761 0.87693738\n",
            "  0.53189787 0.91521376 0.69824789 0.59041747 0.18727747 0.20169733\n",
            "  0.46424184 0.98675768 0.80055126 1.02099477 0.30439527 0.84098104\n",
            "  0.87157453 0.89262487 0.89549317 0.96907237 0.4917257  0.59450567\n",
            "  0.50280085 1.06503218 0.47547954 0.0924497  0.38951222 1.00157082\n",
            "  0.40479187 0.78272011 0.5697281  0.42620504 0.8145469  0.83195263\n",
            "  0.0876869  1.11479432 0.08964366 0.77917171 0.45891335 0.70016896\n",
            "  0.4569903  0.92468853 0.15306417 0.48535161 0.99278019 0.15586598\n",
            "  0.77943307 0.12484434 1.03584981 0.22443394 0.03429736 0.68661546\n",
            "  0.75114456 1.11841052 0.46252154 0.47372232]\n",
            " [0.06467065 0.51171749 0.12892621 0.61787193 0.23504145 0.67550954\n",
            "  0.51331509 0.40010447 0.55055393 0.77140469 0.68459967 1.09449087\n",
            "  0.93362426 0.31214277 0.02739912 0.37132105 0.78720507 0.58295227\n",
            "  0.6234096  0.24970863 0.96848619 0.16142407 0.31373669 0.79254456\n",
            "  0.49880146 0.31590898 0.05068054 0.50299343 0.95410872 0.42917154\n",
            "  0.27135512 0.5550967  0.3935566  1.05622457 0.24490385 0.43986771\n",
            "  0.9712828  0.99031057 0.25866309 0.         0.88587875 0.5323238\n",
            "  0.88743688 0.91601419 0.71770832 0.13349369 0.5232502  0.9221845\n",
            "  0.49850618 0.93567707 0.86610742 0.73475884 0.07602419 0.31554846\n",
            "  0.39506793 1.00584925 0.65377184 1.03097994 0.45761122 0.89808671\n",
            "  0.74897781 0.93394892 0.96475735 0.8673218  0.43600722 0.44399081\n",
            "  0.27972515 1.03969408 0.26890247 0.17213302 0.53095287 0.96535509\n",
            "  0.5857204  0.75729274 0.61272243 0.44357991 0.96867533 0.80136437\n",
            "  0.25278013 1.07934126 0.34256431 0.76438993 0.60969984 0.88480224\n",
            "  0.51396305 0.97867252 0.13484936 0.35254376 0.93316862 0.17798311\n",
            "  0.70790103 0.15726818 1.01298263 0.1304444  0.2266938  0.83053889\n",
            "  0.62288905 1.11019141 0.37565414 0.3638161 ]\n",
            " [0.83248045 0.41991311 0.80503857 0.67483837 0.68871073 0.45127278\n",
            "  1.12590513 1.06849669 0.61517514 0.96874269 0.47069802 0.73119729\n",
            "  0.95471122 0.64534528 0.90694654 0.5282225  0.44261748 0.88551438\n",
            "  0.73392299 0.63662582 0.45477175 0.78212873 0.57237656 0.1025788\n",
            "  0.40891397 0.56998768 0.86630374 0.84266268 0.65147943 0.92617732\n",
            "  0.62470299 0.39255346 0.95683741 0.81984351 0.87013336 0.6435505\n",
            "  0.24475712 0.10530519 0.71782874 0.88587875 0.         0.98766966\n",
            "  0.37043786 0.94291194 0.62905841 0.76541024 1.04260881 0.45582049\n",
            "  0.59713829 0.54566853 0.01984604 0.16355552 0.81809307 0.57108506\n",
            "  0.66863505 0.58934172 0.9336668  0.63584462 0.43018325 0.40549514\n",
            "  0.91080873 0.47462851 0.39451243 0.91269675 0.64283219 0.84533807\n",
            "  0.95329687 0.76228126 0.90706383 0.79060498 0.35530659 0.75240837\n",
            "  0.31309324 0.61615214 0.42394555 0.52620802 0.1073739  0.64883247\n",
            "  0.80105627 0.82384621 0.64456068 0.58674196 0.27643431 0.07012334\n",
            "  0.43872951 0.45455397 0.75635147 0.78050885 0.81165525 0.86959822\n",
            "  0.73376144 0.74236319 0.73660572 0.7624124  0.74546194 0.10077424\n",
            "  0.86174624 0.75111961 0.6992626  0.73928617]\n",
            " [0.56510877 0.5847278  0.62625684 0.35419701 0.66041186 0.567077\n",
            "  0.17893404 0.21869747 0.37981994 0.2808361  0.55668986 0.79025856\n",
            "  0.47735068 0.41829563 0.51722979 0.54937599 0.64451805 0.14138414\n",
            "  0.30660374 0.55325985 0.80689596 0.41820796 0.58195513 0.93345631\n",
            "  0.76506471 0.5941249  0.4845611  0.14643326 0.67229375 0.10570553\n",
            "  0.62832351 0.60068555 0.14180455 0.69438306 0.28990458 0.34927491\n",
            "  0.93582082 1.07021126 0.71869424 0.5323238  0.98766966 0.\n",
            "  0.77591179 0.46230101 0.45871444 0.48144197 0.06869324 0.75770845\n",
            "  0.39053139 0.71673088 0.97196848 0.82843431 0.56305124 0.60707349\n",
            "  0.33708614 0.76766269 0.16915861 0.76918114 0.68983674 0.76460691\n",
            "  0.2877808  0.75831032 0.83910227 0.42099814 0.35092809 0.14933651\n",
            "  0.26308316 0.70642052 0.26360909 0.6669215  0.70446708 0.62496305\n",
            "  0.80138878 0.50018863 0.56765981 0.48000698 1.02223619 0.51672938\n",
            "  0.75666897 0.72034591 0.76737205 0.52697086 0.76216633 1.02380241\n",
            "  0.55853945 0.81811634 0.56976695 0.24958848 0.55365336 0.70468935\n",
            "  0.37161947 0.59596725 0.68939779 0.4959905  0.70009437 0.89466069\n",
            "  0.1954801  0.79834309 0.31377864 0.28012086]\n",
            " [0.85419279 0.38685269 0.85632315 0.4224317  0.76807866 0.22591391\n",
            "  0.94360333 0.92133282 0.40985016 0.67053625 0.2275874  0.36546575\n",
            "  0.61120584 0.58057997 0.89960611 0.53026684 0.13141377 0.64572592\n",
            "  0.47521293 0.66078606 0.10195818 0.73994244 0.60902039 0.40324383\n",
            "  0.56176511 0.61445368 0.85023092 0.63381472 0.28236505 0.74981064\n",
            "  0.69130549 0.34254354 0.79696111 0.44972732 0.77036761 0.49513612\n",
            "  0.18098676 0.39213769 0.82112049 0.88743688 0.37043786 0.77591179\n",
            "  0.         0.60209063 0.33163522 0.75394972 0.84148444 0.08623417\n",
            "  0.43011944 0.17528268 0.36857895 0.31530973 0.84048269 0.62403557\n",
            "  0.5376665  0.22297382 0.67120453 0.26930512 0.52750581 0.03514629\n",
            "  0.6133504  0.1056495  0.07732113 0.58054246 0.49702368 0.66140302\n",
            "  0.84002325 0.39185727 0.79622703 0.86133112 0.44759507 0.38662796\n",
            "  0.49135417 0.30092466 0.27522867 0.44449293 0.33032427 0.31597626\n",
            "  0.9081527  0.4534084  0.77996736 0.26914117 0.40566249 0.43855549\n",
            "  0.37682397 0.10782911 0.78723473 0.64294988 0.45503776 0.94382967\n",
            "  0.43930992 0.78655259 0.36643112 0.75803674 0.83676667 0.28161889\n",
            "  0.60518726 0.38579265 0.56892036 0.60431269]\n",
            " [0.92526051 0.67768101 0.96956057 0.3472644  0.95225083 0.50943195\n",
            "  0.6257279  0.68075444 0.43913718 0.18691297 0.48674151 0.41224678\n",
            "  0.01778264 0.66597746 0.91006135 0.74167851 0.50113318 0.3471179\n",
            "  0.31173406 0.82079889 0.57109318 0.76330573 0.81332032 0.93617532\n",
            "  0.91820656 0.82539134 0.86539226 0.41784297 0.3558671  0.52697659\n",
            "  0.89130327 0.66144459 0.58324771 0.27922653 0.68280813 0.52221772\n",
            "  0.78240987 0.9874757  1.0175634  0.91601419 0.94291194 0.46230101\n",
            "  0.60209063 0.         0.32641936 0.81740884 0.52140565 0.53693189\n",
            "  0.49748429 0.45391956 0.93467805 0.82362403 0.91766258 0.84019811\n",
            "  0.5537128  0.46487324 0.2938412  0.44063101 0.84692809 0.57310344\n",
            "  0.17689543 0.52558229 0.62865214 0.04899113 0.52654979 0.47850103\n",
            "  0.69552922 0.3185232  0.67617122 1.00024314 0.81236339 0.25607709\n",
            "  0.90449915 0.32886593 0.57082908 0.62055048 0.92706426 0.2942021\n",
            "  1.08270689 0.30284492 1.03100331 0.35679274 0.8301058  1.00236999\n",
            "  0.64580708 0.57961926 0.89764994 0.56374427 0.16459575 1.06204085\n",
            "  0.24841756 0.9159374  0.31732218 0.8301168  1.01205543 0.84277587\n",
            "  0.29777994 0.4111909  0.55924775 0.55829755]\n",
            " [0.70689883 0.36175114 0.73475708 0.11440386 0.68786414 0.18391812\n",
            "  0.63418367 0.63294586 0.16780047 0.34502241 0.16178624 0.37960606\n",
            "  0.34098602 0.4175549  0.72062019 0.45235557 0.20493237 0.32142235\n",
            "  0.15214937 0.55680134 0.34901276 0.55632978 0.53257529 0.61317183\n",
            "  0.60347081 0.54332882 0.67066676 0.32745119 0.24149229 0.45469157\n",
            "  0.61755444 0.33980153 0.50902952 0.34476004 0.53152095 0.27803178\n",
            "  0.5068666  0.68609251 0.75200193 0.71770832 0.62905841 0.45871444\n",
            "  0.33163522 0.32641936 0.         0.59509551 0.52670848 0.30058684\n",
            "  0.22460519 0.26024557 0.61884863 0.49984124 0.69598522 0.55747794\n",
            "  0.32266806 0.31803921 0.34012535 0.32985696 0.53647224 0.31392363\n",
            "  0.28689316 0.30000323 0.38615081 0.28926654 0.28199571 0.36984866\n",
            "  0.58187853 0.32241363 0.54492315 0.75620478 0.49234872 0.25156387\n",
            "  0.58127605 0.04411666 0.24543255 0.32814184 0.62876554 0.08370007\n",
            "  0.82825952 0.36598651 0.74746034 0.06826544 0.50466158 0.68440342\n",
            "  0.33113815 0.36014662 0.65973494 0.39307653 0.24547865 0.82969842\n",
            "  0.10903527 0.67108409 0.29532144 0.60471855 0.75413401 0.5282903\n",
            "  0.27628214 0.39412273 0.34425408 0.36542288]\n",
            " [0.11194725 0.37969203 0.15324102 0.50118421 0.18594938 0.54302472\n",
            "  0.50830915 0.404983   0.42729686 0.68841841 0.55276401 0.96849086\n",
            "  0.83517974 0.18152283 0.14761332 0.24208005 0.65469721 0.50182178\n",
            "  0.51408644 0.13338942 0.83543764 0.06323931 0.1961744  0.67571057\n",
            "  0.39686351 0.20153507 0.10178324 0.41903019 0.8279063  0.37588609\n",
            "  0.18276219 0.42264828 0.35685596 0.93737023 0.20016792 0.31776201\n",
            "  0.83985957 0.86875284 0.23883159 0.13349369 0.76541024 0.48144197\n",
            "  0.75394972 0.81740884 0.59509551 0.         0.48954602 0.78941502\n",
            "  0.37235211 0.80510836 0.74581056 0.6102247  0.10190812 0.20536781\n",
            "  0.27529757 0.87571228 0.57571492 0.90216217 0.34438985 0.7647635\n",
            "  0.65861712 0.80145435 0.8312706  0.76841802 0.31364609 0.36525844\n",
            "  0.26948354 0.91747229 0.23817991 0.18899785 0.41048732 0.84529109\n",
            "  0.47581435 0.63309484 0.4793157  0.31029708 0.84389406 0.67871618\n",
            "  0.27764678 0.95974038 0.29972735 0.6381161  0.48922891 0.76965628\n",
            "  0.38085156 0.84556599 0.08844034 0.26009654 0.81939998 0.24463323\n",
            "  0.59579915 0.11469472 0.89006676 0.01454853 0.21868008 0.70475726\n",
            "  0.53395895 0.98474449 0.26137804 0.25922254]\n",
            " [0.56275799 0.6335796  0.62702597 0.42082267 0.67325313 0.62976162\n",
            "  0.11058923 0.16807077 0.44105476 0.3364527  0.62032993 0.8581919\n",
            "  0.53574062 0.4512255  0.50530301 0.58561199 0.7102031  0.21002411\n",
            "  0.37455934 0.57514093 0.87441719 0.42690563 0.60999967 0.98460091\n",
            "  0.80079603 0.62173987 0.47821542 0.20847783 0.74090843 0.12610126\n",
            "  0.64846471 0.65262777 0.13303642 0.76034287 0.29062778 0.40005035\n",
            "  0.99906666 1.12754201 0.72837761 0.5232502  1.04260881 0.06869324\n",
            "  0.84148444 0.52140565 0.52670848 0.48954602 0.         0.82507525\n",
            "  0.44663086 0.7851485  1.02642006 0.88184447 0.56246064 0.63387717\n",
            "  0.38200919 0.83633499 0.23181801 0.83783625 0.7268719  0.8309747\n",
            "  0.34982883 0.82598994 0.90565452 0.48206725 0.40118857 0.19744499\n",
            "  0.24466727 0.77371782 0.25725236 0.66932669 0.74795729 0.69240439\n",
            "  0.84329124 0.56843504 0.62599484 0.52711958 1.08094025 0.58539697\n",
            "  0.75889319 0.78630927 0.78363011 0.59493187 0.80919803 1.07621654\n",
            "  0.60896203 0.88565787 0.57654746 0.28289417 0.61961152 0.69950157\n",
            "  0.44031168 0.60394247 0.75712218 0.50395704 0.70711205 0.95128582\n",
            "  0.26375701 0.86602662 0.35555417 0.31859664]\n",
            " [0.89391519 0.43827509 0.90187622 0.40483113 0.82096149 0.24691685\n",
            "  0.93079942 0.91900157 0.41138527 0.62361836 0.24028892 0.2795094\n",
            "  0.54452394 0.61092969 0.93216812 0.57789931 0.13554029 0.62185538\n",
            "  0.45158665 0.70673556 0.05020362 0.76903009 0.65940967 0.48915067\n",
            "  0.63217828 0.66605741 0.88203897 0.62099218 0.20106538 0.74330893\n",
            "  0.74411513 0.39536062 0.7939742  0.36588291 0.7845117  0.50844624\n",
            "  0.2504665  0.47197279 0.87693738 0.9221845  0.45582049 0.75770845\n",
            "  0.08623417 0.53693189 0.30058684 0.78941502 0.82507525 0.\n",
            "  0.44272768 0.0919202  0.45444518 0.39854146 0.88067031 0.67678936\n",
            "  0.55330435 0.13725691 0.63829496 0.18336053 0.59170378 0.0512851\n",
            "  0.56810953 0.01966021 0.09236229 0.52014691 0.51097228 0.65552504\n",
            "  0.84871572 0.30717935 0.80673841 0.91046103 0.51538655 0.30813479\n",
            "  0.56726599 0.26263625 0.31323175 0.47964547 0.40993947 0.26500199\n",
            "  0.96293564 0.36845632 0.84194138 0.23290466 0.48064674 0.52431506\n",
            "  0.42306457 0.06149695 0.83049096 0.65150561 0.38284275 0.99200893\n",
            "  0.40200792 0.83243079 0.28265394 0.79489181 0.8901577  0.36785063\n",
            "  0.576564   0.29988381 0.58298681 0.61531273]\n",
            " [0.48371464 0.2079643  0.51015842 0.15065384 0.46702796 0.20426597\n",
            "  0.53611457 0.49717278 0.06039474 0.43071008 0.2043182  0.59638942\n",
            "  0.51467558 0.19311253 0.50384988 0.24420341 0.30883027 0.29819716\n",
            "  0.19129201 0.33492238 0.49209135 0.33834006 0.31803819 0.54569228\n",
            "  0.43225816 0.32973337 0.45340206 0.2460293  0.45586131 0.33578252\n",
            "  0.39982439 0.2142195  0.37548477 0.56920078 0.34209323 0.06575351\n",
            "  0.5656204  0.68091425 0.53189787 0.49850618 0.59713829 0.39053139\n",
            "  0.43011944 0.49748429 0.22460519 0.37235211 0.44663086 0.44272768\n",
            "  0.         0.44164441 0.58148893 0.43853857 0.47242456 0.34441996\n",
            "  0.11084877 0.51024225 0.35883512 0.53317915 0.35738607 0.43037765\n",
            "  0.38058467 0.45108322 0.50395889 0.45085679 0.06825483 0.25068974\n",
            "  0.40990539 0.54605742 0.36630359 0.5319326  0.34174507 0.47613857\n",
            "  0.44031921 0.26102062 0.18077773 0.12491275 0.63491736 0.30763535\n",
            "  0.60562902 0.59058822 0.53588975 0.26603704 0.38502476 0.63440561\n",
            "  0.17757305 0.50308869 0.43513471 0.21298261 0.4610185  0.60509467\n",
            "  0.25128602 0.44667726 0.51826719 0.38135853 0.53193039 0.50471302\n",
            "  0.28898158 0.61246953 0.14029916 0.17425746]\n",
            " [0.91328035 0.47850586 0.92784851 0.37304833 0.85622799 0.26861242\n",
            "  0.89352644 0.89257133 0.39992375 0.555993   0.25459169 0.2008512\n",
            "  0.46025771 0.62384693 0.9431253  0.61048772 0.16484011 0.57711195\n",
            "  0.4113794  0.73529671 0.11737605 0.77792784 0.69370269 0.57369049\n",
            "  0.69075773 0.70164287 0.89263279 0.58769574 0.10932143 0.71455575\n",
            "  0.78009532 0.43853798 0.76820851 0.27454709 0.77698694 0.5057111\n",
            "  0.34148687 0.56389037 0.91521376 0.93567707 0.54566853 0.71673088\n",
            "  0.17528268 0.45391956 0.26024557 0.80510836 0.7851485  0.0919202\n",
            "  0.44164441 0.         0.54345207 0.47747602 0.90068838 0.71354775\n",
            "  0.55174637 0.07168801 0.58413057 0.10886997 0.64308379 0.14037394\n",
            "  0.50281937 0.07567142 0.17777048 0.44130633 0.50883828 0.62883339\n",
            "  0.83458483 0.21662313 0.79504291 0.9405259  0.57222357 0.21718398\n",
            "  0.63374823 0.2171851  0.34552067 0.50114827 0.50185726 0.20384082\n",
            "  0.99933392 0.27825616 0.88801629 0.19349145 0.54689857 0.61352362\n",
            "  0.45829269 0.12570009 0.85450244 0.64014574 0.29552561 1.02034168\n",
            "  0.34892773 0.85942706 0.19124434 0.81207084 0.92542304 0.45520852\n",
            "  0.52779571 0.22122237 0.57899332 0.6073014 ]\n",
            " [0.81265349 0.40199664 0.78520373 0.66199599 0.66892707 0.43967033\n",
            "  1.10897308 1.05069535 0.60076781 0.95716192 0.45953666 0.73130547\n",
            "  0.94673024 0.62673726 0.88721301 0.50892792 0.43541169 0.87118806\n",
            "  0.72104642 0.61689452 0.45558524 0.76283992 0.55263915 0.08395207\n",
            "  0.38932538 0.5502092  0.84665411 0.82725273 0.64829703 0.90944543\n",
            "  0.60485873 0.3754683  0.93956132 0.81708641 0.85162483 0.62701013\n",
            "  0.25162242 0.12512995 0.69824789 0.86610742 0.01984604 0.97196848\n",
            "  0.36857895 0.93467805 0.61884863 0.74581056 1.02642006 0.45444518\n",
            "  0.58148893 0.54345207 0.         0.14585754 0.79826797 0.55127028\n",
            "  0.65146589 0.58908614 0.92022816 0.63563039 0.41034059 0.40371817\n",
            "  0.89933425 0.47348018 0.39643447 0.90372168 0.6262178  0.82906241\n",
            "  0.93491302 0.76002819 0.88870935 0.77083363 0.33561586 0.74805777\n",
            "  0.29347608 0.60713275 0.40971958 0.50857843 0.12383872 0.64087612\n",
            "  0.78160694 0.82170367 0.62528842 0.57810131 0.25674579 0.07014723\n",
            "  0.42137254 0.45586001 0.73652172 0.76308609 0.80555998 0.84988973\n",
            "  0.7227621  0.72251758 0.73395955 0.74275738 0.72579762 0.0920849\n",
            "  0.8482455  0.75134633 0.68194246 0.72193458]\n",
            " [0.68464882 0.25636411 0.66377247 0.52924238 0.55272855 0.31614845\n",
            "  0.96335975 0.9049562  0.46184584 0.82874868 0.33805515 0.67637516\n",
            "  0.83701455 0.48270794 0.75446405 0.36980941 0.33976637 0.73177399\n",
            "  0.58780442 0.48518146 0.41547749 0.62296385 0.42161305 0.11366317\n",
            "  0.2888956  0.42089753 0.71182242 0.68456756 0.57253847 0.76406534\n",
            "  0.48311865 0.22988089 0.79373924 0.74100522 0.70716255 0.48200381\n",
            "  0.27677533 0.26115787 0.59041747 0.73475884 0.16355552 0.82843431\n",
            "  0.31530973 0.82362403 0.49984124 0.6102247  0.88184447 0.39854146\n",
            "  0.43853857 0.47747602 0.14585754 0.         0.67016637 0.42407228\n",
            "  0.50571396 0.53533878 0.78396659 0.58075295 0.28897905 0.34819323\n",
            "  0.77164929 0.41816832 0.36851684 0.78878354 0.48109304 0.68440477\n",
            "  0.79008483 0.68824208 0.74381364 0.65443293 0.20653457 0.66258986\n",
            "  0.19896933 0.49510525 0.27308293 0.36273943 0.23393775 0.53460526\n",
            "  0.67685183 0.74965805 0.52733951 0.46886337 0.13163428 0.19610852\n",
            "  0.27555135 0.41933967 0.60915195 0.61723187 0.70826225 0.73594218\n",
            "  0.59845863 0.59801056 0.65999883 0.60834695 0.61467115 0.09713141\n",
            "  0.7119264  0.69684077 0.53611374 0.57609481]\n",
            " [0.01448646 0.45811387 0.06506319 0.60304514 0.15915058 0.63577049\n",
            "  0.56495457 0.45441743 0.52826106 0.78423585 0.64692904 1.067682\n",
            "  0.93541603 0.27992219 0.10277797 0.31465357 0.74704183 0.59641041\n",
            "  0.61572058 0.18664677 0.92553637 0.15529254 0.24884248 0.72310349\n",
            "  0.42558707 0.24930017 0.09249785 0.51419585 0.92711074 0.45766683\n",
            "  0.19787063 0.50230249 0.42990314 1.03883937 0.27358902 0.41922194\n",
            "  0.9143424  0.92296973 0.18727747 0.07602419 0.81809307 0.56305124\n",
            "  0.84048269 0.91766258 0.69598522 0.10190812 0.56246064 0.88067031\n",
            "  0.47242456 0.90068838 0.79826797 0.67016637 0.         0.24709824\n",
            "  0.37712371 0.97172496 0.66949231 0.9994772  0.38824862 0.85344228\n",
            "  0.75663613 0.89351647 0.91765452 0.86868708 0.41506784 0.45811596\n",
            "  0.32555083 1.01821272 0.30524618 0.10886964 0.46460882 0.94658626\n",
            "  0.51428587 0.73342806 0.56819101 0.40135434 0.90364694 0.77950823\n",
            "  0.19712026 1.06107459 0.26829961 0.73751937 0.54286562 0.81441164\n",
            "  0.46401073 0.935377   0.06188722 0.35686056 0.92130343 0.14576077\n",
            "  0.69766739 0.08157001 0.99061137 0.09130621 0.15736854 0.76668226\n",
            "  0.63124532 1.08420808 0.36314698 0.35943454]\n",
            " [0.26152236 0.23858567 0.24149321 0.49484483 0.14427649 0.44577185\n",
            "  0.6771521  0.58576009 0.40447237 0.75048411 0.46244336 0.89887748\n",
            "  0.85759745 0.19302162 0.33779942 0.10597813 0.55063526 0.58102314\n",
            "  0.5294518  0.07233012 0.71713916 0.24263603 0.02729897 0.47700195\n",
            "  0.19183582 0.01483632 0.3010745  0.5024015  0.76158766 0.50901092\n",
            "  0.06738425 0.28214743 0.50955914 0.89792198 0.36984384 0.32102808\n",
            "  0.67674987 0.67589441 0.20169733 0.31554846 0.57108506 0.60707349\n",
            "  0.62403557 0.84019811 0.55747794 0.20536781 0.63387717 0.67678936\n",
            "  0.34441996 0.71354775 0.55127028 0.42407228 0.24709824 0.\n",
            "  0.29973468 0.78511278 0.65405432 0.81931287 0.14209677 0.6423143\n",
            "  0.70790219 0.6921135  0.69954703 0.79273956 0.31686971 0.46503025\n",
            "  0.45148833 0.86587378 0.41117475 0.239021   0.21784712 0.80454699\n",
            "  0.2717576  0.58579675 0.36810889 0.2293588  0.65702432 0.63543982\n",
            "  0.28636158 0.916923   0.19148763 0.58042418 0.29582647 0.56939143\n",
            "  0.2554332  0.72595611 0.18553419 0.35782483 0.80120946 0.32202432\n",
            "  0.59561304 0.17418368 0.83649597 0.19880743 0.21338497 0.52095862\n",
            "  0.59553573 0.91733158 0.30857342 0.33249757]\n",
            " [0.38714188 0.25263104 0.42188768 0.22594285 0.3990434  0.31206264\n",
            "  0.45783599 0.40351633 0.15617134 0.45103171 0.31402782 0.7005376\n",
            "  0.57143912 0.11280497 0.39818387 0.22005019 0.41893327 0.28386668\n",
            "  0.24353275 0.26883128 0.6025063  0.23366683 0.27250407 0.60460561\n",
            "  0.43295285 0.28514472 0.34809353 0.20984375 0.56057668 0.25986909\n",
            "  0.34206765 0.2760855  0.28828215 0.66257545 0.23273108 0.04612003\n",
            "  0.66419777 0.75950026 0.46424184 0.39506793 0.66863505 0.33708614\n",
            "  0.5376665  0.5537128  0.32266806 0.27529757 0.38200919 0.55330435\n",
            "  0.11084877 0.55174637 0.65146589 0.50571396 0.37712371 0.29973468\n",
            "  0.         0.61971849 0.35557408 0.64113627 0.35671664 0.53959662\n",
            "  0.41017843 0.56186594 0.61251548 0.50507132 0.04290986 0.18778173\n",
            "  0.30452303 0.64466674 0.25959422 0.44911467 0.36741524 0.57096969\n",
            "  0.46437304 0.36271186 0.27521951 0.14542439 0.71828629 0.40630383\n",
            "  0.52952235 0.68525029 0.48471935 0.3716255  0.42719115 0.6975131\n",
            "  0.23023613 0.61345316 0.34788967 0.11328736 0.54438314 0.51636879\n",
            "  0.32202328 0.36395231 0.61791569 0.28610452 0.45838148 0.58271057\n",
            "  0.29580105 0.71583457 0.03226711 0.07173732]\n",
            " [0.98424083 0.54965467 0.99934703 0.4323236  0.92787761 0.3403004\n",
            "  0.9457985  0.95053034 0.46626429 0.5869234  0.32613617 0.14256225\n",
            "  0.46858866 0.69430997 1.01287372 0.68215721 0.23557177 0.62674985\n",
            "  0.46578044 0.80694737 0.13693236 0.84750972 0.76535134 0.62621028\n",
            "  0.75885666 0.773253   0.96236961 0.64382262 0.10988126 0.77213687\n",
            "  0.85171001 0.50929214 0.82694013 0.2455057  0.84259844 0.57360753\n",
            "  0.36844716 0.59651903 0.98675768 1.00584925 0.58934172 0.76766269\n",
            "  0.22297382 0.46487324 0.31803921 0.87571228 0.83633499 0.13725691\n",
            "  0.51024225 0.07168801 0.58908614 0.53533878 0.97172496 0.78511278\n",
            "  0.61971849 0.         0.6270212  0.04654716 0.7128609  0.18841069\n",
            "  0.53688781 0.11761093 0.20090198 0.45969085 0.57686101 0.68785681\n",
            "  0.89783463 0.18474744 0.85926082 1.01218388 0.64063638 0.21216323\n",
            "  0.69898968 0.27399291 0.41703236 0.57261814 0.53488339 0.25094198\n",
            "  1.07096851 0.24281781 0.95884994 0.25439031 0.61209715 0.65855592\n",
            "  0.52979155 0.14009373 0.92590333 0.70502196 0.30083854 1.09193455\n",
            "  0.39640578 0.93099533 0.166316   0.88285415 0.99708057 0.50403756\n",
            "  0.57526999 0.16284168 0.64625642 0.67334467]\n",
            " [0.67452038 0.56679831 0.72816681 0.2604612  0.73746112 0.48758312\n",
            "  0.34045638 0.38705313 0.32311195 0.11961098 0.47176731 0.63357063\n",
            "  0.30931265 0.46201494 0.64346552 0.57412269 0.54209866 0.07452583\n",
            "  0.20187619 0.61477948 0.68516065 0.51522788 0.62701411 0.89534049\n",
            "  0.78186954 0.63967248 0.60351813 0.15730547 0.52504153 0.23850066\n",
            "  0.69041699 0.57023954 0.2924094  0.52977231 0.41062952 0.34529196\n",
            "  0.84324811 1.00483221 0.80055126 0.65377184 0.9336668  0.16915861\n",
            "  0.67120453 0.2938412  0.34012535 0.57571492 0.23181801 0.63829496\n",
            "  0.35883512 0.58413057 0.92022816 0.78396659 0.66949231 0.65405432\n",
            "  0.35557408 0.6270212  0.         0.62254915 0.70549223 0.65403575\n",
            "  0.11863165 0.63555978 0.72580763 0.25186235 0.34865627 0.21139413\n",
            "  0.40924711 0.54631656 0.39633735 0.76460073 0.69958557 0.46588947\n",
            "  0.79839607 0.3756928  0.51130673 0.47520909 0.95141583 0.38029049\n",
            "  0.85239251 0.55571367 0.83368002 0.4060233  0.74333184 0.97919077\n",
            "  0.53625491 0.69601756 0.66243659 0.31646499 0.38927336 0.81508678\n",
            "  0.23656855 0.68528971 0.53168469 0.58975451 0.78789647 0.83532117\n",
            "  0.07205388 0.6399968  0.34583187 0.32766058]\n",
            " [1.01170853 0.58583196 1.0292337  0.44394808 0.96121442 0.37354806\n",
            "  0.94797235 0.9582663  0.485918   0.57401721 0.35769075 0.09616405\n",
            "  0.44283029 0.72065222 1.03697525 0.71537465 0.27321801 0.62781216\n",
            "  0.4723366  0.83832767 0.18272604 0.8714544  0.79880731 0.6724838\n",
            "  0.7996167  0.80710691 0.98650226 0.65074202 0.09752123 0.77997788\n",
            "  0.88547038 0.54650363 0.83581112 0.2049054  0.85977197 0.59506993\n",
            "  0.41347221 0.64199879 1.02099477 1.03097994 0.63584462 0.76918114\n",
            "  0.26930512 0.44063101 0.32985696 0.90216217 0.83783625 0.18336053\n",
            "  0.53317915 0.10886997 0.63563039 0.58075295 0.9994772  0.81931287\n",
            "  0.64113627 0.04654716 0.62254915 0.         0.7516958  0.23460776\n",
            "  0.52655745 0.16376327 0.24630851 0.43989196 0.59852093 0.69752569\n",
            "  0.91173437 0.14442832 0.87449185 1.04351913 0.68109303 0.18469316\n",
            "  0.74181089 0.2859315  0.45198718 0.60285539 0.58048631 0.25564117\n",
            "  1.10441871 0.19986302 0.99568243 0.27068982 0.65491794 0.70508696\n",
            "  0.56463174 0.18520737 0.95527649 0.72154658 0.27609555 1.12247672\n",
            "  0.39786004 0.96143401 0.13025862 0.90983868 1.03027202 0.55052447\n",
            "  0.57483853 0.11652344 0.66643081 0.69159463]\n",
            " [0.40258167 0.17595895 0.3760653  0.50193624 0.26377414 0.38797768\n",
            "  0.78423375 0.70238888 0.41085375 0.78706401 0.40876527 0.83859775\n",
            "  0.86347619 0.2766777  0.47987059 0.1412777  0.47849983 0.63701323\n",
            "  0.54821073 0.21149649 0.62636107 0.37359256 0.14828558 0.33502354\n",
            "  0.07647005 0.14324561 0.4423384  0.5663281  0.70805441 0.60085385\n",
            "  0.1951927  0.20785893 0.61218583 0.85922543 0.48804491 0.36023476\n",
            "  0.55377787 0.53528979 0.30439527 0.45761122 0.43018325 0.68983674\n",
            "  0.52750581 0.84692809 0.53647224 0.34438985 0.7268719  0.59170378\n",
            "  0.35738607 0.64308379 0.41034059 0.28897905 0.38824862 0.14209677\n",
            "  0.35671664 0.7128609  0.70549223 0.7516958  0.         0.55093389\n",
            "  0.73788938 0.60897517 0.59916501 0.80227442 0.35694947 0.54135146\n",
            "  0.57224627 0.81946242 0.52881752 0.36545996 0.08512168 0.76798296\n",
            "  0.13182254 0.55550643 0.30775036 0.23315138 0.51918839 0.6049323\n",
            "  0.39184206 0.87529066 0.25287445 0.54269085 0.15782827 0.42730505\n",
            "  0.2054859  0.63392318 0.32640825 0.44398659 0.78084808 0.44703842\n",
            "  0.59858561 0.31224828 0.78959446 0.33913832 0.32674687 0.38602955\n",
            "  0.63958076 0.85814977 0.37655174 0.40995663]\n",
            " [0.8669631  0.40400125 0.87164454 0.41041447 0.78657627 0.22802039\n",
            "  0.93463667 0.91654732 0.40541756 0.64812301 0.22609935 0.33076654\n",
            "  0.5817108  0.5888878  0.90932862 0.54607648 0.12332202 0.63198292\n",
            "  0.4610895  0.67606777 0.07548837 0.74799339 0.62621082 0.43788099\n",
            "  0.58819561 0.63219943 0.85958146 0.62438106 0.24804194 0.74311971\n",
            "  0.70969266 0.36016923 0.79175806 0.41490638 0.77215602 0.49595258\n",
            "  0.20944095 0.42537168 0.84098104 0.89808671 0.40549514 0.76460691\n",
            "  0.03514629 0.57310344 0.31392363 0.7647635  0.8309747  0.0512851\n",
            "  0.43037765 0.14037394 0.40371817 0.34819323 0.85344228 0.6423143\n",
            "  0.53959662 0.18841069 0.65403575 0.23460776 0.55093389 0.\n",
            "  0.59146096 0.07084454 0.07511511 0.55316874 0.49811433 0.65480257\n",
            "  0.83964709 0.35685548 0.79654437 0.87823524 0.47262574 0.35316451\n",
            "  0.52043499 0.28031194 0.28557296 0.45450685 0.36342652 0.29102819\n",
            "  0.92760808 0.41836588 0.80259984 0.24894828 0.43419401 0.47368389\n",
            "  0.39155029 0.08370843 0.8014817  0.64219489 0.42355107 0.9603739\n",
            "  0.41987746 0.80195246 0.33160243 0.76945777 0.85554926 0.31668183\n",
            "  0.58952466 0.35112905 0.57027946 0.60448297]\n",
            " [0.7631455  0.58198657 0.81182326 0.24620472 0.8069061  0.45966464\n",
            "  0.45734071 0.50531992 0.33065429 0.05820804 0.4401653  0.52732497\n",
            "  0.19311328 0.52244875 0.74123867 0.61733628 0.49088005 0.17125826\n",
            "  0.19187464 0.67850992 0.61172509 0.60135818 0.68060925 0.88511471\n",
            "  0.812833   0.69312699 0.69831236 0.24638802 0.43015895 0.35029925\n",
            "  0.75223378 0.57626951 0.40637565 0.41587424 0.51100603 0.38743926\n",
            "  0.79172296 0.97209581 0.87157453 0.74897781 0.91080873 0.2877808\n",
            "  0.6133504  0.17689543 0.28689316 0.65861712 0.34982883 0.56810953\n",
            "  0.38058467 0.50281937 0.89933425 0.77164929 0.75663613 0.70790219\n",
            "  0.41017843 0.53688781 0.11863165 0.52655745 0.73788938 0.59146096\n",
            "  0.         0.56235121 0.65905718 0.13339008 0.39148293 0.30650289\n",
            "  0.51950907 0.43723798 0.50186685 0.84530181 0.71835239 0.3588834\n",
            "  0.81554262 0.31254484 0.50097317 0.50488837 0.91533057 0.30318621\n",
            "  0.93066504 0.44167608 0.89484139 0.34440256 0.75092802 0.96256617\n",
            "  0.55000486 0.62201998 0.74231739 0.3998296  0.27669135 0.90217369\n",
            "  0.1783842  0.76282561 0.42536249 0.67200475 0.86259051 0.8104111\n",
            "  0.12609017 0.53202262 0.40907252 0.40083131]\n",
            " [0.9066615  0.45378623 0.91570855 0.40673432 0.83617591 0.25845133\n",
            "  0.93241337 0.9230102  0.41757918 0.61727898 0.2503719  0.25992231\n",
            "  0.53269366 0.62226817 0.94349591 0.59247521 0.14675971 0.62139153\n",
            "  0.45178405 0.72082735 0.04965007 0.77985416 0.67434569 0.50872401\n",
            "  0.65033277 0.68119581 0.89326608 0.62314772 0.18493964 0.74664137\n",
            "  0.75938095 0.41121653 0.79800969 0.34817085 0.79227199 0.51667636\n",
            "  0.26582368 0.48906978 0.89262487 0.93394892 0.47462851 0.75831032\n",
            "  0.1056495  0.52558229 0.30000323 0.80145435 0.82598994 0.01966021\n",
            "  0.45108322 0.07567142 0.47348018 0.41816832 0.89351647 0.6921135\n",
            "  0.56186594 0.11761093 0.63555978 0.16376327 0.60897517 0.07084454\n",
            "  0.56235121 0.         0.10328191 0.51026069 0.5193247  0.65918098\n",
            "  0.85522765 0.28909391 0.81369805 0.92494158 0.53325857 0.2928093\n",
            "  0.58617561 0.26057222 0.32707743 0.49222486 0.4270488  0.25926804\n",
            "  0.97839417 0.35017447 0.8586868  0.23184648 0.49948873 0.5432833\n",
            "  0.43776861 0.06046357 0.84395824 0.65833261 0.36960065 1.00626414\n",
            "  0.39900372 0.84637972 0.26507188 0.80719084 0.90541333 0.38720384\n",
            "  0.57506022 0.28028504 0.5911405  0.62274278]\n",
            " [0.93138875 0.46316435 0.93295658 0.48492637 0.84335749 0.30046052\n",
            "  1.00958755 0.99156315 0.48028996 0.71495933 0.30001595 0.33942171\n",
            "  0.63590876 0.65766042 0.9768913  0.60689061 0.19830351 0.70568827\n",
            "  0.53481329 0.73749864 0.06427263 0.81700918 0.6850699  0.44371228\n",
            "  0.62943323 0.69024375 0.92748371 0.69931445 0.28595604 0.81823456\n",
            "  0.76670147 0.41874993 0.86680547 0.44382028 0.84522862 0.56935062\n",
            "  0.16769408 0.39569931 0.89549317 0.96475735 0.39451243 0.83910227\n",
            "  0.07732113 0.62865214 0.38615081 0.8312706  0.90565452 0.09236229\n",
            "  0.50395889 0.17777048 0.39643447 0.36851684 0.91765452 0.69954703\n",
            "  0.61251548 0.20090198 0.72580763 0.24630851 0.59916501 0.07511511\n",
            "  0.65905718 0.10328191 0.         0.61244461 0.57139549 0.72991526\n",
            "  0.91363123 0.38352219 0.87026008 0.93736624 0.51765462 0.39452311\n",
            "  0.55441003 0.35058485 0.35245823 0.52175568 0.33418662 0.35636286\n",
            "  0.98274878 0.44304641 0.85201114 0.31982756 0.47038995 0.46449499\n",
            "  0.45384304 0.0611934  0.86417739 0.71625897 0.47278488 1.01999012\n",
            "  0.49042001 0.86318235 0.36183007 0.83534913 0.91183491 0.31763104\n",
            "  0.66232251 0.35886063 0.64348005 0.67819742]\n",
            " [0.87630665 0.63452014 0.92057692 0.30122465 0.90377792 0.47316187\n",
            "  0.58825268 0.63870964 0.3931062  0.15376327 0.45086216 0.4221314\n",
            "  0.06676655 0.61744833 0.86155379 0.69491825 0.47327681 0.30125574\n",
            "  0.26368319 0.77246893 0.55731719 0.7143674  0.76579323 0.90188289\n",
            "  0.87420376 0.77792041 0.81671629 0.37018551 0.34981137 0.48160869\n",
            "  0.84327103 0.61986484 0.53837925 0.29701947 0.63489025 0.47406871\n",
            "  0.76149103 0.96123625 0.96907237 0.8673218  0.91269675 0.42099814\n",
            "  0.58054246 0.04899113 0.28926654 0.76841802 0.48206725 0.52014691\n",
            "  0.45085679 0.44130633 0.90372168 0.78878354 0.86868708 0.79273956\n",
            "  0.50507132 0.45969085 0.25186235 0.43989196 0.80227442 0.55316874\n",
            "  0.13339008 0.51026069 0.61244461 0.         0.47838934 0.43084366\n",
            "  0.64926754 0.32874597 0.62898203 0.95131508 0.76987063 0.2583354\n",
            "  0.86304601 0.29659354 0.53134689 0.57450734 0.90150427 0.26693068\n",
            "  1.03389498 0.32199572 0.98332034 0.32609881 0.7901369  0.97063341\n",
            "  0.60251014 0.56642952 0.84870017 0.51496151 0.16735561 1.01305019\n",
            "  0.20398562 0.86705357 0.32308908 0.78112636 0.96335417 0.81216062\n",
            "  0.25065092 0.4234169  0.51034386 0.50931222]\n",
            " [0.42558447 0.23381331 0.45725399 0.19014072 0.4263764  0.27114631\n",
            "  0.48358188 0.43645055 0.11454685 0.43603385 0.27221477 0.65879062\n",
            "  0.54415827 0.14177283 0.43987385 0.22725098 0.37692579 0.28034101\n",
            "  0.21482381 0.29444084 0.56030247 0.27483053 0.28962495 0.58351804\n",
            "  0.43338285 0.302053   0.38962924 0.2139944  0.51863845 0.28341586\n",
            "  0.36493965 0.25150752 0.31760175 0.62377521 0.27407935 0.00437284\n",
            "  0.62755979 0.73106452 0.4917257  0.43600722 0.64283219 0.35092809\n",
            "  0.49702368 0.52654979 0.28199571 0.31364609 0.40118857 0.51097228\n",
            "  0.06825483 0.50883828 0.6262178  0.48109304 0.41506784 0.31686971\n",
            "  0.04290986 0.57686101 0.34865627 0.59852093 0.35694947 0.49811433\n",
            "  0.39148293 0.5193247  0.57139549 0.47838934 0.         0.20389618\n",
            "  0.34345397 0.60435692 0.29925396 0.48245272 0.35757921 0.53164836\n",
            "  0.45599975 0.3212914  0.23916694 0.13078792 0.68788898 0.36569572\n",
            "  0.56048196 0.64609445 0.50581907 0.3293735  0.41162404 0.67504715\n",
            "  0.20795838 0.57128659 0.382633   0.14808102 0.50840553 0.55209924\n",
            "  0.28881163 0.39697339 0.57730219 0.32378147 0.48814838 0.55417246\n",
            "  0.28413303 0.67429036 0.0721849  0.10784439]\n",
            " [0.46314011 0.43703065 0.51715986 0.2558778  0.53290205 0.44210959\n",
            "  0.28627623 0.2640569  0.25268861 0.32758101 0.43539006 0.73516111\n",
            "  0.49572906 0.27325531 0.43518012 0.40149279 0.53182332 0.13906977\n",
            "  0.22713643 0.41660175 0.70566222 0.30413642 0.43908271 0.78741368\n",
            "  0.6169205  0.45150636 0.393477   0.06066358 0.60458356 0.08840827\n",
            "  0.49254469 0.45522164 0.13938055 0.66184635 0.20461411 0.20266495\n",
            "  0.81077375 0.93118148 0.59450567 0.44399081 0.84533807 0.14933651\n",
            "  0.66140302 0.47850103 0.36984866 0.36525844 0.19744499 0.65552504\n",
            "  0.25068974 0.62883339 0.82906241 0.68440477 0.45811596 0.46503025\n",
            "  0.18778173 0.68785681 0.21139413 0.69752569 0.54135146 0.65480257\n",
            "  0.30650289 0.65918098 0.72991526 0.43084366 0.20389618 0.\n",
            "  0.22483976 0.66106833 0.19900456 0.55425544 0.55519352 0.58013852\n",
            "  0.65205227 0.41386465 0.43116756 0.33140307 0.8856052  0.4423836\n",
            "  0.64263654 0.68713228 0.63446036 0.43536131 0.61374189 0.87882127\n",
            "  0.41182282 0.71697415 0.45268768 0.10985989 0.52574246 0.60369289\n",
            "  0.31018671 0.47642665 0.63929233 0.3794535  0.57989278 0.75464964\n",
            "  0.18111085 0.74651594 0.16484405 0.13331728]\n",
            " [0.32391493 0.53439823 0.39060997 0.46803897 0.45473119 0.61413985\n",
            "  0.24050005 0.13591611 0.43766096 0.52866028 0.61364464 0.95542448\n",
            "  0.71221865 0.309013   0.26085378 0.43825529 0.7171307  0.34844631\n",
            "  0.44854058 0.38256822 0.89867787 0.21343717 0.43294385 0.87730513\n",
            "  0.63807444 0.4425617  0.23695241 0.28325423 0.82162586 0.17078661\n",
            "  0.4471294  0.5670946  0.12137641 0.88641937 0.08463094 0.34511359\n",
            "  0.96824315 1.04982148 0.50280085 0.27972515 0.95329687 0.26308316\n",
            "  0.84002325 0.69552922 0.58187853 0.26948354 0.24466727 0.84871572\n",
            "  0.40990539 0.83458483 0.93491302 0.79008483 0.32555083 0.45148833\n",
            "  0.30452303 0.89783463 0.40924711 0.91173437 0.57224627 0.83964709\n",
            "  0.51950907 0.85522765 0.91363123 0.64926754 0.34345397 0.22483976\n",
            "  0.         0.88406497 0.04635875 0.4342381  0.61682826 0.80361339\n",
            "  0.70113891 0.62582937 0.57942197 0.43141506 1.01324642 0.65933904\n",
            "  0.52254194 0.91161262 0.56904125 0.64344931 0.68990674 0.97245769\n",
            "  0.51970948 0.90984621 0.34994719 0.19747809 0.7505807  0.45716635\n",
            "  0.53338506 0.37852774 0.86144806 0.28274304 0.47771119 0.87484417\n",
            "  0.39903785 0.96763089 0.27247119 0.23576934]\n",
            " [1.0292286  0.64557448 1.05571047 0.424996   1.00221463 0.43149353\n",
            "  0.88410538 0.9106739  0.49020196 0.4761996  0.41087742 0.09379013\n",
            "  0.31720162 0.73915378 1.04192243 0.75992219 0.35480768 0.56738791\n",
            "  0.435605   0.87328409 0.31926595 0.87827028 0.84268397 0.78817469\n",
            "  0.8759859  0.85245466 0.99221425 0.60718365 0.11613815 0.73583947\n",
            "  0.92921374 0.6116988  0.79369422 0.0607725  0.84366429 0.60036416\n",
            "  0.55110502 0.777424   1.06503218 1.03969408 0.76228126 0.70642052\n",
            "  0.39185727 0.3185232  0.32241363 0.91747229 0.77371782 0.30717935\n",
            "  0.54605742 0.21662313 0.76002819 0.68824208 1.01821272 0.86587378\n",
            "  0.64466674 0.18474744 0.54631656 0.14442832 0.81946242 0.35685548\n",
            "  0.43723798 0.28909391 0.38352219 0.32874597 0.60435692 0.66106833\n",
            "  0.88406497 0.         0.85175401 1.07549899 0.75773059 0.08173283\n",
            "  0.82997012 0.28529015 0.51176052 0.63893134 0.71548248 0.23875708\n",
            "  1.1443365  0.06178435 1.05120024 0.28588952 0.74428448 0.83011786\n",
            "  0.61960094 0.32369754 0.98071344 0.706351   0.16247923 1.15051047\n",
            "  0.35091356 0.99088937 0.029874   0.92698854 1.06987559 0.67139026\n",
            "  0.51188004 0.09512775 0.6649491  0.682922  ]\n",
            " [0.30554628 0.48806383 0.36992297 0.43190954 0.42410376 0.57031636\n",
            "  0.270895   0.17468701 0.39651057 0.51585437 0.57044775 0.92090236\n",
            "  0.69320284 0.26318755 0.25369619 0.39355019 0.67438771 0.33086997\n",
            "  0.4164189  0.34372058 0.85657466 0.17847489 0.39161188 0.8314756\n",
            "  0.59579305 0.40163948 0.22199656 0.25930381 0.78568678 0.16226009\n",
            "  0.41088687 0.52075019 0.12524944 0.85650506 0.04133456 0.30109133\n",
            "  0.92269815 1.00348421 0.47547954 0.26890247 0.90706383 0.26360909\n",
            "  0.79622703 0.67617122 0.54492315 0.23817991 0.25725236 0.80673841\n",
            "  0.36630359 0.79504291 0.88870935 0.74381364 0.30524618 0.41117475\n",
            "  0.25959422 0.85926082 0.39633735 0.87449185 0.52881752 0.79654437\n",
            "  0.50186685 0.81369805 0.87026008 0.62898203 0.29925396 0.19900456\n",
            "  0.04635875 0.85175401 0.         0.41252634 0.57168576 0.77195367\n",
            "  0.65698401 0.58864227 0.53404579 0.38508493 0.96689627 0.62381859\n",
            "  0.50191913 0.88142692 0.53741462 0.60508652 0.64430979 0.92658823\n",
            "  0.47336459 0.86770072 0.32253724 0.15540016 0.72246687 0.44314888\n",
            "  0.5021639  0.35063864 0.82840435 0.25211517 0.45233933 0.82848558\n",
            "  0.37841277 0.93364554 0.22774013 0.19207143]\n",
            " [0.11267578 0.47454223 0.04430904 0.67258775 0.10204573 0.67207284\n",
            "  0.67381605 0.5631961  0.59086526 0.876625   0.68623639 1.11772333\n",
            "  1.01802348 0.34102766 0.19907229 0.33256946 0.7807431  0.69059099\n",
            "  0.69236586 0.20525344 0.95245418 0.25087589 0.25231541 0.6911662\n",
            "  0.38385581 0.2473413  0.20055372 0.60772596 0.97799591 0.56123423\n",
            "  0.17354694 0.51878931 0.53642501 1.10096336 0.37916641 0.48679016\n",
            "  0.91437247 0.89585258 0.0924497  0.17213302 0.79060498 0.6669215\n",
            "  0.86133112 1.00024314 0.75620478 0.18899785 0.66932669 0.91046103\n",
            "  0.5319326  0.9405259  0.77083363 0.65443293 0.10886964 0.239021\n",
            "  0.44911467 1.01218388 0.76460073 1.04351913 0.36545996 0.87823524\n",
            "  0.84530181 0.92494158 0.93736624 0.95131508 0.48245272 0.55425544\n",
            "  0.4342381  1.07549899 0.41252634 0.         0.44890822 1.00771874\n",
            "  0.47848916 0.79048877 0.5981268  0.44090379 0.88360232 0.83849066\n",
            "  0.08978109 1.12200754 0.18173095 0.79066466 0.52318099 0.77786727\n",
            "  0.48742808 0.9616097  0.10298993 0.44855294 0.99050351 0.08300932\n",
            "  0.7707015  0.08550602 1.04698229 0.17485994 0.05823575 0.75148855\n",
            "  0.72147735 1.13524272 0.4410313  0.44454036]\n",
            " [0.47907021 0.1365418  0.457277   0.47499164 0.34770098 0.32868246\n",
            "  0.81496883 0.74171398 0.38770218 0.77066294 0.35090355 0.77048759\n",
            "  0.82823755 0.30983027 0.55171746 0.17937877 0.40921071 0.63539344\n",
            "  0.52651343 0.281419   0.54773232 0.43094526 0.21723551 0.26604844\n",
            "  0.11877275 0.21545584 0.51108975 0.57153478 0.64408815 0.6234442\n",
            "  0.27677482 0.15268708 0.64212619 0.80080748 0.53223875 0.36009202\n",
            "  0.46866129 0.45940964 0.38951222 0.53095287 0.35530659 0.70446708\n",
            "  0.44759507 0.81236339 0.49234872 0.41048732 0.74795729 0.51538655\n",
            "  0.34174507 0.57222357 0.33561586 0.20653457 0.46460882 0.21784712\n",
            "  0.36741524 0.64063638 0.69958557 0.68109303 0.08512168 0.47262574\n",
            "  0.71835239 0.53325857 0.51765462 0.76987063 0.35757921 0.55519352\n",
            "  0.61682826 0.75773059 0.57168576 0.44890822 0.         0.71150338\n",
            "  0.09885012 0.50580514 0.25131641 0.22685156 0.43917915 0.55401692\n",
            "  0.47696209 0.81533992 0.33595841 0.48932324 0.07887229 0.36084294\n",
            "  0.16868043 0.55482611 0.40327183 0.46759632 0.73246046 0.53097199\n",
            "  0.56628346 0.39154467 0.72790301 0.4071846  0.41156755 0.30361434\n",
            "  0.63051711 0.79038216 0.39244594 0.42969673]\n",
            " [0.95722173 0.59238336 0.98624202 0.34829549 0.93791709 0.38282092\n",
            "  0.80285833 0.8289595  0.41853518 0.40058586 0.36073599 0.16845227\n",
            "  0.2581541  0.66893369 0.96668488 0.6986858  0.32300993 0.48571922\n",
            "  0.35554184 0.80753344 0.33225222 0.80403163 0.78046976 0.76778841\n",
            "  0.82839881 0.79074508 0.91729872 0.52581102 0.10873642 0.65429319\n",
            "  0.8663562  0.56172762 0.71219861 0.09352249 0.76485427 0.52754681\n",
            "  0.55848057 0.77853018 1.00157082 0.96535509 0.75240837 0.62496305\n",
            "  0.38662796 0.25607709 0.25156387 0.84529109 0.69240439 0.30813479\n",
            "  0.47613857 0.21718398 0.74805777 0.66258986 0.94658626 0.80454699\n",
            "  0.57096969 0.21216323 0.46588947 0.18469316 0.76798296 0.35316451\n",
            "  0.3588834  0.2928093  0.39452311 0.2583354  0.53164836 0.58013852\n",
            "  0.80361339 0.08173283 0.77195367 1.00771874 0.71150338 0.\n",
            "  0.78950768 0.21889268 0.46135009 0.57576345 0.716591   0.16968249\n",
            "  1.07903018 0.11452057 0.99243083 0.2259861  0.70554571 0.81806981\n",
            "  0.56462264 0.33908225 0.9112271  0.62815618 0.09190171 1.08119841\n",
            "  0.27023022 0.92263562 0.06650618 0.85528005 1.00475346 0.65715516\n",
            "  0.43024735 0.174108   0.58984595 0.60610123]\n",
            " [0.52838556 0.23372377 0.49525793 0.5710943  0.37698035 0.40912447\n",
            "  0.90692958 0.82937093 0.48509427 0.86837419 0.43209895 0.83434198\n",
            "  0.92002355 0.39906192 0.60882754 0.2641078  0.47602592 0.73421342\n",
            "  0.62367422 0.34259045 0.59329488 0.50520837 0.27994592 0.21270617\n",
            "  0.0958897  0.27431784 0.57282448 0.66983409 0.71459135 0.71811889\n",
            "  0.31718279 0.24318178 0.73415432 0.87635642 0.61662549 0.45858948\n",
            "  0.475741   0.41803045 0.40479187 0.5857204  0.31309324 0.80138878\n",
            "  0.49135417 0.90449915 0.58127605 0.47581435 0.84329124 0.56726599\n",
            "  0.44031921 0.63374823 0.29347608 0.19896933 0.51428587 0.2717576\n",
            "  0.46437304 0.69898968 0.79839607 0.74181089 0.13182254 0.52043499\n",
            "  0.81554262 0.58617561 0.55441003 0.86304601 0.45599975 0.65205227\n",
            "  0.70113891 0.82997012 0.65698401 0.47848916 0.09885012 0.78950768\n",
            "  0.         0.59106337 0.33646412 0.32541407 0.41075844 0.63793362\n",
            "  0.48862196 0.8891981  0.33393339 0.57201919 0.08690068 0.30079274\n",
            "  0.26557586 0.59895461 0.45248934 0.56152398 0.81699307 0.55673526\n",
            "  0.66024118 0.43560076 0.80039821 0.47014561 0.43241805 0.2894843\n",
            "  0.72920747 0.8545967  0.48833561 0.52469553]\n",
            " [0.74464149 0.37962437 0.77042043 0.1585205  0.71917589 0.18426987\n",
            "  0.67646872 0.67677579 0.20674799 0.3699854  0.16109019 0.33801064\n",
            "  0.34196474 0.45401109 0.7608948  0.48001622 0.18028561 0.36162444\n",
            "  0.19423486 0.58916139 0.31000217 0.59609837 0.56160926 0.60738753\n",
            "  0.61976381 0.57193926 0.71076818 0.3708209  0.19882884 0.49845775\n",
            "  0.6474638  0.35337682 0.55298666 0.31238844 0.57472202 0.31745921\n",
            "  0.479335   0.66745708 0.78272011 0.75729274 0.61615214 0.50018863\n",
            "  0.30092466 0.32886593 0.04411666 0.63309484 0.56843504 0.26263625\n",
            "  0.26102062 0.2171851  0.60713275 0.49510525 0.73342806 0.58579675\n",
            "  0.36271186 0.27399291 0.3756928  0.2859315  0.55550643 0.28031194\n",
            "  0.31254484 0.26057222 0.35058485 0.29659354 0.3212914  0.41386465\n",
            "  0.62582937 0.28529015 0.58864227 0.79048877 0.50580514 0.21889268\n",
            "  0.59106337 0.         0.25504927 0.35687925 0.60878555 0.04988395\n",
            "  0.86058096 0.33224565 0.77426874 0.0318715  0.51143643 0.67419612\n",
            "  0.350318   0.32099239 0.6954236  0.43631198 0.22665587 0.86522718\n",
            "  0.13983849 0.70573477 0.25727976 0.64231005 0.78622965 0.51557815\n",
            "  0.31450401 0.35312596 0.38543878 0.40785875]\n",
            " [0.58161747 0.13481829 0.58868736 0.25659867 0.51124279 0.08049286\n",
            "  0.71687631 0.67547076 0.19127208 0.55741397 0.10104546 0.53461749\n",
            "  0.58583704 0.3055701  0.62448518 0.26608475 0.18288512 0.46156962\n",
            "  0.31488492 0.3937599  0.35736946 0.46491337 0.34879652 0.38558622\n",
            "  0.36716209 0.35639166 0.57502763 0.42149285 0.4011901  0.51655727\n",
            "  0.43485027 0.1004071  0.55527741 0.55187309 0.50446878 0.23846491\n",
            "  0.38897852 0.50265956 0.5697281  0.61272243 0.42394555 0.56765981\n",
            "  0.27522867 0.57082908 0.24543255 0.4793157  0.62599484 0.31323175\n",
            "  0.18077773 0.34552067 0.40971958 0.27308293 0.56819101 0.36810889\n",
            "  0.27521951 0.41703236 0.51130673 0.45198718 0.30775036 0.28557296\n",
            "  0.50097317 0.32707743 0.35245823 0.53134689 0.23916694 0.43116756\n",
            "  0.57942197 0.51176052 0.53404579 0.5981268  0.25131641 0.46135009\n",
            "  0.33646412 0.25504927 0.         0.16932513 0.45495081 0.30282438\n",
            "  0.65417689 0.56761075 0.54446513 0.2380211  0.25934101 0.46788813\n",
            "  0.11277279 0.36718604 0.51730373 0.38691351 0.48155897 0.67924099\n",
            "  0.33251978 0.51931164 0.48189911 0.48389164 0.58050609 0.32799005\n",
            "  0.43925409 0.55370936 0.3074603  0.34596281]\n",
            " [0.41444498 0.10749291 0.4267346  0.27333398 0.36331519 0.23449708\n",
            "  0.60252378 0.54239906 0.18143324 0.55393328 0.24659247 0.67718214\n",
            "  0.63755203 0.13774155 0.45516008 0.12443425 0.34568911 0.40928327\n",
            "  0.31620452 0.23607594 0.52524676 0.29648463 0.20476998 0.45945997\n",
            "  0.30868466 0.21528848 0.40573952 0.34478232 0.5379568  0.40527021\n",
            "  0.29065179 0.13575853 0.43161304 0.66923527 0.35095068 0.13324528\n",
            "  0.5454869  0.61985603 0.42620504 0.44357991 0.52620802 0.48000698\n",
            "  0.44449293 0.62055048 0.32814184 0.31029708 0.52711958 0.47964547\n",
            "  0.12491275 0.50114827 0.50857843 0.36273943 0.40135434 0.2293588\n",
            "  0.14542439 0.57261814 0.47520909 0.60285539 0.23315138 0.45450685\n",
            "  0.50488837 0.49222486 0.52175568 0.57450734 0.13078792 0.33140307\n",
            "  0.43141506 0.63893134 0.38508493 0.44090379 0.22685156 0.57576345\n",
            "  0.32541407 0.35687925 0.16932513 0.         0.58190903 0.40637351\n",
            "  0.50577015 0.688683   0.41957427 0.35304197 0.28234444 0.55277517\n",
            "  0.08841781 0.53532221 0.35341218 0.25479814 0.57232834 0.51963982\n",
            "  0.37278893 0.35860364 0.60983981 0.31533898 0.43127371 0.44397337\n",
            "  0.40776087 0.69494328 0.17432794 0.2140013 ]\n",
            " [0.91812047 0.48024781 0.8952209  0.69100796 0.7815669  0.46389585\n",
            "  1.17042186 1.12166191 0.64327972 0.9735303  0.47992193 0.67317212\n",
            "  0.93729022 0.70980888 0.98839271 0.6027832  0.42890774 0.91007758\n",
            "  0.74957429 0.71905268 0.39795135 0.8548113  0.6553623  0.20719095\n",
            "  0.50639229 0.65435343 0.94556553 0.87586868 0.61081062 0.96986326\n",
            "  0.71432924 0.44616804 1.00533926 0.77504569 0.93192419 0.6879683\n",
            "  0.16867366 0.06203339 0.8145469  0.96867533 0.1073739  1.02223619\n",
            "  0.33032427 0.92706426 0.62876554 0.84389406 1.08094025 0.40993947\n",
            "  0.63491736 0.50185726 0.12383872 0.23393775 0.90364694 0.65702432\n",
            "  0.71828629 0.53488339 0.95141583 0.58048631 0.51918839 0.36342652\n",
            "  0.91533057 0.4270488  0.33418662 0.90150427 0.68788898 0.8856052\n",
            "  1.01324642 0.71548248 0.96689627 0.88360232 0.43917915 0.716591\n",
            "  0.41075844 0.60878555 0.45495081 0.58190903 0.         0.63459233\n",
            "  0.89918931 0.77591227 0.74445915 0.57765499 0.36169866 0.16452367\n",
            "  0.49354783 0.39534563 0.84242297 0.83151882 0.78470681 0.96398194\n",
            "  0.73695288 0.83046808 0.69207605 0.84219457 0.8408764  0.1398603\n",
            "  0.8804964  0.6923412  0.74999647 0.78995515]\n",
            " [0.7904846  0.42899369 0.81770121 0.1919985  0.7682446  0.22937838\n",
            "  0.69488536 0.70262541 0.25144992 0.35864756 0.20621389 0.29773517\n",
            "  0.30588888 0.50073308 0.80412508 0.5297164  0.20701857 0.37592291\n",
            "  0.2166965  0.63788021 0.30875173 0.63997065 0.61113864 0.64574815\n",
            "  0.66861107 0.62153791 0.75422634 0.39511292 0.16243074 0.52434475\n",
            "  0.69685133 0.40188856 0.58030333 0.26319921 0.61214016 0.36173097\n",
            "  0.49676097 0.69444962 0.83195263 0.80136437 0.64883247 0.51672938\n",
            "  0.31597626 0.2942021  0.08370007 0.67871618 0.58539697 0.26500199\n",
            "  0.30763535 0.20384082 0.64087612 0.53460526 0.77950823 0.63543982\n",
            "  0.40630383 0.25094198 0.38029049 0.25564117 0.6049323  0.29102819\n",
            "  0.30318621 0.25926804 0.35636286 0.26693068 0.36569572 0.4423836\n",
            "  0.65933904 0.23875708 0.62381859 0.83849066 0.55401692 0.16968249\n",
            "  0.63793362 0.04988395 0.30282438 0.40637351 0.63459233 0.\n",
            "  0.90936869 0.28359029 0.824089   0.06663206 0.55722718 0.7089725\n",
            "  0.3999058  0.31917993 0.74267761 0.4738096  0.17906376 0.91259774\n",
            "  0.14592034 0.75354631 0.21163131 0.68826472 0.83507915 0.54887725\n",
            "  0.32509893 0.3115795  0.42750168 0.4475965 ]\n",
            " [0.19893806 0.52466426 0.13211203 0.74998816 0.14320977 0.73102823\n",
            "  0.76135375 0.64981738 0.66546921 0.96336177 0.7468646  1.18203911\n",
            "  1.10046737 0.41877598 0.27834615 0.38904536 0.8368818  0.77818695\n",
            "  0.77301398 0.27150355 1.00268787 0.34007224 0.3056614  0.69931586\n",
            "  0.39282653 0.29778588 0.28691876 0.69526278 1.04343837 0.65097479\n",
            "  0.21933329 0.56778721 0.62605033 1.17251824 0.46888669 0.56485089\n",
            "  0.94558706 0.90535283 0.0876869  0.25278013 0.80105627 0.75666897\n",
            "  0.9081527  1.08270689 0.82825952 0.27764678 0.75889319 0.96293564\n",
            "  0.60562902 0.99933392 0.78160694 0.67685183 0.19712026 0.28636158\n",
            "  0.52952235 1.07096851 0.85239251 1.10441871 0.39184206 0.92760808\n",
            "  0.93066504 0.97839417 0.98274878 1.03389498 0.56048196 0.64263654\n",
            "  0.52254194 1.1443365  0.50191913 0.08978109 0.47696209 1.07903018\n",
            "  0.48862196 0.86058096 0.65417689 0.50577015 0.89918931 0.90936869\n",
            "  0.         1.19281261 0.15905379 0.85853669 0.54553722 0.7805729\n",
            "  0.54165735 1.01131235 0.18999296 0.53599227 1.06631455 0.09646143\n",
            "  0.84928959 0.16786201 1.11538911 0.26331135 0.07449655 0.77271345\n",
            "  0.80767023 1.20010269 0.52386793 0.52994555]\n",
            " [1.07167802 0.70054178 1.10072159 0.46175705 1.0513847  0.48776771\n",
            "  0.89592021 0.92978716 0.53305566 0.4744505  0.46656548 0.12703009\n",
            "  0.29816115 0.78343551 1.08033395 0.81096448 0.41500144 0.58431361\n",
            "  0.46554243 0.92136332 0.37878817 0.91809302 0.89317512 0.84991206\n",
            "  0.93325319 0.9032641  1.03109521 0.63101776 0.17717252 0.75788226\n",
            "  0.97933161 0.66788077 0.8160578  0.02596717 0.87586324 0.64198191\n",
            "  0.61073974 0.83778841 1.11479432 1.07934126 0.82384621 0.72034591\n",
            "  0.4534084  0.30284492 0.36598651 0.95974038 0.78630927 0.36845632\n",
            "  0.59058822 0.27825616 0.82170367 0.74965805 1.06107459 0.916923\n",
            "  0.68525029 0.24281781 0.55571367 0.19986302 0.87529066 0.41836588\n",
            "  0.44167608 0.35017447 0.44304641 0.32199572 0.64609445 0.68713228\n",
            "  0.91161262 0.06178435 0.88142692 1.12200754 0.81533992 0.11452057\n",
            "  0.8891981  0.33224565 0.56761075 0.688683   0.77591227 0.28359029\n",
            "  1.19281261 0.         1.10379367 0.33671925 0.80383365 0.89177959\n",
            "  0.67375919 0.38269496 1.02570318 0.74002281 0.16671264 1.19567192\n",
            "  0.37941226 1.03698286 0.08973    0.96976866 1.1184722  0.73315429\n",
            "  0.52862308 0.11810505 0.70372129 0.71911002]\n",
            " [0.27804665 0.40994819 0.21750403 0.68623724 0.11477821 0.62439762\n",
            "  0.80796436 0.70414409 0.59596    0.93511305 0.64293826 1.0790223\n",
            "  1.04846192 0.37320069 0.36991301 0.29516622 0.72330115 0.75955517\n",
            "  0.71973807 0.21894184 0.87808705 0.35931658 0.21794092 0.54237143\n",
            "  0.23920061 0.20615639 0.35693945 0.67840488 0.94407903 0.66398691\n",
            "  0.14332234 0.44955853 0.65251437 1.08552002 0.49834944 0.51006868\n",
            "  0.80064527 0.74828857 0.08964366 0.34256431 0.64456068 0.76737205\n",
            "  0.77996736 1.03100331 0.74746034 0.29972735 0.78363011 0.84194138\n",
            "  0.53588975 0.88801629 0.62528842 0.52733951 0.26829961 0.19148763\n",
            "  0.48471935 0.95884994 0.83368002 0.99568243 0.25287445 0.80259984\n",
            "  0.89484139 0.8586868  0.85201114 0.98332034 0.50581907 0.63446036\n",
            "  0.56904125 1.05120024 0.53741462 0.18173095 0.33595841 0.99243083\n",
            "  0.33393339 0.77426874 0.54446513 0.41957427 0.74445915 0.824089\n",
            "  0.15905379 1.10379367 0.         0.76711387 0.39776043 0.62209637\n",
            "  0.43293303 0.88590154 0.2230578  0.52465376 0.99189916 0.24253464\n",
            "  0.78702594 0.19461246 1.02158108 0.28630284 0.12387872 0.62162462\n",
            "  0.77896929 1.09800915 0.48887343 0.5066207 ]\n",
            " [0.74911336 0.36683924 0.77222423 0.17955808 0.71633062 0.16306649\n",
            "  0.70223997 0.69908367 0.21572019 0.40185676 0.13997211 0.33039025\n",
            "  0.36933185 0.45760131 0.76909035 0.47444617 0.14887108 0.38954767\n",
            "  0.22038453 0.58769092 0.28098057 0.60376026 0.55697078 0.58050348\n",
            "  0.60481911 0.56687639 0.71875023 0.39475068 0.18983096 0.52111998\n",
            "  0.64340499 0.33782169 0.57473001 0.3185717  0.58934474 0.32575904\n",
            "  0.44746515 0.63655985 0.77917171 0.76438993 0.58674196 0.52697086\n",
            "  0.26914117 0.35679274 0.06826544 0.6381161  0.59493187 0.23290466\n",
            "  0.26603704 0.19349145 0.57810131 0.46886337 0.73751937 0.58042418\n",
            "  0.3716255  0.25439031 0.4060233  0.27068982 0.54269085 0.24894828\n",
            "  0.34440256 0.23184648 0.31982756 0.32609881 0.3293735  0.43536131\n",
            "  0.64344931 0.28588952 0.60508652 0.79066466 0.48932324 0.2259861\n",
            "  0.57201919 0.0318715  0.2380211  0.35304197 0.57765499 0.06663206\n",
            "  0.85853669 0.33671925 0.76711387 0.         0.49086825 0.64559659\n",
            "  0.3387204  0.29207873 0.69738745 0.45132232 0.24527815 0.86673827\n",
            "  0.17093408 0.70647029 0.25685331 0.64676596 0.78406113 0.48633843\n",
            "  0.34366054 0.34669647 0.39611219 0.42091172]\n",
            " [0.55730769 0.17848321 0.53360544 0.50484378 0.42134868 0.32784989\n",
            "  0.88112443 0.81220916 0.42330285 0.80539992 0.3510161  0.74754307\n",
            "  0.8451684  0.38124305 0.63056386 0.25529259 0.38987757 0.68294765\n",
            "  0.55990461 0.3602508  0.50750755 0.50841611 0.29603499 0.18867424\n",
            "  0.16210992 0.29399086 0.58993309 0.62450502 0.62867504 0.68633457\n",
            "  0.35272977 0.17480608 0.70870499 0.79146328 0.60554371 0.41357335\n",
            "  0.40299439 0.38061307 0.45891335 0.60969984 0.27643431 0.76216633\n",
            "  0.40566249 0.8301058  0.50466158 0.48922891 0.80919803 0.48064674\n",
            "  0.38502476 0.54689857 0.25674579 0.13163428 0.54286562 0.29582647\n",
            "  0.42719115 0.61209715 0.74333184 0.65491794 0.15782827 0.43419401\n",
            "  0.75092802 0.49948873 0.47038995 0.7901369  0.41162404 0.61374189\n",
            "  0.68990674 0.74428448 0.64430979 0.52318099 0.07887229 0.70554571\n",
            "  0.08690068 0.51143643 0.25934101 0.28234444 0.36169866 0.55722718\n",
            "  0.54553722 0.80383365 0.39776043 0.49086825 0.         0.28387576\n",
            "  0.2075515  0.51342491 0.48136067 0.53250905 0.73614635 0.60447386\n",
            "  0.5892872  0.46882855 0.71479892 0.48603061 0.48303696 0.22842465\n",
            "  0.6726057  0.76781356 0.4545221  0.49315271]\n",
            " [0.82860327 0.44529349 0.79590456 0.72275406 0.67695046 0.50340615\n",
            "  1.15523233 1.09213055 0.6576709  1.02015223 0.52394973 0.8006124\n",
            "  1.01466103 0.6634455  0.9071752  0.53914246 0.50426412 0.92778252\n",
            "  0.78162566 0.63804157 0.52444657 0.79177773 0.57401152 0.09527788\n",
            "  0.394063   0.57011855 0.86902678 0.88039797 0.71844402 0.95699261\n",
            "  0.61784747 0.42360018 0.98428414 0.88722559 0.88836667 0.67616868\n",
            "  0.31404995 0.1371637  0.70016896 0.88480224 0.07012334 1.02380241\n",
            "  0.43855549 1.00236999 0.68440342 0.76965628 1.07621654 0.52431506\n",
            "  0.63440561 0.61352362 0.07014723 0.19610852 0.81441164 0.56939143\n",
            "  0.6975131  0.65855592 0.97919077 0.70508696 0.42730505 0.47368389\n",
            "  0.96256617 0.5432833  0.46449499 0.97063341 0.67504715 0.87882127\n",
            "  0.97245769 0.83011786 0.92658823 0.77786727 0.36084294 0.81806981\n",
            "  0.30079274 0.67419612 0.46788813 0.55277517 0.16452367 0.7089725\n",
            "  0.7805729  0.89177959 0.62209637 0.64559659 0.28387576 0.\n",
            "  0.46770972 0.52439353 0.75253761 0.80740235 0.87490996 0.85445437\n",
            "  0.78698868 0.73626223 0.80409014 0.7653703  0.72959055 0.16131107\n",
            "  0.90713716 0.82059213 0.72707892 0.76676841]\n",
            " [0.47784599 0.03216943 0.48010051 0.3063216  0.39889121 0.19169572\n",
            "  0.68803791 0.63040301 0.21952473 0.60284209 0.21001547 0.64629548\n",
            "  0.66197158 0.22061189 0.52812863 0.15486146 0.29522672 0.4753984\n",
            "  0.35813023 0.28451749 0.46526287 0.37563118 0.23667386 0.37563889\n",
            "  0.27310982 0.24391253 0.48007401 0.41832372 0.51123833 0.48930722\n",
            "  0.32233144 0.04738589 0.51819066 0.65670755 0.43881345 0.20937738\n",
            "  0.46260437 0.53156085 0.4569903  0.51396305 0.43872951 0.55853945\n",
            "  0.37682397 0.64580708 0.33113815 0.38085156 0.60896203 0.42306457\n",
            "  0.17757305 0.45829269 0.42137254 0.27555135 0.46401073 0.2554332\n",
            "  0.23023613 0.52979155 0.53625491 0.56463174 0.2054859  0.39155029\n",
            "  0.55000486 0.43776861 0.45384304 0.60251014 0.20795838 0.41182282\n",
            "  0.51970948 0.61960094 0.47336459 0.48742808 0.16868043 0.56462264\n",
            "  0.26557586 0.350318   0.11277279 0.08841781 0.49354783 0.3999058\n",
            "  0.54165735 0.67375919 0.43293303 0.3387204  0.2075515  0.46770972\n",
            "  0.         0.47458927 0.41042681 0.3417812  0.57536674 0.56917969\n",
            "  0.39860381 0.41040218 0.58984501 0.3836781  0.46816889 0.35556423\n",
            "  0.46594061 0.66517773 0.26057003 0.30057061]\n",
            " [0.94879487 0.48756411 0.95456657 0.46579966 0.87022556 0.30485359\n",
            "  0.99171621 0.98048843 0.4726921  0.67660538 0.29973201 0.27827538\n",
            "  0.58590224 0.66825976 0.98928235 0.62928532 0.19466686 0.68156862\n",
            "  0.51171369 0.75905192 0.01131342 0.82689267 0.70969941 0.50011372\n",
            "  0.6694717  0.71577725 0.93931638 0.68209031 0.23038935 0.80471594\n",
            "  0.79333786 0.44380945 0.85546089 0.38422434 0.84507974 0.56883929\n",
            "  0.2283785  0.45680197 0.92468853 0.97867252 0.45455397 0.81811634\n",
            "  0.10782911 0.57961926 0.36014662 0.84556599 0.88565787 0.06149695\n",
            "  0.50308869 0.12570009 0.45586001 0.41933967 0.935377   0.72595611\n",
            "  0.61345316 0.14009373 0.69601756 0.18520737 0.63392318 0.08370843\n",
            "  0.62201998 0.06046357 0.0611934  0.56642952 0.57128659 0.71697415\n",
            "  0.90984621 0.32369754 0.86770072 0.9616097  0.55482611 0.33908225\n",
            "  0.59895461 0.32099239 0.36718604 0.53532221 0.39534563 0.31917993\n",
            "  1.01131235 0.38269496 0.88590154 0.29207873 0.51342491 0.52439353\n",
            "  0.47458927 0.         0.88402663 0.71255032 0.42059661 1.04364541\n",
            "  0.4594575  0.88492377 0.30290961 0.85062016 0.93921956 0.37489074\n",
            "  0.6354547  0.29777425 0.64338752 0.67610216]\n",
            " [0.07617522 0.4024257  0.07502511 0.57261564 0.10880585 0.58755512\n",
            "  0.59031682 0.48359055 0.49306449 0.77389447 0.59999505 1.02641274\n",
            "  0.91543219 0.24241882 0.16002925 0.25827211 0.69807988 0.58827817\n",
            "  0.59059099 0.12816051 0.87440739 0.15159533 0.18856531 0.66122453\n",
            "  0.36429809 0.18830676 0.1361317  0.50536556 0.88610785 0.46415707\n",
            "  0.13662871 0.44684583 0.44359789 1.00415785 0.28617123 0.38693051\n",
            "  0.85596337 0.86127848 0.15306417 0.13484936 0.75635147 0.56976695\n",
            "  0.78723473 0.89764994 0.65973494 0.08844034 0.57654746 0.83049096\n",
            "  0.43513471 0.85450244 0.73652172 0.60915195 0.06188722 0.18553419\n",
            "  0.34788967 0.92590333 0.66243659 0.95527649 0.32640825 0.8014817\n",
            "  0.74231739 0.84395824 0.86417739 0.84870017 0.382633   0.45268768\n",
            "  0.34994719 0.98071344 0.32253724 0.10298993 0.40327183 0.9112271\n",
            "  0.45248934 0.6954236  0.51730373 0.35341218 0.84242297 0.74267761\n",
            "  0.18999296 1.02570318 0.2230578  0.69738745 0.48136067 0.75253761\n",
            "  0.41042681 0.88402663 0.         0.34610561 0.89103524 0.16997227\n",
            "  0.66987886 0.02873645 0.95257771 0.07391966 0.13065388 0.70582796\n",
            "  0.6185843  1.04345313 0.33861789 0.34155086]\n",
            " [0.36332974 0.36216716 0.41319468 0.28220232 0.42332256 0.41720595\n",
            "  0.34867904 0.29022899 0.24113142 0.42832498 0.41624613 0.77154174\n",
            "  0.58139994 0.16919758 0.34806374 0.30274316 0.51965476 0.24219553\n",
            "  0.27585707 0.30711372 0.70140232 0.20156805 0.33247304 0.71370101\n",
            "  0.51812345 0.34470504 0.30204159 0.15927055 0.63453286 0.15696774\n",
            "  0.3829756  0.38825523 0.1768846  0.71578208 0.13844563 0.14924741\n",
            "  0.77558528 0.87233113 0.48535161 0.35254376 0.78050885 0.24958848\n",
            "  0.64294988 0.56374427 0.39307653 0.26009654 0.28289417 0.65150561\n",
            "  0.21298261 0.64014574 0.76308609 0.61723187 0.35686056 0.35782483\n",
            "  0.11328736 0.70502196 0.31646499 0.72154658 0.44398659 0.64219489\n",
            "  0.3998296  0.65833261 0.71625897 0.51496151 0.14808102 0.10985989\n",
            "  0.19747809 0.706351   0.15540016 0.44855294 0.46759632 0.62815618\n",
            "  0.56152398 0.43631198 0.38691351 0.25479814 0.83151882 0.4738096\n",
            "  0.53599227 0.74002281 0.52465376 0.45132232 0.53250905 0.80740235\n",
            "  0.3417812  0.71255032 0.34610561 0.         0.58665243 0.50250314\n",
            "  0.36194707 0.36883156 0.68176173 0.27390792 0.47166088 0.69564255\n",
            "  0.27440232 0.78510218 0.08157116 0.04156494]\n",
            " [0.93096887 0.60531765 0.96558973 0.31856407 0.9280116  0.40832361\n",
            "  0.7292958  0.76390627 0.40091604 0.3138153  0.38519291 0.25522131\n",
            "  0.1677505  0.64947819 0.93202723 0.69675539 0.37132849 0.41822193\n",
            "  0.31089968 0.7959391  0.41276814 0.77321656 0.77580272 0.8174463\n",
            "  0.84614872 0.78687242 0.8838264  0.46819356 0.19280832 0.59348418\n",
            "  0.85968894 0.58000939 0.65169926 0.14074576 0.71971055 0.50410509\n",
            "  0.63232249 0.84617953 0.99278019 0.93316862 0.81165525 0.55365336\n",
            "  0.45503776 0.16459575 0.24547865 0.81939998 0.61961152 0.38284275\n",
            "  0.4610185  0.29552561 0.80555998 0.70826225 0.92130343 0.80120946\n",
            "  0.54438314 0.30083854 0.38927336 0.27609555 0.78084808 0.42355107\n",
            "  0.27669135 0.36960065 0.47278488 0.16735561 0.50840553 0.52574246\n",
            "  0.7505807  0.16247923 0.72246687 0.99050351 0.73246046 0.09190171\n",
            "  0.81699307 0.22665587 0.48155897 0.57232834 0.78470681 0.17906376\n",
            "  1.06631455 0.16671264 0.99189916 0.24527815 0.73614635 0.87490996\n",
            "  0.57536674 0.42059661 0.89103524 0.58665243 0.         1.06035176\n",
            "  0.225377   0.90499856 0.15575068 0.83044744 0.99282805 0.71364918\n",
            "  0.36260218 0.25758207 0.55900902 0.5697094 ]\n",
            " [0.14079409 0.55698052 0.09497623 0.74180531 0.183299   0.75222944\n",
            "  0.6911239  0.57759901 0.66300427 0.92999433 0.76580703 1.19513781\n",
            "  1.07981115 0.41236257 0.20010678 0.41437127 0.86154749 0.74211983\n",
            "  0.75776368 0.2855441  1.03440438 0.30096588 0.33493952 0.76935347\n",
            "  0.46132771 0.33022143 0.22130929 0.65995093 1.05502876 0.59995225\n",
            "  0.25644026 0.60130219 0.56839017 1.17412624 0.41484906 0.55637177\n",
            "  0.99714389 0.97469907 0.15586598 0.17798311 0.86959822 0.70468935\n",
            "  0.94382967 1.06204085 0.82969842 0.24463323 0.69950157 0.99200893\n",
            "  0.60509467 1.02034168 0.84988973 0.73594218 0.14576077 0.32202432\n",
            "  0.51636879 1.09193455 0.81508678 1.12247672 0.44703842 0.9603739\n",
            "  0.90217369 1.00626414 1.01999012 1.01305019 0.55209924 0.60369289\n",
            "  0.45716635 1.15051047 0.44314888 0.08300932 0.53097199 1.08119841\n",
            "  0.55673526 0.86522718 0.67924099 0.51963982 0.96398194 0.91259774\n",
            "  0.09646143 1.19567192 0.24253464 0.86673827 0.60447386 0.85445437\n",
            "  0.56917969 1.04364541 0.16997227 0.50250314 1.06035176 0.\n",
            "  0.83828503 0.16104289 1.12229403 0.2320929  0.12490304 0.8328925\n",
            "  0.77690533 1.21237574 0.50500725 0.5038071 ]\n",
            " [0.70697391 0.4306511  0.74389758 0.10080511 0.7141596  0.28360201\n",
            "  0.55023017 0.56387408 0.19179666 0.23659015 0.26323305 0.42636458\n",
            "  0.26514617 0.43056532 0.70665096 0.49506138 0.31388444 0.23043691\n",
            "  0.08627175 0.58182483 0.44861596 0.54828176 0.56909642 0.7121218\n",
            "  0.6702505  0.58089356 0.65848076 0.25744493 0.30148664 0.38690283\n",
            "  0.6496168  0.41724345 0.44425019 0.35470193 0.49666771 0.28444412\n",
            "  0.61567114 0.79375045 0.77943307 0.70790103 0.73376144 0.37161947\n",
            "  0.43930992 0.24841756 0.10903527 0.59579915 0.44031168 0.40200792\n",
            "  0.25128602 0.34892773 0.7227621  0.59845863 0.69766739 0.59561304\n",
            "  0.32202328 0.39640578 0.23656855 0.39786004 0.59858561 0.41987746\n",
            "  0.1783842  0.39900372 0.49042001 0.20398562 0.28881163 0.31018671\n",
            "  0.53338506 0.35091356 0.5021639  0.7707015  0.56628346 0.27023022\n",
            "  0.66024118 0.13983849 0.33251978 0.37278893 0.73695288 0.14592034\n",
            "  0.84928959 0.37941226 0.78702594 0.17093408 0.5892872  0.78698868\n",
            "  0.39860381 0.4594575  0.66987886 0.36194707 0.225377   0.83828503\n",
            "  0.         0.68532658 0.32923853 0.6072359  0.77681081 0.63316317\n",
            "  0.17918172 0.43696755 0.3346498  0.34433714]\n",
            " [0.09465735 0.4002179  0.06977433 0.58710148 0.08087109 0.59150008\n",
            "  0.6188366  0.51229546 0.50546781 0.79563157 0.60485919 1.03435613\n",
            "  0.93371158 0.25552182 0.18347839 0.25629638 0.70119952 0.6109556\n",
            "  0.60736376 0.12588469 0.87550405 0.17788622 0.1812125  0.6459396\n",
            "  0.34541945 0.17907217 0.1633072  0.52803287 0.89436682 0.49048262\n",
            "  0.1184211  0.44470495 0.47108966 1.01581888 0.31385673 0.40131354\n",
            "  0.84941397 0.84751871 0.12484434 0.15726818 0.74236319 0.59596725\n",
            "  0.78655259 0.9159374  0.67108409 0.11469472 0.60394247 0.83243079\n",
            "  0.44667726 0.85942706 0.72251758 0.59801056 0.08157001 0.17418368\n",
            "  0.36395231 0.93099533 0.68528971 0.96143401 0.31224828 0.80195246\n",
            "  0.76282561 0.84637972 0.86318235 0.86705357 0.39697339 0.47642665\n",
            "  0.37852774 0.99088937 0.35063864 0.08550602 0.39154467 0.92263562\n",
            "  0.43560076 0.70573477 0.51931164 0.35860364 0.83046808 0.75354631\n",
            "  0.16786201 1.03698286 0.19461246 0.70647029 0.46882855 0.73626223\n",
            "  0.41040218 0.88492377 0.02873645 0.36883156 0.90499856 0.16104289\n",
            "  0.68532658 0.         0.96248618 0.10017566 0.10419086 0.69498954\n",
            "  0.63983948 1.05169142 0.35672887 0.36208377]\n",
            " [1.00173418 0.61575092 1.02755054 0.39986508 0.97315128 0.40162331\n",
            "  0.86766165 0.8912297  0.46295635 0.46692705 0.38103005 0.10205601\n",
            "  0.3176721  0.71129026 1.01557572 0.73056318 0.32553612 0.54947328\n",
            "  0.41294587 0.84446599 0.2977815  0.85157937 0.81340408 0.76072788\n",
            "  0.84613795 0.8231186  0.965748   0.58637529 0.08746552 0.7154818\n",
            "  0.89998575 0.58182665 0.7731257  0.08330405 0.81944041 0.57334886\n",
            "  0.52896485 0.75408321 1.03584981 1.01298263 0.73660572 0.68939779\n",
            "  0.36643112 0.31732218 0.29532144 0.89006676 0.75712218 0.28265394\n",
            "  0.51826719 0.19124434 0.73395955 0.65999883 0.99061137 0.83649597\n",
            "  0.61791569 0.166316   0.53168469 0.13025862 0.78959446 0.33160243\n",
            "  0.42536249 0.26507188 0.36183007 0.32308908 0.57730219 0.63929233\n",
            "  0.86144806 0.029874   0.82840435 1.04698229 0.72790301 0.06650618\n",
            "  0.80039821 0.25727976 0.48189911 0.60983981 0.69207605 0.21163131\n",
            "  1.11538911 0.08973    1.02158108 0.25685331 0.71479892 0.80409014\n",
            "  0.58984501 0.30290961 0.95257771 0.68176173 0.15575068 1.12229403\n",
            "  0.32923853 0.96248618 0.         0.89944019 1.04091438 0.64483621\n",
            "  0.49423537 0.10896204 0.63873387 0.65751654]\n",
            " [0.10236649 0.38130764 0.13985113 0.51204603 0.17221087 0.54888103\n",
            "  0.52195751 0.41802316 0.43697496 0.70218746 0.55912236 0.97705687\n",
            "  0.84789255 0.18939446 0.14691514 0.24178944 0.66047442 0.51579324\n",
            "  0.52596357 0.12764417 0.84057461 0.07778712 0.19137332 0.6717503\n",
            "  0.3895875  0.19592765 0.10390597 0.43296269 0.83646862 0.39043358\n",
            "  0.17231855 0.42465246 0.37122011 0.94754464 0.21437233 0.32794316\n",
            "  0.84107462 0.86609386 0.22443394 0.1304444  0.7624124  0.4959905\n",
            "  0.75803674 0.8301168  0.60471855 0.01454853 0.50395704 0.79489181\n",
            "  0.38135853 0.81207084 0.74275738 0.60834695 0.09130621 0.19880743\n",
            "  0.28610452 0.88285415 0.58975451 0.90983868 0.33913832 0.76945777\n",
            "  0.67200475 0.80719084 0.83534913 0.78112636 0.32378147 0.3794535\n",
            "  0.28274304 0.92698854 0.25211517 0.17485994 0.4071846  0.85528005\n",
            "  0.47014561 0.64231005 0.48389164 0.31533898 0.84219457 0.68826472\n",
            "  0.26331135 0.96976866 0.28630284 0.64676596 0.48603061 0.7653703\n",
            "  0.3836781  0.85062016 0.07391966 0.27390792 0.83044744 0.2320929\n",
            "  0.6072359  0.10017566 0.89944019 0.         0.20413412 0.70334904\n",
            "  0.54752479 0.99345779 0.27316499 0.27215458]\n",
            " [0.16417728 0.45196901 0.09797389 0.67715766 0.06927768 0.65699452\n",
            "  0.7181649  0.60941875 0.59191495 0.89695664 0.67265113 1.10761931\n",
            "  1.02979164 0.34674231 0.25398418 0.31497026 0.7633188  0.71344709\n",
            "  0.70155646 0.19733731 0.93045703 0.28191814 0.23174886 0.6448808\n",
            "  0.33680194 0.22428523 0.24973778 0.63059178 0.96896253 0.5945637\n",
            "  0.14604319 0.49543413 0.57412335 1.09825372 0.4166009  0.49252106\n",
            "  0.87979363 0.8504484  0.03429736 0.2266938  0.74546194 0.70009437\n",
            "  0.83676667 1.01205543 0.75413401 0.21868008 0.70711205 0.8901577\n",
            "  0.53193039 0.92542304 0.72579762 0.61467115 0.15736854 0.21338497\n",
            "  0.45838148 0.99708057 0.78789647 1.03027202 0.32674687 0.85554926\n",
            "  0.86259051 0.90541333 0.91183491 0.96335417 0.48814838 0.57989278\n",
            "  0.47771119 1.06987559 0.45233933 0.05823575 0.41156755 1.00475346\n",
            "  0.43241805 0.78622965 0.58050609 0.43127371 0.8408764  0.83507915\n",
            "  0.07449655 1.1184722  0.12387872 0.78406113 0.48303696 0.72959055\n",
            "  0.46816889 0.93921956 0.13065388 0.47166088 0.99282805 0.12490304\n",
            "  0.77681081 0.10419086 1.04091438 0.20413412 0.         0.71130061\n",
            "  0.74073361 1.12565721 0.45431528 0.46275462]\n",
            " [0.78116819 0.3409993  0.7608807  0.57579327 0.6497295  0.35112727\n",
            "  1.03770499 0.98534313 0.5190645  0.86839933 0.37024648 0.64659112\n",
            "  0.85475288 0.57031967 0.84982274 0.4632797  0.34333046 0.78886273\n",
            "  0.63488059 0.58122468 0.37344815 0.71498313 0.51793723 0.12662556\n",
            "  0.3824875  0.51752476 0.80649724 0.7488998  0.5586188  0.83732034\n",
            "  0.58024807 0.30831134 0.87068782 0.72775288 0.79305967 0.55454503\n",
            "  0.19455021 0.17690683 0.68661546 0.83053889 0.10077424 0.89466069\n",
            "  0.28161889 0.84277587 0.5282903  0.70475726 0.95128582 0.36785063\n",
            "  0.50471302 0.45520852 0.0920849  0.09713141 0.76668226 0.52095862\n",
            "  0.58271057 0.50403756 0.83532117 0.55052447 0.38602955 0.31668183\n",
            "  0.8104111  0.38720384 0.31763104 0.81216062 0.55417246 0.75464964\n",
            "  0.87484417 0.67139026 0.82848558 0.75148855 0.30361434 0.65715516\n",
            "  0.2894843  0.51557815 0.32799005 0.44397337 0.1398603  0.54887725\n",
            "  0.77271345 0.73315429 0.62162462 0.48633843 0.22842465 0.16131107\n",
            "  0.35556423 0.37489074 0.70582796 0.69564255 0.71364918 0.8328925\n",
            "  0.63316317 0.69498954 0.64483621 0.70334904 0.71130061 0.\n",
            "  0.76354098 0.66682125 0.61407671 0.65413553]\n",
            " [0.6375284  0.49678992 0.6871959  0.1895767  0.68701791 0.41660273\n",
            "  0.37430252 0.4013041  0.25134476 0.15657559 0.40132259 0.5948743\n",
            "  0.31487816 0.40579956 0.6152675  0.51116293 0.47504303 0.05570677\n",
            "  0.13176745 0.56087997 0.62442911 0.47595778 0.56830196 0.82336831\n",
            "  0.71574149 0.58093972 0.57222272 0.12063592 0.47764688 0.23374521\n",
            "  0.63573693 0.49905363 0.29159605 0.50274265 0.38571592 0.28050262\n",
            "  0.77507283 0.93352241 0.75114456 0.62288905 0.86174624 0.1954801\n",
            "  0.60518726 0.29777994 0.27628214 0.53395895 0.26375701 0.576564\n",
            "  0.28898158 0.52779571 0.8482455  0.7119264  0.63124532 0.59553573\n",
            "  0.29580105 0.57526999 0.07205388 0.57483853 0.63958076 0.58952466\n",
            "  0.12609017 0.57506022 0.66232251 0.25065092 0.28413303 0.18111085\n",
            "  0.39903785 0.51188004 0.37841277 0.72147735 0.63051711 0.43024735\n",
            "  0.72920747 0.31450401 0.43925409 0.40776087 0.8804964  0.32509893\n",
            "  0.80767023 0.52862308 0.77896929 0.34366054 0.6726057  0.90713716\n",
            "  0.46594061 0.6354547  0.6185843  0.27440232 0.36260218 0.77690533\n",
            "  0.17918172 0.63983948 0.49423537 0.54752479 0.74073361 0.76354098\n",
            "  0.         0.6031974  0.29027465 0.27798963]\n",
            " [1.09580832 0.6884982  1.11813486 0.50292942 1.05709298 0.47361265\n",
            "  0.97655057 0.99981057 0.55979218 0.57132731 0.45540611 0.02046785\n",
            "  0.40870574 0.80428643 1.11401368 0.81208747 0.38117817 0.65842633\n",
            "  0.51962704 0.93095971 0.29660174 0.94912027 0.89553749 0.78899925\n",
            "  0.90914314 0.90453734 1.06386375 0.69437249 0.15735259 0.82368045\n",
            "  0.98241441 0.65111402 0.88117852 0.13592781 0.92327364 0.67049818\n",
            "  0.52416508 0.75337148 1.11841052 1.11019141 0.75111961 0.79834309\n",
            "  0.38579265 0.4111909  0.39412273 0.98474449 0.86602662 0.29988381\n",
            "  0.61246953 0.22122237 0.75134633 0.69684077 1.08420808 0.91733158\n",
            "  0.71583457 0.16284168 0.6399968  0.11652344 0.85814977 0.35112905\n",
            "  0.53202262 0.28028504 0.35886063 0.4234169  0.67429036 0.74651594\n",
            "  0.96763089 0.09512775 0.93364554 1.13524272 0.79038216 0.174108\n",
            "  0.8545967  0.35312596 0.55370936 0.69494328 0.6923412  0.3115795\n",
            "  1.20010269 0.11810505 1.09800915 0.34669647 0.76781356 0.82059213\n",
            "  0.66517773 0.29777425 1.04345313 0.78510218 0.25758207 1.21237574\n",
            "  0.43696755 1.05169142 0.10896204 0.99345779 1.12565721 0.66682125\n",
            "  0.6031974  0.         0.73828355 0.75915587]\n",
            " [0.37232986 0.2818196  0.41136783 0.24225717 0.39784059 0.34312731\n",
            "  0.42819654 0.37168126 0.18051285 0.44670413 0.34439965 0.72342835\n",
            "  0.57702553 0.11619664 0.37699795 0.23718873 0.44908749 0.27248657\n",
            "  0.25280098 0.27060592 0.63238718 0.21464137 0.28170368 0.63376493\n",
            "  0.45225272 0.29434358 0.32746162 0.19441204 0.58402136 0.23181887\n",
            "  0.34557546 0.30684956 0.25762754 0.68057044 0.2018954  0.07454916\n",
            "  0.69643819 0.79078176 0.46252154 0.37565414 0.6992626  0.31377864\n",
            "  0.56892036 0.55924775 0.34425408 0.26137804 0.35555417 0.58298681\n",
            "  0.14029916 0.57899332 0.68194246 0.53611374 0.36314698 0.30857342\n",
            "  0.03226711 0.64625642 0.34583187 0.66643081 0.37655174 0.57027946\n",
            "  0.40907252 0.5911405  0.64348005 0.51034386 0.0721849  0.16484405\n",
            "  0.27247119 0.6649491  0.22774013 0.4410313  0.39244594 0.58984595\n",
            "  0.48833561 0.38543878 0.3074603  0.17432794 0.74999647 0.42750168\n",
            "  0.52386793 0.70372129 0.48887343 0.39611219 0.4545221  0.72707892\n",
            "  0.26057003 0.64338752 0.33861789 0.08157116 0.55900902 0.50500725\n",
            "  0.3346498  0.35672887 0.63873387 0.27316499 0.45431528 0.61407671\n",
            "  0.29027465 0.73828355 0.         0.04007554]\n",
            " [0.36734357 0.32147497 0.41192496 0.25797732 0.41011398 0.37840679\n",
            "  0.38868931 0.33178618 0.2073778  0.43423844 0.37838394 0.74496201\n",
            "  0.57606036 0.14005719 0.36235644 0.26927042 0.48245356 0.25326425\n",
            "  0.25959353 0.28771584 0.66501496 0.20595471 0.30627409 0.67329032\n",
            "  0.48498155 0.31876966 0.31418715 0.171793   0.60665368 0.19375551\n",
            "  0.36361953 0.34690946 0.21768908 0.69536781 0.16985545 0.10937352\n",
            "  0.73481747 0.83085133 0.47372232 0.3638161  0.73928617 0.28012086\n",
            "  0.60431269 0.55829755 0.36542288 0.25922254 0.31859664 0.61531273\n",
            "  0.17425746 0.6073014  0.72193458 0.57609481 0.35943454 0.33249757\n",
            "  0.07173732 0.67334467 0.32766058 0.69159463 0.40995663 0.60448297\n",
            "  0.40083131 0.62274278 0.67819742 0.50931222 0.10784439 0.13331728\n",
            "  0.23576934 0.682922   0.19207143 0.44454036 0.42969673 0.60610123\n",
            "  0.52469553 0.40785875 0.34596281 0.2140013  0.78995515 0.4475965\n",
            "  0.52994555 0.71911002 0.5066207  0.42091172 0.49315271 0.76676841\n",
            "  0.30057061 0.67610216 0.34155086 0.04156494 0.5697094  0.5038071\n",
            "  0.34433714 0.36208377 0.65751654 0.27215458 0.46275462 0.65413553\n",
            "  0.27798963 0.75915587 0.04007554 0.        ]]\n"
          ]
        }
      ],
      "source": [
        "Z = np.random.random((100,2))\n",
        "X,Y = np.atleast_2d(Z[:,0], Z[:,1])\n",
        "D = np.sqrt( (X-X.T)**2 + (Y-Y.T)**2)\n",
        "print(D)"
      ]
    },
    {
      "cell_type": "markdown",
      "metadata": {
        "id": "Ez-x7iKZxOX_"
      },
      "source": [
        "#### 53. How to convert a float (32 bits) array into an integer (32 bits) in place? \n",
        "(**hint**: astype(copy=False))"
      ]
    },
    {
      "cell_type": "code",
      "execution_count": 99,
      "metadata": {
        "id": "KNI_4icRxOYA",
        "colab": {
          "base_uri": "https://localhost:8080/"
        },
        "outputId": "d5f979d5-a312-47d0-bb97-6e5cab6ec2f9"
      },
      "outputs": [
        {
          "output_type": "stream",
          "name": "stdout",
          "text": [
            "[79 97 93 86  5 75 35 35  2 97]\n"
          ]
        }
      ],
      "source": [
        "Z = (np.random.rand(10)*100).astype(np.float32)\n",
        "Y = Z.view(np.int32)\n",
        "Y[:] = Z\n",
        "print(Y)"
      ]
    },
    {
      "cell_type": "markdown",
      "metadata": {
        "id": "wFhj0Lt3xOYB"
      },
      "source": [
        "#### 54. How to read the following file? (★★☆) \n",
        "(**hint**: np.genfromtxt)"
      ]
    },
    {
      "cell_type": "markdown",
      "metadata": {
        "id": "pUwvGVhYxOYC"
      },
      "source": [
        "```\n",
        "1, 2, 3, 4, 5\n",
        "6,  ,  , 7, 8\n",
        " ,  , 9,10,11\n",
        "```"
      ]
    },
    {
      "cell_type": "code",
      "execution_count": 105,
      "metadata": {
        "id": "ONcckmMxxOYD",
        "colab": {
          "base_uri": "https://localhost:8080/"
        },
        "outputId": "a345cf32-1954-41d6-d7a5-949377e4363a"
      },
      "outputs": [
        {
          "output_type": "stream",
          "name": "stdout",
          "text": [
            "[[ 1  2  3  4  5]\n",
            " [ 6 -1 -1  7  8]\n",
            " [-1 -1  9 10 11]]\n"
          ]
        },
        {
          "output_type": "stream",
          "name": "stderr",
          "text": [
            "<ipython-input-105-3967569a045e>:5: DeprecationWarning: `np.int` is a deprecated alias for the builtin `int`. To silence this warning, use `int` by itself. Doing this will not modify any behavior and is safe. When replacing `np.int`, you may wish to use e.g. `np.int64` or `np.int32` to specify the precision. If you wish to review your current use, check the release note link for additional information.\n",
            "Deprecated in NumPy 1.20; for more details and guidance: https://numpy.org/devdocs/release/1.20.0-notes.html#deprecations\n",
            "  Z = np.genfromtxt(s, delimiter=\",\", dtype=np.int)\n"
          ]
        }
      ],
      "source": [
        "from io import StringIO\n",
        "s=StringIO('''1, 2, 3, 4, 5\n",
        "6,  ,  , 7, 8\n",
        " ,  , 9,10,11''')\n",
        "Z = np.genfromtxt(s, delimiter=\",\", dtype=np.int)\n",
        "print(Z)"
      ]
    },
    {
      "cell_type": "markdown",
      "metadata": {
        "id": "6XTuLGXdxOYD"
      },
      "source": [
        "#### 55. What is the equivalent of enumerate for numpy arrays? (★★☆) \n",
        "(**hint**: np.ndenumerate, np.ndindex)"
      ]
    },
    {
      "cell_type": "code",
      "execution_count": 106,
      "metadata": {
        "id": "jeG9qv2mxOYE",
        "colab": {
          "base_uri": "https://localhost:8080/"
        },
        "outputId": "67ce7211-e7be-45df-f2c6-e45f33d1831d"
      },
      "outputs": [
        {
          "output_type": "stream",
          "name": "stdout",
          "text": [
            "(0, 0) 0\n",
            "(0, 1) 1\n",
            "(0, 2) 2\n",
            "(1, 0) 3\n",
            "(1, 1) 4\n",
            "(1, 2) 5\n",
            "(2, 0) 6\n",
            "(2, 1) 7\n",
            "(2, 2) 8\n",
            "(0, 0) 0\n",
            "(0, 1) 1\n",
            "(0, 2) 2\n",
            "(1, 0) 3\n",
            "(1, 1) 4\n",
            "(1, 2) 5\n",
            "(2, 0) 6\n",
            "(2, 1) 7\n",
            "(2, 2) 8\n"
          ]
        }
      ],
      "source": [
        "Z = np.arange(9).reshape(3,3)\n",
        "for index, value in np.ndenumerate(Z):\n",
        "    print(index, value)\n",
        "for index in np.ndindex(Z.shape):\n",
        "    print(index, Z[index])"
      ]
    },
    {
      "cell_type": "markdown",
      "metadata": {
        "id": "ZlBIXPxExOYF"
      },
      "source": [
        "#### 56. Generate a generic 2D Gaussian-like array (★★☆) \n",
        "(**hint**: np.meshgrid, np.exp)"
      ]
    },
    {
      "cell_type": "code",
      "execution_count": 107,
      "metadata": {
        "id": "WvGai7tjxOYF",
        "colab": {
          "base_uri": "https://localhost:8080/"
        },
        "outputId": "4d74495d-3df9-4940-a65d-429883c115d0"
      },
      "outputs": [
        {
          "output_type": "stream",
          "name": "stdout",
          "text": [
            "[[0.36787944 0.44822088 0.51979489 0.57375342 0.60279818 0.60279818\n",
            "  0.57375342 0.51979489 0.44822088 0.36787944]\n",
            " [0.44822088 0.54610814 0.63331324 0.69905581 0.73444367 0.73444367\n",
            "  0.69905581 0.63331324 0.54610814 0.44822088]\n",
            " [0.51979489 0.63331324 0.73444367 0.81068432 0.85172308 0.85172308\n",
            "  0.81068432 0.73444367 0.63331324 0.51979489]\n",
            " [0.57375342 0.69905581 0.81068432 0.89483932 0.9401382  0.9401382\n",
            "  0.89483932 0.81068432 0.69905581 0.57375342]\n",
            " [0.60279818 0.73444367 0.85172308 0.9401382  0.98773022 0.98773022\n",
            "  0.9401382  0.85172308 0.73444367 0.60279818]\n",
            " [0.60279818 0.73444367 0.85172308 0.9401382  0.98773022 0.98773022\n",
            "  0.9401382  0.85172308 0.73444367 0.60279818]\n",
            " [0.57375342 0.69905581 0.81068432 0.89483932 0.9401382  0.9401382\n",
            "  0.89483932 0.81068432 0.69905581 0.57375342]\n",
            " [0.51979489 0.63331324 0.73444367 0.81068432 0.85172308 0.85172308\n",
            "  0.81068432 0.73444367 0.63331324 0.51979489]\n",
            " [0.44822088 0.54610814 0.63331324 0.69905581 0.73444367 0.73444367\n",
            "  0.69905581 0.63331324 0.54610814 0.44822088]\n",
            " [0.36787944 0.44822088 0.51979489 0.57375342 0.60279818 0.60279818\n",
            "  0.57375342 0.51979489 0.44822088 0.36787944]]\n"
          ]
        }
      ],
      "source": [
        "X, Y = np.meshgrid(np.linspace(-1,1,10), np.linspace(-1,1,10))\n",
        "D = np.sqrt(X*X+Y*Y)\n",
        "sigma, mu = 1.0, 0.0\n",
        "G = np.exp(-( (D-mu)**2 / ( 2.0 * sigma**2 ) ) )\n",
        "print(G)"
      ]
    },
    {
      "cell_type": "markdown",
      "metadata": {
        "id": "NqzqM8bpxOYG"
      },
      "source": [
        "#### 57. How to randomly place p elements in a 2D array? (★★☆) \n",
        "(**hint**: np.put, np.random.choice)"
      ]
    },
    {
      "cell_type": "code",
      "execution_count": 108,
      "metadata": {
        "id": "MSHqL16HxOYI",
        "colab": {
          "base_uri": "https://localhost:8080/"
        },
        "outputId": "d392dd46-0403-47ec-ca56-5c99dd87bf44"
      },
      "outputs": [
        {
          "output_type": "stream",
          "name": "stdout",
          "text": [
            "[[0. 0. 0. 0. 0. 0. 0. 0. 0. 0.]\n",
            " [0. 0. 0. 0. 0. 0. 0. 0. 0. 0.]\n",
            " [0. 1. 0. 0. 0. 0. 0. 0. 0. 0.]\n",
            " [0. 0. 0. 0. 0. 0. 0. 0. 0. 0.]\n",
            " [0. 0. 0. 0. 0. 0. 0. 0. 0. 0.]\n",
            " [0. 0. 0. 0. 0. 0. 0. 0. 0. 0.]\n",
            " [0. 0. 0. 0. 0. 0. 0. 1. 0. 0.]\n",
            " [0. 0. 0. 0. 0. 0. 0. 0. 0. 0.]\n",
            " [0. 1. 0. 0. 0. 0. 0. 0. 0. 0.]\n",
            " [0. 0. 0. 0. 0. 0. 0. 0. 0. 0.]]\n"
          ]
        }
      ],
      "source": [
        "n = 10\n",
        "p = 3\n",
        "Z = np.zeros((n,n))\n",
        "np.put(Z, np.random.choice(range(n*n), p, replace=False),1)\n",
        "print(Z)"
      ]
    },
    {
      "cell_type": "markdown",
      "metadata": {
        "id": "dzuqGX1OxOYJ"
      },
      "source": [
        "#### 58. Subtract the mean of each row of a matrix (★★☆) \n",
        "(**hint**: mean(axis=,keepdims=))"
      ]
    },
    {
      "cell_type": "code",
      "execution_count": 109,
      "metadata": {
        "id": "uD1wAz6pxOYL",
        "colab": {
          "base_uri": "https://localhost:8080/"
        },
        "outputId": "b388c4cf-ee4f-4af3-85e8-6046daad5c65"
      },
      "outputs": [
        {
          "output_type": "stream",
          "name": "stdout",
          "text": [
            "[[ 0.03872822 -0.0367818  -0.1513761  -0.32211063 -0.00837427  0.2463135\n",
            "   0.0512634   0.31357861 -0.47653043  0.3452895 ]\n",
            " [ 0.41257263 -0.10059382 -0.14935145 -0.19774065  0.12262915  0.227302\n",
            "   0.27292038 -0.25914971 -0.44123391  0.11264537]\n",
            " [ 0.00834943  0.17208151  0.31483522  0.09477903 -0.36545393  0.1373655\n",
            "  -0.24179152  0.13230661 -0.54936536  0.29689351]\n",
            " [ 0.1518457   0.29142912  0.0169814  -0.09193118  0.07276957 -0.54285494\n",
            "   0.00178649  0.10159359  0.3513466  -0.35296636]\n",
            " [-0.13923854 -0.0446717  -0.37164522  0.18870469  0.28650958  0.15477847\n",
            "   0.42328811 -0.39216323  0.21690194 -0.3224641 ]]\n"
          ]
        }
      ],
      "source": [
        "X = np.random.rand(5, 10)\n",
        "\n",
        "# Recent versions of numpy\n",
        "Y = X - X.mean(axis=1, keepdims=True)\n",
        "\n",
        "# Older versions of numpy\n",
        "Y = X - X.mean(axis=1).reshape(-1, 1)\n",
        "\n",
        "print(Y)"
      ]
    },
    {
      "cell_type": "markdown",
      "metadata": {
        "id": "GWugP-tvxOYM"
      },
      "source": [
        "#### 59. How to sort an array by the nth column? (★★☆) \n",
        "(**hint**: argsort)"
      ]
    },
    {
      "cell_type": "code",
      "execution_count": 110,
      "metadata": {
        "id": "V8S6RPaixOYN",
        "colab": {
          "base_uri": "https://localhost:8080/"
        },
        "outputId": "3f05a139-c7c2-4a42-ed1a-1c8af1533af7"
      },
      "outputs": [
        {
          "output_type": "stream",
          "name": "stdout",
          "text": [
            "[[6 4 9]\n",
            " [6 6 0]\n",
            " [2 0 0]]\n",
            "[[2 0 0]\n",
            " [6 4 9]\n",
            " [6 6 0]]\n"
          ]
        }
      ],
      "source": [
        "Z = np.random.randint(0,10,(3,3))\n",
        "print(Z)\n",
        "print(Z[Z[:,1].argsort()])"
      ]
    },
    {
      "cell_type": "markdown",
      "metadata": {
        "id": "KperpMMJxOYO"
      },
      "source": [
        "#### 60. How to tell if a given 2D array has null columns? (★★☆) \n",
        "(**hint**: any, ~)"
      ]
    },
    {
      "cell_type": "code",
      "execution_count": 111,
      "metadata": {
        "id": "pzGFjfAhxOYO",
        "colab": {
          "base_uri": "https://localhost:8080/"
        },
        "outputId": "d6e80670-1967-4f89-d151-6565891bb2b0"
      },
      "outputs": [
        {
          "output_type": "stream",
          "name": "stdout",
          "text": [
            "False\n",
            "[False False  True]\n"
          ]
        }
      ],
      "source": [
        "Z = np.random.randint(0,3,(3,10))\n",
        "print((~Z.any(axis=0)).any())\n",
        "\n",
        "\n",
        "Z=np.array([\n",
        "    [0,1,np.nan],\n",
        "    [1,2,np.nan],\n",
        "    [4,5,np.nan]\n",
        "])\n",
        "print(np.isnan(Z).all(axis=0))"
      ]
    },
    {
      "cell_type": "markdown",
      "metadata": {
        "id": "gmITNNP8xOYP"
      },
      "source": [
        "#### 61. Find the nearest value from a given value in an array (★★☆) \n",
        "(**hint**: np.abs, argmin, flat)"
      ]
    },
    {
      "cell_type": "code",
      "execution_count": 112,
      "metadata": {
        "id": "pPK2tZu5xOYQ",
        "colab": {
          "base_uri": "https://localhost:8080/"
        },
        "outputId": "8d70fda3-9165-4391-f206-6e356acb8ef6"
      },
      "outputs": [
        {
          "output_type": "stream",
          "name": "stdout",
          "text": [
            "0.46420378105945515\n"
          ]
        }
      ],
      "source": [
        "Z = np.random.uniform(0,1,10)\n",
        "z = 0.5\n",
        "m = Z.flat[np.abs(Z - z).argmin()]\n",
        "print(m)"
      ]
    },
    {
      "cell_type": "markdown",
      "metadata": {
        "id": "F7VPMpxoxOYQ"
      },
      "source": [
        "#### 62. Considering two arrays with shape (1,3) and (3,1), how to compute their sum using an iterator? (★★☆) \n",
        "(**hint**: np.nditer)"
      ]
    },
    {
      "cell_type": "code",
      "execution_count": 113,
      "metadata": {
        "id": "IrvJeuaQxOYR",
        "colab": {
          "base_uri": "https://localhost:8080/"
        },
        "outputId": "df3c850f-f2ad-4109-f4a3-60b3cdd9ce27"
      },
      "outputs": [
        {
          "output_type": "stream",
          "name": "stdout",
          "text": [
            "[[0 1 2]\n",
            " [1 2 3]\n",
            " [2 3 4]]\n"
          ]
        }
      ],
      "source": [
        "A = np.arange(3).reshape(3,1)\n",
        "B = np.arange(3).reshape(1,3)\n",
        "it = np.nditer([A,B,None])\n",
        "for x,y,z in it: z[...] = x + y\n",
        "print(it.operands[2])"
      ]
    },
    {
      "cell_type": "markdown",
      "metadata": {
        "id": "LrKBi7kbxOYS"
      },
      "source": [
        "#### 63. Create an array class that has a name attribute (★★☆) \n",
        "(**hint**: class method)"
      ]
    },
    {
      "cell_type": "code",
      "execution_count": 26,
      "metadata": {
        "id": "vQ2yx_DGxOYS"
      },
      "outputs": [],
      "source": []
    },
    {
      "cell_type": "markdown",
      "metadata": {
        "id": "_aBqKu3vxOYT"
      },
      "source": [
        "#### 64. Consider a given vector, how to add 1 to each element indexed by a second vector (be careful with repeated indices)? (★★★) \n",
        "(**hint**: np.bincount | np.add.at)"
      ]
    },
    {
      "cell_type": "code",
      "execution_count": 114,
      "metadata": {
        "id": "d-iWcXWYxOYU",
        "colab": {
          "base_uri": "https://localhost:8080/"
        },
        "outputId": "5d6cea21-9a22-42b2-89ae-a1352f6d7e17"
      },
      "outputs": [
        {
          "output_type": "stream",
          "name": "stdout",
          "text": [
            "[3. 2. 4. 5. 1. 3. 1. 4. 4. 3.]\n",
            "[5. 3. 7. 9. 1. 5. 1. 7. 7. 5.]\n"
          ]
        }
      ],
      "source": [
        "Z = np.ones(10)\n",
        "I = np.random.randint(0,len(Z),20)\n",
        "Z += np.bincount(I, minlength=len(Z))\n",
        "print(Z)\n",
        "\n",
        "np.add.at(Z, I, 1)\n",
        "print(Z)"
      ]
    },
    {
      "cell_type": "markdown",
      "metadata": {
        "id": "3q6W3zQoxOYU"
      },
      "source": [
        "#### 65. How to accumulate elements of a vector (X) to an array (F) based on an index list (I)? (★★★) \n",
        "(**hint**: np.bincount)"
      ]
    },
    {
      "cell_type": "code",
      "execution_count": 26,
      "metadata": {
        "id": "8hcMQLXdxOYV"
      },
      "outputs": [],
      "source": []
    },
    {
      "cell_type": "markdown",
      "metadata": {
        "id": "y2yf7dT_xOYV"
      },
      "source": [
        "#### 66. Considering a (w,h,3) image of (dtype=ubyte), compute the number of unique colors (★★★) \n",
        "(**hint**: np.unique)"
      ]
    },
    {
      "cell_type": "code",
      "execution_count": 26,
      "metadata": {
        "id": "oxxaVQFOxOYW"
      },
      "outputs": [],
      "source": []
    },
    {
      "cell_type": "markdown",
      "metadata": {
        "id": "oQtx4UvYxOYY"
      },
      "source": [
        "#### 67. Considering a four dimensions array, how to get sum over the last two axis at once? (★★★) \n",
        "(**hint**: sum(axis=(-2,-1)))"
      ]
    },
    {
      "cell_type": "code",
      "execution_count": 26,
      "metadata": {
        "id": "HWo3DtNSxOYZ"
      },
      "outputs": [],
      "source": []
    },
    {
      "cell_type": "markdown",
      "metadata": {
        "id": "H3I3LTPOxOYa"
      },
      "source": [
        "#### 68. Considering a one-dimensional vector D, how to compute means of subsets of D using a vector S of same size describing subset  indices? (★★★) \n",
        "(**hint**: np.bincount)"
      ]
    },
    {
      "cell_type": "code",
      "execution_count": 26,
      "metadata": {
        "id": "0rQgeR75xOYc"
      },
      "outputs": [],
      "source": []
    },
    {
      "cell_type": "markdown",
      "metadata": {
        "id": "l5kDSXsAxOYd"
      },
      "source": [
        "#### 69. How to get the diagonal of a dot product? (★★★) \n",
        "(**hint**: np.diag)"
      ]
    },
    {
      "cell_type": "code",
      "execution_count": 26,
      "metadata": {
        "id": "Eg5GsVijxOYe"
      },
      "outputs": [],
      "source": []
    },
    {
      "cell_type": "markdown",
      "metadata": {
        "id": "fJIiShOYxOYf"
      },
      "source": [
        "#### 70. Consider the vector \\[1, 2, 3, 4, 5\\], how to build a new vector with 3 consecutive zeros interleaved between each value? (★★★) \n",
        "(**hint**: array\\[::4\\])"
      ]
    },
    {
      "cell_type": "code",
      "execution_count": 26,
      "metadata": {
        "id": "qGsO6Od0xOYg"
      },
      "outputs": [],
      "source": []
    },
    {
      "cell_type": "markdown",
      "metadata": {
        "id": "35M3bdaMxOYh"
      },
      "source": [
        "#### 71. Consider an array of dimension (5,5,3), how to mulitply it by an array with dimensions (5,5)? (★★★) \n",
        "(**hint**: array\\[:, :, None\\])"
      ]
    },
    {
      "cell_type": "code",
      "execution_count": 26,
      "metadata": {
        "collapsed": true,
        "id": "tnBXJdj7xOYi"
      },
      "outputs": [],
      "source": []
    },
    {
      "cell_type": "markdown",
      "metadata": {
        "id": "zJ8Z-HwyxOYj"
      },
      "source": [
        "#### 72. How to swap two rows of an array? (★★★) \n",
        "(**hint**: array\\[\\[\\]\\] = array\\[\\[\\]\\])"
      ]
    },
    {
      "cell_type": "code",
      "execution_count": 26,
      "metadata": {
        "id": "4l1kr8EixOYk"
      },
      "outputs": [],
      "source": []
    },
    {
      "cell_type": "markdown",
      "metadata": {
        "id": "uOFv_7WMxOYl"
      },
      "source": [
        "#### 73. Consider a set of 10 triplets describing 10 triangles (with shared vertices), find the set of unique line segments composing all the  triangles (★★★) \n",
        "(**hint**: repeat, np.roll, np.sort, view, np.unique)"
      ]
    },
    {
      "cell_type": "code",
      "execution_count": 26,
      "metadata": {
        "id": "VF2boD7sxOYn"
      },
      "outputs": [],
      "source": []
    },
    {
      "cell_type": "markdown",
      "metadata": {
        "id": "KFBuvI_dxOYn"
      },
      "source": [
        "#### 74. Given an array C that is a bincount, how to produce an array A such that np.bincount(A) == C? (★★★) \n",
        "(**hint**: np.repeat)"
      ]
    },
    {
      "cell_type": "code",
      "execution_count": 26,
      "metadata": {
        "id": "sM5RTjZCxOYr"
      },
      "outputs": [],
      "source": []
    },
    {
      "cell_type": "markdown",
      "metadata": {
        "id": "ForRtSI1xOYs"
      },
      "source": [
        "#### 75. How to compute averages using a sliding window over an array? (★★★) \n",
        "(**hint**: np.cumsum)"
      ]
    },
    {
      "cell_type": "code",
      "execution_count": 26,
      "metadata": {
        "id": "2zmqm0VoxOYt"
      },
      "outputs": [],
      "source": []
    },
    {
      "cell_type": "markdown",
      "metadata": {
        "id": "1nqT7B_qxOYu"
      },
      "source": [
        "#### 76. Consider a one-dimensional array Z, build a two-dimensional array whose first row is (Z\\[0\\],Z\\[1\\],Z\\[2\\]) and each subsequent row is  shifted by 1 (last row should be (Z\\[-3\\],Z\\[-2\\],Z\\[-1\\]) (★★★) \n",
        "(**hint**: from numpy.lib import stride_tricks)"
      ]
    },
    {
      "cell_type": "code",
      "execution_count": 26,
      "metadata": {
        "id": "pq7ULYpkxOYw"
      },
      "outputs": [],
      "source": []
    },
    {
      "cell_type": "markdown",
      "metadata": {
        "id": "zVQKLzGZxOYw"
      },
      "source": [
        "#### 77. How to negate a boolean, or to change the sign of a float inplace? (★★★) \n",
        "(**hint**: np.logical_not, np.negative)"
      ]
    },
    {
      "cell_type": "code",
      "execution_count": 26,
      "metadata": {
        "id": "N_xw2oQyxOYz"
      },
      "outputs": [],
      "source": []
    },
    {
      "cell_type": "markdown",
      "metadata": {
        "id": "qfEAmqB7xOY0"
      },
      "source": [
        "#### 78. Consider 2 sets of points P0,P1 describing lines (2d) and a point p, how to compute distance from p to each line i  (P0\\[i\\],P1\\[i\\])? (★★★)"
      ]
    },
    {
      "cell_type": "code",
      "execution_count": 26,
      "metadata": {
        "id": "LTagDPifxOY0"
      },
      "outputs": [],
      "source": []
    },
    {
      "cell_type": "markdown",
      "metadata": {
        "id": "2a6Bkz5BxOY1"
      },
      "source": [
        "#### 79. Consider 2 sets of points P0,P1 describing lines (2d) and a set of points P, how to compute distance from each point j (P\\[j\\]) to each line i (P0\\[i\\],P1\\[i\\])? (★★★)"
      ]
    },
    {
      "cell_type": "code",
      "execution_count": 26,
      "metadata": {
        "id": "B_qAxaqGxOY1"
      },
      "outputs": [],
      "source": []
    },
    {
      "cell_type": "markdown",
      "metadata": {
        "id": "OrEI40oKxOY2"
      },
      "source": [
        "#### 80. Consider an arbitrary array, write a function that extract a subpart with a fixed shape and centered on a given element (pad with a `fill` value when necessary) (★★★) \n",
        "(**hint**: minimum, maximum)"
      ]
    },
    {
      "cell_type": "code",
      "execution_count": 26,
      "metadata": {
        "id": "U2DrwDbSxOY3"
      },
      "outputs": [],
      "source": []
    },
    {
      "cell_type": "markdown",
      "metadata": {
        "id": "IbyfXSwixOY3"
      },
      "source": [
        "#### 81. Consider an array Z = \\[1,2,3,4,5,6,7,8,9,10,11,12,13,14\\], how to generate an array R = \\[\\[1,2,3,4\\], \\[2,3,4,5\\], \\[3,4,5,6\\], ..., \\[11,12,13,14\\]\\]? (★★★) \n",
        "(**hint**: stride\\_tricks.as\\_strided)"
      ]
    },
    {
      "cell_type": "code",
      "execution_count": 26,
      "metadata": {
        "id": "ac7OqA4ixOY4"
      },
      "outputs": [],
      "source": []
    },
    {
      "cell_type": "markdown",
      "metadata": {
        "id": "YyC6-GJ4xOY5"
      },
      "source": [
        "#### 82. Compute a matrix rank (★★★) \n",
        "(**hint**: np.linalg.svd) (suggestion: np.linalg.svd)"
      ]
    },
    {
      "cell_type": "code",
      "execution_count": 26,
      "metadata": {
        "id": "B8olSCJfxOY6"
      },
      "outputs": [],
      "source": []
    },
    {
      "cell_type": "markdown",
      "metadata": {
        "id": "Ty0jny2gxOY7"
      },
      "source": [
        "#### 83. How to find the most frequent value in an array? \n",
        "(**hint**: np.bincount, argmax)"
      ]
    },
    {
      "cell_type": "code",
      "execution_count": 26,
      "metadata": {
        "id": "oFU2HdZGxOY8"
      },
      "outputs": [],
      "source": []
    },
    {
      "cell_type": "markdown",
      "metadata": {
        "id": "M3L2PY76xOY9"
      },
      "source": [
        "#### 84. Extract all the contiguous 3x3 blocks from a random 10x10 matrix (★★★) \n",
        "(**hint**: stride\\_tricks.as\\_strided)"
      ]
    },
    {
      "cell_type": "code",
      "execution_count": 26,
      "metadata": {
        "id": "GnrVYEB3xOY-"
      },
      "outputs": [],
      "source": []
    },
    {
      "cell_type": "markdown",
      "metadata": {
        "id": "IMytiIzJxOY_"
      },
      "source": [
        "#### 85. Create a 2D array subclass such that Z\\[i,j\\] == Z\\[j,i\\] (★★★) \n",
        "(**hint**: class method)"
      ]
    },
    {
      "cell_type": "code",
      "execution_count": 26,
      "metadata": {
        "id": "HCohv2fNxOY_"
      },
      "outputs": [],
      "source": []
    },
    {
      "cell_type": "markdown",
      "metadata": {
        "id": "p-dcPPuoxOZA"
      },
      "source": [
        "#### 86. Consider a set of p matrices wich shape (n,n) and a set of p vectors with shape (n,1). How to compute the sum of of the p matrix products at once? (result has shape (n,1)) (★★★) \n",
        "(**hint**: np.tensordot)"
      ]
    },
    {
      "cell_type": "code",
      "execution_count": 26,
      "metadata": {
        "id": "vUGQjNPZxOZA"
      },
      "outputs": [],
      "source": []
    },
    {
      "cell_type": "markdown",
      "metadata": {
        "id": "n-nJQfFzxOZB"
      },
      "source": [
        "#### 87. Consider a 16x16 array, how to get the block-sum (block size is 4x4)? (★★★) \n",
        "(**hint**: np.add.reduceat)"
      ]
    },
    {
      "cell_type": "code",
      "execution_count": 26,
      "metadata": {
        "id": "5Ym6ev8NxOZC"
      },
      "outputs": [],
      "source": []
    },
    {
      "cell_type": "markdown",
      "metadata": {
        "id": "uZMv2AuOxOZC"
      },
      "source": [
        "#### 88. How to implement the Game of Life using numpy arrays? (★★★)"
      ]
    },
    {
      "cell_type": "code",
      "execution_count": 26,
      "metadata": {
        "id": "ebiEfL2dxOZD"
      },
      "outputs": [],
      "source": []
    },
    {
      "cell_type": "markdown",
      "metadata": {
        "id": "_HJtompwxOZD"
      },
      "source": [
        "#### 89. How to get the n largest values of an array (★★★) \n",
        "(**hint**: np.argsort | np.argpartition)"
      ]
    },
    {
      "cell_type": "code",
      "execution_count": 26,
      "metadata": {
        "id": "nJsEUeb2xOZE"
      },
      "outputs": [],
      "source": []
    },
    {
      "cell_type": "markdown",
      "metadata": {
        "id": "CBdzXpEixOZE"
      },
      "source": [
        "#### 90. Given an arbitrary number of vectors, build the cartesian product (every combinations of every item) (★★★) \n",
        "(**hint**: np.indices)"
      ]
    },
    {
      "cell_type": "code",
      "execution_count": 26,
      "metadata": {
        "scrolled": true,
        "id": "v7ULfbkuxOZF"
      },
      "outputs": [],
      "source": []
    },
    {
      "cell_type": "markdown",
      "metadata": {
        "id": "Bhe9yfDUxOZF"
      },
      "source": [
        "#### 91. How to create a record array from a regular array? (★★★) \n",
        "(**hint**: np.core.records.fromarrays)"
      ]
    },
    {
      "cell_type": "code",
      "execution_count": 26,
      "metadata": {
        "id": "yDtUAJZ9xOZG"
      },
      "outputs": [],
      "source": []
    },
    {
      "cell_type": "markdown",
      "metadata": {
        "id": "-c6RJx4QxOZG"
      },
      "source": [
        "#### 92. Consider a large vector Z, compute Z to the power of 3 using 3 different methods (★★★) \n",
        "(**hint**: np.power, \\*, np.einsum)"
      ]
    },
    {
      "cell_type": "code",
      "execution_count": 26,
      "metadata": {
        "id": "YwDRXnvgxOZH"
      },
      "outputs": [],
      "source": []
    },
    {
      "cell_type": "markdown",
      "metadata": {
        "id": "kyMDmOF8xOZI"
      },
      "source": [
        "#### 93. Consider two arrays A and B of shape (8,3) and (2,2). How to find rows of A that contain elements of each row of B regardless of the order of the elements in B? (★★★) \n",
        "(**hint**: np.where)"
      ]
    },
    {
      "cell_type": "code",
      "execution_count": 26,
      "metadata": {
        "id": "C4oMhY82xOZI"
      },
      "outputs": [],
      "source": []
    },
    {
      "cell_type": "markdown",
      "metadata": {
        "id": "hZLV3SmPxOZJ"
      },
      "source": [
        "#### 94. Considering a 10x3 matrix, extract rows with unequal values (e.g. \\[2,2,3\\]) (★★★)"
      ]
    },
    {
      "cell_type": "code",
      "execution_count": 26,
      "metadata": {
        "id": "YQ5ys39qxOZK"
      },
      "outputs": [],
      "source": []
    },
    {
      "cell_type": "markdown",
      "metadata": {
        "id": "_3BW_t72xOZL"
      },
      "source": [
        "#### 95. Convert a vector of ints into a matrix binary representation (★★★) \n",
        "(**hint**: np.unpackbits)"
      ]
    },
    {
      "cell_type": "code",
      "execution_count": 26,
      "metadata": {
        "id": "BYBjWHNyxOZM"
      },
      "outputs": [],
      "source": []
    },
    {
      "cell_type": "markdown",
      "metadata": {
        "id": "mUdM2wi2xOZO"
      },
      "source": [
        "#### 96. Given a two dimensional array, how to extract unique rows? (★★★) \n",
        "(**hint**: np.ascontiguousarray)"
      ]
    },
    {
      "cell_type": "code",
      "execution_count": 26,
      "metadata": {
        "id": "U5UVcFsxxOZP"
      },
      "outputs": [],
      "source": []
    },
    {
      "cell_type": "markdown",
      "metadata": {
        "id": "FtEO2bjyxOZP"
      },
      "source": [
        "#### 97. Considering 2 vectors A & B, write the einsum equivalent of inner, outer, sum, and mul function (★★★) \n",
        "(**hint**: np.einsum)"
      ]
    },
    {
      "cell_type": "code",
      "execution_count": 26,
      "metadata": {
        "id": "Ue5bUkA5xOZQ"
      },
      "outputs": [],
      "source": []
    },
    {
      "cell_type": "markdown",
      "metadata": {
        "id": "HkHFB8YQxOZQ"
      },
      "source": [
        "#### 98. Considering a path described by two vectors (X,Y), how to sample it using equidistant samples (★★★)? \n",
        "(**hint**: np.cumsum, np.interp)"
      ]
    },
    {
      "cell_type": "code",
      "execution_count": 26,
      "metadata": {
        "collapsed": true,
        "id": "baMwDpSIxOZR"
      },
      "outputs": [],
      "source": []
    },
    {
      "cell_type": "markdown",
      "metadata": {
        "id": "0Ykn97jVxOZS"
      },
      "source": [
        "#### 99. Given an integer n and a 2D array X, select from X the rows which can be interpreted as draws from a multinomial distribution with n degrees, i.e., the rows which only contain integers and which sum to n. (★★★) \n",
        "(**hint**: np.logical\\_and.reduce, np.mod)"
      ]
    },
    {
      "cell_type": "code",
      "execution_count": 26,
      "metadata": {
        "id": "kns6wFd-xOZT"
      },
      "outputs": [],
      "source": []
    },
    {
      "cell_type": "markdown",
      "metadata": {
        "id": "bzRbt47CxOZT"
      },
      "source": [
        "#### 100. Compute bootstrapped 95% confidence intervals for the mean of a 1D array X (i.e., resample the elements of an array with replacement N times, compute the mean of each sample, and then compute percentiles over the means). (★★★) \n",
        "(**hint**: np.percentile)"
      ]
    },
    {
      "cell_type": "code",
      "execution_count": 26,
      "metadata": {
        "id": "EMF6kVLHxOZU"
      },
      "outputs": [],
      "source": []
    }
  ],
  "metadata": {
    "kernelspec": {
      "display_name": "Python 3",
      "language": "python",
      "name": "python3"
    },
    "language_info": {
      "codemirror_mode": {
        "name": "ipython",
        "version": 3
      },
      "file_extension": ".py",
      "mimetype": "text/x-python",
      "name": "python",
      "nbconvert_exporter": "python",
      "pygments_lexer": "ipython3",
      "version": "3.8.3"
    },
    "colab": {
      "provenance": [],
      "collapsed_sections": [
        "KiIEHh_fxOXv",
        "LrKBi7kbxOYS",
        "3q6W3zQoxOYU",
        "y2yf7dT_xOYV",
        "oQtx4UvYxOYY",
        "H3I3LTPOxOYa",
        "l5kDSXsAxOYd",
        "fJIiShOYxOYf",
        "35M3bdaMxOYh",
        "zJ8Z-HwyxOYj",
        "uOFv_7WMxOYl",
        "KFBuvI_dxOYn",
        "ForRtSI1xOYs",
        "1nqT7B_qxOYu",
        "zVQKLzGZxOYw",
        "qfEAmqB7xOY0",
        "2a6Bkz5BxOY1",
        "OrEI40oKxOY2",
        "IbyfXSwixOY3",
        "YyC6-GJ4xOY5",
        "Ty0jny2gxOY7",
        "M3L2PY76xOY9",
        "IMytiIzJxOY_",
        "p-dcPPuoxOZA",
        "n-nJQfFzxOZB",
        "uZMv2AuOxOZC",
        "_HJtompwxOZD",
        "CBdzXpEixOZE",
        "Bhe9yfDUxOZF",
        "-c6RJx4QxOZG",
        "kyMDmOF8xOZI",
        "hZLV3SmPxOZJ",
        "_3BW_t72xOZL",
        "mUdM2wi2xOZO",
        "FtEO2bjyxOZP",
        "HkHFB8YQxOZQ",
        "0Ykn97jVxOZS",
        "bzRbt47CxOZT"
      ],
      "include_colab_link": true
    }
  },
  "nbformat": 4,
  "nbformat_minor": 0
}